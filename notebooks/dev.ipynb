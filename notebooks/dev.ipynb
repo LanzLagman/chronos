{
 "cells": [
  {
   "cell_type": "code",
   "execution_count": 1,
   "metadata": {
    "scrolled": true
   },
   "outputs": [
    {
     "name": "stdout",
     "output_type": "stream",
     "text": [
      "Created TAP+ (v1.2.1) - Connection:\n",
      "\tHost: gea.esac.esa.int\n",
      "\tUse HTTPS: True\n",
      "\tPort: 443\n",
      "\tSSL Port: 443\n",
      "Created TAP+ (v1.2.1) - Connection:\n",
      "\tHost: geadata.esac.esa.int\n",
      "\tUse HTTPS: True\n",
      "\tPort: 443\n",
      "\tSSL Port: 443\n"
     ]
    },
    {
     "name": "stderr",
     "output_type": "stream",
     "text": [
      "WARNING:root:Emcee3 not imported; be advised.\n"
     ]
    }
   ],
   "source": [
    "import chronos as cr\n",
    "from pprint import pprint"
   ]
  },
  {
   "cell_type": "raw",
   "metadata": {},
   "source": [
    "s = cr.Star(toiid=837)"
   ]
  },
  {
   "cell_type": "markdown",
   "metadata": {},
   "source": [
    "# Choosing catalog and/or cluster"
   ]
  },
  {
   "cell_type": "code",
   "execution_count": 2,
   "metadata": {},
   "outputs": [
    {
     "data": {
      "text/plain": [
       "['Bouma2019',\n",
       " 'Babusiaux2018',\n",
       " 'CantatGaudin2018',\n",
       " 'Bossini2019',\n",
       " 'Gagne2018',\n",
       " 'Dias2014',\n",
       " 'Karchenko2013',\n",
       " 'Cody2018']"
      ]
     },
     "execution_count": 2,
     "metadata": {},
     "output_type": "execute_result"
    }
   ],
   "source": [
    "cr.cluster.CATALOG_LIST"
   ]
  },
  {
   "cell_type": "raw",
   "metadata": {},
   "source": [
    "cc=cr.ClusterCatalog()\n",
    "cat = cc.query_catalog()\n",
    "cat.head() #age only from Karchenko+13 which is probably inaccurate"
   ]
  },
  {
   "cell_type": "raw",
   "metadata": {},
   "source": [
    "cc=cr.ClusterCatalog(catalog_name=\"Bossini2019\")\n",
    "cat = cc.query_catalog() #no cluster members list\n",
    "cat.head() "
   ]
  },
  {
   "cell_type": "raw",
   "metadata": {},
   "source": [
    "cat = cat.sort_values(by=[\"log10_age\",\"distance\"], ascending=True)\n",
    "cat[[\"Cluster\",\"log10_age\",\"distance\"]].head()"
   ]
  },
  {
   "cell_type": "markdown",
   "metadata": {},
   "source": [
    "## Gagne2018"
   ]
  },
  {
   "cell_type": "code",
   "execution_count": 19,
   "metadata": {},
   "outputs": [
    {
     "data": {
      "text/html": [
       "<div>\n",
       "<style scoped>\n",
       "    .dataframe tbody tr th:only-of-type {\n",
       "        vertical-align: middle;\n",
       "    }\n",
       "\n",
       "    .dataframe tbody tr th {\n",
       "        vertical-align: top;\n",
       "    }\n",
       "\n",
       "    .dataframe thead th {\n",
       "        text-align: right;\n",
       "    }\n",
       "</style>\n",
       "<table border=\"1\" class=\"dataframe\">\n",
       "  <thead>\n",
       "    <tr style=\"text-align: right;\">\n",
       "      <th></th>\n",
       "      <th>obj tags</th>\n",
       "      <th>obj count</th>\n",
       "      <th>identifier</th>\n",
       "      <th>typ</th>\n",
       "      <th>coord1 (ICRS,J2000/2000)</th>\n",
       "      <th>Mag U</th>\n",
       "      <th>Mag B</th>\n",
       "      <th>Mag V</th>\n",
       "      <th>Mag R</th>\n",
       "      <th>Mag I</th>\n",
       "      <th>spec. type</th>\n",
       "      <th>bib</th>\n",
       "      <th>not</th>\n",
       "    </tr>\n",
       "    <tr>\n",
       "      <th></th>\n",
       "      <th></th>\n",
       "      <th></th>\n",
       "      <th></th>\n",
       "      <th></th>\n",
       "      <th></th>\n",
       "      <th></th>\n",
       "      <th></th>\n",
       "      <th></th>\n",
       "      <th></th>\n",
       "      <th></th>\n",
       "      <th></th>\n",
       "      <th></th>\n",
       "      <th></th>\n",
       "    </tr>\n",
       "  </thead>\n",
       "  <tbody>\n",
       "    <tr>\n",
       "      <th>1</th>\n",
       "      <td>acdx</td>\n",
       "      <td>7</td>\n",
       "      <td>NAME_THA</td>\n",
       "      <td>As*</td>\n",
       "      <td>00 00 00.0 -62 00 00</td>\n",
       "      <td>nan</td>\n",
       "      <td>nan</td>\n",
       "      <td>nan</td>\n",
       "      <td>nan</td>\n",
       "      <td>nan</td>\n",
       "      <td>nan</td>\n",
       "      <td>301</td>\n",
       "      <td>0</td>\n",
       "    </tr>\n",
       "    <tr>\n",
       "      <th>2</th>\n",
       "      <td>d</td>\n",
       "      <td>1</td>\n",
       "      <td>V*_PW_And</td>\n",
       "      <td>RS*</td>\n",
       "      <td>00 18 20.8896176716 +30 57 22.127515298</td>\n",
       "      <td>nan</td>\n",
       "      <td>9.78</td>\n",
       "      <td>8.86</td>\n",
       "      <td>8.3</td>\n",
       "      <td>7.78</td>\n",
       "      <td>K2V</td>\n",
       "      <td>99</td>\n",
       "      <td>1</td>\n",
       "    </tr>\n",
       "    <tr>\n",
       "      <th>3</th>\n",
       "      <td>d</td>\n",
       "      <td>1</td>\n",
       "      <td>HD_236717</td>\n",
       "      <td>PM*</td>\n",
       "      <td>01 24 27.1116767808 +57 51 06.160979960</td>\n",
       "      <td>nan</td>\n",
       "      <td>9.35</td>\n",
       "      <td>8.57</td>\n",
       "      <td>nan</td>\n",
       "      <td>nan</td>\n",
       "      <td>K0IV-V</td>\n",
       "      <td>4</td>\n",
       "      <td>0</td>\n",
       "    </tr>\n",
       "    <tr>\n",
       "      <th>4</th>\n",
       "      <td>dx</td>\n",
       "      <td>3</td>\n",
       "      <td>V*_EX_Cet</td>\n",
       "      <td>BY*</td>\n",
       "      <td>01 37 35.4668233260 -06 45 37.531277337</td>\n",
       "      <td>8.862</td>\n",
       "      <td>8.459</td>\n",
       "      <td>7.656</td>\n",
       "      <td>7.218</td>\n",
       "      <td>6.817</td>\n",
       "      <td>K0/1V</td>\n",
       "      <td>98</td>\n",
       "      <td>0</td>\n",
       "    </tr>\n",
       "    <tr>\n",
       "      <th>5</th>\n",
       "      <td>c</td>\n",
       "      <td>1</td>\n",
       "      <td>HD_10863</td>\n",
       "      <td>PM*</td>\n",
       "      <td>01 46 01.0578838260 -27 20 55.792868862</td>\n",
       "      <td>nan</td>\n",
       "      <td>6.729</td>\n",
       "      <td>6.385</td>\n",
       "      <td>nan</td>\n",
       "      <td>nan</td>\n",
       "      <td>F2V</td>\n",
       "      <td>33</td>\n",
       "      <td>0</td>\n",
       "    </tr>\n",
       "  </tbody>\n",
       "</table>\n",
       "</div>"
      ],
      "text/plain": [
       "   obj tags obj count identifier  typ  \\\n",
       "                                        \n",
       "1      acdx         7   NAME_THA  As*   \n",
       "2         d         1  V*_PW_And  RS*   \n",
       "3         d         1  HD_236717  PM*   \n",
       "4        dx         3  V*_EX_Cet  BY*   \n",
       "5         c         1   HD_10863  PM*   \n",
       "\n",
       "                   coord1 (ICRS,J2000/2000)  Mag U  Mag B  Mag V  Mag R  \\\n",
       "                                                                          \n",
       "1                      00 00 00.0 -62 00 00    nan    nan    nan    nan   \n",
       "2   00 18 20.8896176716 +30 57 22.127515298    nan   9.78   8.86    8.3   \n",
       "3   01 24 27.1116767808 +57 51 06.160979960    nan   9.35   8.57    nan   \n",
       "4   01 37 35.4668233260 -06 45 37.531277337  8.862  8.459  7.656  7.218   \n",
       "5   01 46 01.0578838260 -27 20 55.792868862    nan  6.729  6.385    nan   \n",
       "\n",
       "    Mag I spec. type  bib not  \n",
       "                               \n",
       "1     nan        nan  301   0  \n",
       "2    7.78        K2V   99   1  \n",
       "3     nan     K0IV-V    4   0  \n",
       "4   6.817      K0/1V   98   0  \n",
       "5     nan        F2V   33   0  "
      ]
     },
     "execution_count": 19,
     "metadata": {},
     "output_type": "execute_result"
    }
   ],
   "source": [
    "cc=cr.ClusterCatalog(catalog_name=\"Gagne2018\")\n",
    "cat = cc.query_catalog() \n",
    "cat.head() "
   ]
  },
  {
   "cell_type": "code",
   "execution_count": null,
   "metadata": {},
   "outputs": [],
   "source": []
  },
  {
   "cell_type": "markdown",
   "metadata": {},
   "source": [
    "# automate download of table from vizier\n",
    "\n",
    "* instead of hosting the tables on github/lfs repo, make a script to download tables, parse into standard format and save locally only if querried in `chronos.cluster.ClusterCatalog`"
   ]
  },
  {
   "cell_type": "markdown",
   "metadata": {},
   "source": [
    "https://outerspace.stsci.edu/display/TESS/6.0+-+Data+Search+Tutorials"
   ]
  },
  {
   "cell_type": "markdown",
   "metadata": {},
   "source": [
    "## Vizier"
   ]
  },
  {
   "cell_type": "code",
   "execution_count": 13,
   "metadata": {},
   "outputs": [],
   "source": [
    "from astroquery.vizier import Vizier"
   ]
  },
  {
   "cell_type": "raw",
   "metadata": {},
   "source": [
    "#get table from vizier\n",
    "Vizier.ROW_LIMIT = 50 #-1\n",
    "\n",
    "catalog_id = \"J/MNRAS/470/3937\"\n",
    "tables = Vizier.get_catalogs(catalog_id)"
   ]
  },
  {
   "cell_type": "code",
   "execution_count": 15,
   "metadata": {},
   "outputs": [],
   "source": [
    "catalog_dict = {'Babusiaux2018': 'J/A+A/616/A10', #HRD of Gaia DR2\n",
    "                'CantatGaudin2018': 'J/A+A/618/A93',\n",
    "                'Bossini2019': 'J/A+A/623/A108/tablea', #age of 269 OC\n",
    "                'Sampedro2017': 'J/MNRAS/470/3937',  #OC\n",
    "                'Gagne2018': 'J/ApJ/862/138', #Banyan sigma\n",
    "                'Randich2018': 'J/A+A/612/A99',\n",
    "                'Karchenko2013': 'J/A+A/558/A53',\n",
    "                'Dias2016': 'B/ocl', #OC\n",
    "                'Curtis2019': 'J/AJ/158/77', #Psc Eri\n",
    "                'Lodieu2019': 'J/A+A/628/A66', #praesepe, alpa per\n",
    "                'Schneider2019': 'J/AJ/157/234', #young RV\n",
    "                'Grandjean2020': 'J/A+A/633/A44', #young harps RV\n",
    "                'Carerra2019': 'J/A+A/623/A80', #apogee+galah\n",
    "                'GaiaDR2': 'I/345/gaia2',\n",
    "                'BailerJones2018': 'I/347', #distances\n",
    "                'Luo2019': 'V/149', #Lamost\n",
    "                'Olivares2019': 'J/A+A/625/A115', #Ruprecht 147 DANCe: oldest open cluster @ 300pc\n",
    "                '': '',\n",
    "               }"
   ]
  },
  {
   "cell_type": "raw",
   "metadata": {},
   "source": [
    "tables = Vizier.get_catalogs(catalog_dict[\"Bossini2019\"])\n",
    "pprint({k: tables[k]._meta['description'] for k in tables.keys()})"
   ]
  },
  {
   "cell_type": "markdown",
   "metadata": {},
   "source": [
    "## Gagne2018\n",
    "* Because of large proper motions, search_radius=3 may not be sufficient to match with Gaia DR2"
   ]
  },
  {
   "cell_type": "code",
   "execution_count": 25,
   "metadata": {},
   "outputs": [
    {
     "name": "stdout",
     "output_type": "stream",
     "text": [
      "{'J/ApJ/862/138/refs': 'References',\n",
      " 'J/ApJ/862/138/table1': 'Nearby young associations considered here',\n",
      " 'J/ApJ/862/138/table2': 'New candidates identified in this work',\n",
      " 'J/ApJ/862/138/table3': 'Co-moving systems identified in this work',\n",
      " 'J/ApJ/862/138/table5': 'New bona fide members'}\n"
     ]
    }
   ],
   "source": [
    "Vizier.ROW_LIMIT = 300 #-1\n",
    "tables = Vizier.get_catalogs(catalog_dict[\"Gagne2018\"])\n",
    "pprint({k: tables[k]._meta['description'] for k in tables.keys()})"
   ]
  },
  {
   "cell_type": "code",
   "execution_count": 26,
   "metadata": {},
   "outputs": [
    {
     "data": {
      "text/html": [
       "<i>Table length=218</i>\n",
       "<table id=\"table140447617593808\" class=\"table-striped table-bordered table-condensed\">\n",
       "<thead><tr><th>Gaia</th><th>Assoc</th><th>Sep</th><th>RAJ2000</th><th>DEJ2000</th><th>pmRA</th><th>e_pmRA</th><th>pmDE</th><th>e_pmDE</th><th>plx</th><th>e_plx</th><th>RVel</th><th>e_RVel</th><th>f_RVel</th><th>Simbad</th></tr></thead>\n",
       "<thead><tr><th></th><th></th><th>arcsec</th><th>&quot;h:m:s&quot;</th><th>&quot;d:m:s&quot;</th><th>mas / yr</th><th>mas / yr</th><th>mas / yr</th><th>mas / yr</th><th>mas</th><th>mas</th><th>km / s</th><th>km / s</th><th></th><th></th></tr></thead>\n",
       "<thead><tr><th>int64</th><th>bytes5</th><th>float32</th><th>bytes12</th><th>bytes12</th><th>float32</th><th>float32</th><th>float32</th><th>float32</th><th>float32</th><th>float32</th><th>float32</th><th>float32</th><th>bytes1</th><th>bytes6</th></tr></thead>\n",
       "<tr><td>5000558409016727296</td><td>THA</td><td>--</td><td>00 39 35.477</td><td>-38 17 18.69</td><td>101.47</td><td>0.10</td><td>-66.50</td><td>0.07</td><td>24.92</td><td>0.06</td><td>2.7</td><td>0.7</td><td>*</td><td>Simbad</td></tr>\n",
       "<tr><td>5000558443376465408</td><td></td><td>19.9</td><td>00 39 35.930</td><td>-38 16 59.55</td><td>99.45</td><td>0.08</td><td>-64.46</td><td>0.07</td><td>24.85</td><td>0.04</td><td>1.7</td><td>4.0</td><td></td><td>Simbad</td></tr>\n",
       "<tr><td>2371914419569514752</td><td>ABDMG</td><td>--</td><td>01 06 25.510</td><td>-14 17 28.82</td><td>101.82</td><td>0.11</td><td>-98.76</td><td>0.08</td><td>22.02</td><td>0.05</td><td>9.5</td><td>1.8</td><td>*</td><td>Simbad</td></tr>\n",
       "<tr><td>2371914419569515136</td><td></td><td>22.6</td><td>01 06 26.260</td><td>-14 17 48.57</td><td>99.93</td><td>0.08</td><td>-94.63</td><td>0.06</td><td>22.01</td><td>0.04</td><td>8.0</td><td>0.3</td><td></td><td>Simbad</td></tr>\n",
       "<tr><td>292521529517547776</td><td>ABDMG</td><td>--</td><td>01 39 58.869</td><td>+26 11 00.80</td><td>138.98</td><td>0.26</td><td>-146.21</td><td>0.12</td><td>31.02</td><td>0.08</td><td>-4.0</td><td>1.4</td><td>*</td><td>Simbad</td></tr>\n",
       "<tr><td>292521529517332224</td><td></td><td>8.0</td><td>01 39 59.341</td><td>+26 11 05.74</td><td>135.06</td><td>0.18</td><td>-151.91</td><td>0.09</td><td>30.85</td><td>0.05</td><td>-8.9</td><td>10.1</td><td></td><td>Simbad</td></tr>\n",
       "<tr><td>4941694920153720448</td><td>ABDMG</td><td>--</td><td>01 48 47.900</td><td>-48 31 16.38</td><td>110.54</td><td>0.06</td><td>-53.67</td><td>0.06</td><td>25.62</td><td>0.04</td><td>21.7</td><td>1.2</td><td>*</td><td>Simbad</td></tr>\n",
       "<tr><td>4941706636824503680</td><td></td><td>72.0</td><td>01 48 41.060</td><td>-48 30 52.75</td><td>110.90</td><td>0.04</td><td>-53.97</td><td>0.04</td><td>25.54</td><td>0.02</td><td>20.9</td><td>1.3</td><td></td><td>Simbad</td></tr>\n",
       "<tr><td>93806419367308544</td><td>ABDMG</td><td>--</td><td>01 53 31.897</td><td>+19 17 36.37</td><td>78.11</td><td>0.72</td><td>-97.50</td><td>0.62</td><td>19.98</td><td>0.35</td><td>-0.2</td><td>1.2</td><td>*</td><td>Simbad</td></tr>\n",
       "<tr><td>...</td><td>...</td><td>...</td><td>...</td><td>...</td><td>...</td><td>...</td><td>...</td><td>...</td><td>...</td><td>...</td><td>...</td><td>...</td><td>...</td><td>...</td></tr>\n",
       "<tr><td>6754492966739292928</td><td>BPMG</td><td>--</td><td>19 48 16.548</td><td>-27 20 32.77</td><td>25.41</td><td>0.11</td><td>-53.28</td><td>0.06</td><td>15.42</td><td>0.06</td><td>-5.8</td><td>1.0</td><td></td><td>Simbad</td></tr>\n",
       "<tr><td>6754492932379552896</td><td>BPMG</td><td>7.2</td><td>19 48 17.076</td><td>-27 20 34.33</td><td>24.88</td><td>0.28</td><td>-52.80</td><td>0.17</td><td>15.03</td><td>0.17</td><td>-6.7</td><td>1.2</td><td>*</td><td>Simbad</td></tr>\n",
       "<tr><td>1975678603914496000</td><td>ABDMG</td><td>--</td><td>22 06 05.726</td><td>+47 34 02.99</td><td>97.19</td><td>0.06</td><td>-58.49</td><td>0.06</td><td>27.08</td><td>0.04</td><td>-24.4</td><td>1.0</td><td>*</td><td>Simbad</td></tr>\n",
       "<tr><td>1975678603914495616</td><td></td><td>3.4</td><td>22 06 05.801</td><td>+47 34 06.35</td><td>101.39</td><td>0.06</td><td>-65.71</td><td>0.06</td><td>26.90</td><td>0.04</td><td>--</td><td>--</td><td></td><td>Simbad</td></tr>\n",
       "<tr><td>2832918891813969408</td><td>ABDMG</td><td>--</td><td>22 44 41.405</td><td>+17 54 16.02</td><td>82.11</td><td>0.16</td><td>-80.73</td><td>0.09</td><td>20.76</td><td>0.07</td><td>-13.4</td><td>1.5</td><td></td><td>Simbad</td></tr>\n",
       "<tr><td>2832918887518987904</td><td>ABDMG</td><td>3.4</td><td>22 44 41.635</td><td>+17 54 17.02</td><td>82.70</td><td>0.30</td><td>-81.84</td><td>0.20</td><td>20.11</td><td>0.11</td><td>-13.0</td><td>0.5</td><td></td><td>Simbad</td></tr>\n",
       "<tr><td>2865683170091662592</td><td>ABDMG</td><td>--</td><td>23 34 27.425</td><td>+27 39 41.88</td><td>94.38</td><td>0.10</td><td>-75.82</td><td>0.07</td><td>20.38</td><td>0.07</td><td>-13.9</td><td>1.2</td><td>*</td><td>Simbad</td></tr>\n",
       "<tr><td>2865683204451400576</td><td></td><td>61.9</td><td>23 34 22.865</td><td>+27 39 54.37</td><td>96.46</td><td>0.06</td><td>-76.64</td><td>0.05</td><td>20.18</td><td>0.05</td><td>--</td><td>--</td><td></td><td>Simbad</td></tr>\n",
       "<tr><td>2328250334633289856</td><td>ABDMG</td><td>--</td><td>23 48 50.609</td><td>-28 07 17.30</td><td>96.65</td><td>0.08</td><td>-105.23</td><td>0.08</td><td>22.61</td><td>0.05</td><td>6.9</td><td>0.2</td><td></td><td>Simbad</td></tr>\n",
       "<tr><td>2328250059757795072</td><td></td><td>74.7</td><td>23 48 55.663</td><td>-28 07 50.62</td><td>100.12</td><td>0.67</td><td>-104.69</td><td>0.65</td><td>23.40</td><td>0.39</td><td>--</td><td>--</td><td></td><td>Simbad</td></tr>\n",
       "</table>"
      ],
      "text/plain": [
       "<Table length=218>\n",
       "        Gaia        Assoc    Sep     RAJ2000    ...  e_RVel f_RVel Simbad\n",
       "                            arcsec   \"h:m:s\"    ...  km / s              \n",
       "       int64        bytes5 float32   bytes12    ... float32 bytes1 bytes6\n",
       "------------------- ------ ------- ------------ ... ------- ------ ------\n",
       "5000558409016727296    THA      -- 00 39 35.477 ...     0.7      * Simbad\n",
       "5000558443376465408           19.9 00 39 35.930 ...     4.0        Simbad\n",
       "2371914419569514752  ABDMG      -- 01 06 25.510 ...     1.8      * Simbad\n",
       "2371914419569515136           22.6 01 06 26.260 ...     0.3        Simbad\n",
       " 292521529517547776  ABDMG      -- 01 39 58.869 ...     1.4      * Simbad\n",
       " 292521529517332224            8.0 01 39 59.341 ...    10.1        Simbad\n",
       "4941694920153720448  ABDMG      -- 01 48 47.900 ...     1.2      * Simbad\n",
       "4941706636824503680           72.0 01 48 41.060 ...     1.3        Simbad\n",
       "  93806419367308544  ABDMG      -- 01 53 31.897 ...     1.2      * Simbad\n",
       "                ...    ...     ...          ... ...     ...    ...    ...\n",
       "6754492966739292928   BPMG      -- 19 48 16.548 ...     1.0        Simbad\n",
       "6754492932379552896   BPMG     7.2 19 48 17.076 ...     1.2      * Simbad\n",
       "1975678603914496000  ABDMG      -- 22 06 05.726 ...     1.0      * Simbad\n",
       "1975678603914495616            3.4 22 06 05.801 ...      --        Simbad\n",
       "2832918891813969408  ABDMG      -- 22 44 41.405 ...     1.5        Simbad\n",
       "2832918887518987904  ABDMG     3.4 22 44 41.635 ...     0.5        Simbad\n",
       "2865683170091662592  ABDMG      -- 23 34 27.425 ...     1.2      * Simbad\n",
       "2865683204451400576           61.9 23 34 22.865 ...      --        Simbad\n",
       "2328250334633289856  ABDMG      -- 23 48 50.609 ...     0.2        Simbad\n",
       "2328250059757795072           74.7 23 48 55.663 ...      --        Simbad"
      ]
     },
     "execution_count": 26,
     "metadata": {},
     "output_type": "execute_result"
    }
   ],
   "source": [
    "tables[2]"
   ]
  },
  {
   "cell_type": "code",
   "execution_count": 80,
   "metadata": {},
   "outputs": [],
   "source": [
    "from astropy.coordinates import Angle, SkyCoord\n",
    "\n",
    "df = tables[2].to_pandas()\n",
    "coord = SkyCoord(ra=df[\"RAJ2000\"].apply(lambda x: x.decode('ascii').replace(' ', ':')), \n",
    "                 dec=df[\"DEJ2000\"].apply(lambda x: x.decode('ascii').replace(' ', ':')), \n",
    "                 unit=('hourangle','degree'))"
   ]
  },
  {
   "cell_type": "code",
   "execution_count": 82,
   "metadata": {},
   "outputs": [],
   "source": [
    "df[\"ra\"] = coord.ra.deg\n",
    "df[\"dec\"] = coord.dec.deg"
   ]
  },
  {
   "cell_type": "code",
   "execution_count": 86,
   "metadata": {},
   "outputs": [],
   "source": [
    "df.Gaia.to_csv(\"../tests/tql/Gagne2018/gagne2018.csv\", index=False, header=False)"
   ]
  },
  {
   "cell_type": "raw",
   "metadata": {},
   "source": [
    "df.to_csv(\"../tests/tql/Gagne2018/gagne2018.csv\")"
   ]
  },
  {
   "cell_type": "markdown",
   "metadata": {},
   "source": [
    "## Simbad"
   ]
  },
  {
   "cell_type": "markdown",
   "metadata": {},
   "source": [
    "Tables only/currently available in simbad\n",
    "* [Bouma2019](http://simbad.u-strasbg.fr/simbad/sim-ref?querymethod=bib&simbo=on&submit=submit+bibcode&bibcode=2019ApJS..245...13B)\n",
    "* [Binks2020](http://simbad.u-strasbg.fr/simbad/sim-ref?querymethod=bib&simbo=on&submit=submit+bibcode&bibcode=2020MNRAS.491..215B)\n",
    "* [Faherty2019](http://simbad.u-strasbg.fr/simbad/sim-ref?querymethod=bib&simbo=on&submit=submit+bibcode&bibcode=2018ApJ...863...91F)\n",
    "* []()\n",
    "\n",
    "How to download tables in Simbad? Only position match query seems possible according to the tutorial"
   ]
  },
  {
   "cell_type": "raw",
   "metadata": {},
   "source": [
    "from astroquery.simbad import Simbad\n",
    "\n",
    "query = Simbad.query_catalog(\"2018ApJ...863...91F\")\n",
    "query[0]"
   ]
  },
  {
   "cell_type": "markdown",
   "metadata": {},
   "source": [
    "## Private repo:\n",
    "* [Sanders+2018](https://ui.adsabs.harvard.edu/abs/2018MNRAS.481.4093S/abstract): `https://www.ast.cam.ac.uk/~jls/data/gaia_spectro.hdf5`: catalog of masses, distances, extinctions, and spectroscopic parameters for stars in common with large spectroscopic surveys "
   ]
  },
  {
   "cell_type": "code",
   "execution_count": null,
   "metadata": {},
   "outputs": [],
   "source": []
  }
 ],
 "metadata": {
  "kernelspec": {
   "display_name": "Python 3",
   "language": "python",
   "name": "python3"
  },
  "language_info": {
   "codemirror_mode": {
    "name": "ipython",
    "version": 3
   },
   "file_extension": ".py",
   "mimetype": "text/x-python",
   "name": "python",
   "nbconvert_exporter": "python",
   "pygments_lexer": "ipython3",
   "version": "3.7.6"
  },
  "toc": {
   "base_numbering": 1,
   "nav_menu": {},
   "number_sections": true,
   "sideBar": true,
   "skip_h1_title": false,
   "title_cell": "Table of Contents",
   "title_sidebar": "Contents",
   "toc_cell": false,
   "toc_position": {},
   "toc_section_display": true,
   "toc_window_display": false
  }
 },
 "nbformat": 4,
 "nbformat_minor": 4
}
