{
 "cells": [
  {
   "cell_type": "code",
   "execution_count": 1,
   "metadata": {},
   "outputs": [
    {
     "name": "stderr",
     "output_type": "stream",
     "text": [
      "WARNING: UnitsWarning: '[yr]' did not parse as cds unit: Invalid character at col 0 If this is meant to be a custom unit, define it with 'u.def_unit'. To have it recognized inside a file reader or other code, enable it with 'u.add_enabled_units'. For details, see http://docs.astropy.org/en/latest/units/combining_and_defining.html [astropy.units.core]\n"
     ]
    },
    {
     "data": {
      "text/html": [
       "<i>Table length=3</i>\n",
       "<table id=\"table140292214836496\" class=\"table-striped table-bordered table-condensed\">\n",
       "<thead><tr><th>ID</th><th>Cluster</th><th>Ref</th><th>CName</th><th>RAdeg</th><th>DEdeg</th><th>pmRA</th><th>pmDE</th><th>plx</th><th>Gmag</th><th>GBp</th><th>GRp</th><th>K13</th><th>Unique</th><th>How</th><th>inK13</th><th>Com</th><th>logt</th><th>e_logt</th></tr></thead>\n",
       "<thead><tr><th></th><th></th><th></th><th></th><th>deg</th><th>deg</th><th>mas / yr</th><th>mas / yr</th><th>mas</th><th>mag</th><th>mag</th><th>mag</th><th></th><th></th><th></th><th></th><th></th><th>[yr]</th><th>[yr]</th></tr></thead>\n",
       "<thead><tr><th>int64</th><th>str1</th><th>str13</th><th>str16</th><th>float64</th><th>float64</th><th>float64</th><th>float64</th><th>float64</th><th>float64</th><th>float64</th><th>float64</th><th>str1</th><th>str1</th><th>str1</th><th>str1</th><th>str1</th><th>float64</th><th>float64</th></tr></thead>\n",
       "<tr><td>915553884118144</td><td>--</td><td>Zari_2018_UMS</td><td>915553884118144</td><td>45.4082</td><td>2.16827</td><td>-5.33216</td><td>-4.48147</td><td>2.16337</td><td>9.071</td><td>9.1287</td><td>8.9934</td><td>--</td><td>--</td><td>--</td><td>--</td><td>--</td><td>--</td><td>--</td></tr>\n",
       "<tr><td>1195551392247936</td><td>--</td><td>Zari_2018_UMS</td><td>1195551392247936</td><td>43.8815</td><td>2.01822</td><td>6.07063</td><td>-11.7618</td><td>6.10161</td><td>6.575</td><td>6.5825</td><td>6.6281</td><td>--</td><td>--</td><td>--</td><td>--</td><td>--</td><td>--</td><td>--</td></tr>\n",
       "<tr><td>--</td><td>--</td><td>--</td><td>--</td><td>--</td><td>--</td><td>--</td><td>--</td><td>--</td><td>--</td><td>--</td><td>--</td><td>--</td><td>--</td><td>--</td><td>--</td><td>--</td><td>--</td><td>--</td></tr>\n",
       "</table>"
      ],
      "text/plain": [
       "<Table length=3>\n",
       "       ID        Cluster      Ref           CName       ... Com    logt   e_logt\n",
       "                                                        ...        [yr]    [yr] \n",
       "     int64         str1      str13          str16       ... str1 float64 float64\n",
       "---------------- ------- ------------- ---------------- ... ---- ------- -------\n",
       " 915553884118144      -- Zari_2018_UMS  915553884118144 ...   --      --      --\n",
       "1195551392247936      -- Zari_2018_UMS 1195551392247936 ...   --      --      --\n",
       "              --      --            --               -- ...   --      --      --"
      ]
     },
     "execution_count": 1,
     "metadata": {},
     "output_type": "execute_result"
    }
   ],
   "source": [
    "from astropy.io import ascii\n",
    "\n",
    "#head of apjsab4a7et1_mrt.txt\n",
    "tab = ascii.read('../data/TablesBouma2019/apjsab4a7et1_mrt_sample.txt')\n",
    "tab"
   ]
  },
  {
   "cell_type": "raw",
   "metadata": {},
   "source": [
    "!split -d -b 200M ../data/TablesBouma2019/apjsab4a7et1_mrt.txt ../data/TablesBouma2019/apjsab4a7et1_mrt"
   ]
  },
  {
   "cell_type": "raw",
   "metadata": {},
   "source": [
    "!cat ../data/TablesBouma2019/apjsab4a7et1_mrt_header.txt ../data/TablesBouma2019/apjsab4a7et1_mrt01  > ../data/TablesBouma2019/apjsab4a7et1_mrt01.txt"
   ]
  },
  {
   "cell_type": "code",
   "execution_count": 1,
   "metadata": {},
   "outputs": [
    {
     "name": "stdout",
     "output_type": "stream",
     "text": [
      "../data/TablesBouma2019/apjsab4a7et1_mrt00.txt\r\n",
      "../data/TablesBouma2019/apjsab4a7et1_mrt01\r\n",
      "../data/TablesBouma2019/apjsab4a7et1_mrt01.txt\r\n",
      "../data/TablesBouma2019/apjsab4a7et1_mrt02\r\n",
      "../data/TablesBouma2019/apjsab4a7et1_mrt02.txt\r\n",
      "../data/TablesBouma2019/apjsab4a7et1_mrt03\r\n",
      "../data/TablesBouma2019/apjsab4a7et1_mrt03.txt\r\n",
      "../data/TablesBouma2019/apjsab4a7et1_mrt04\r\n",
      "../data/TablesBouma2019/apjsab4a7et1_mrt04.txt\r\n",
      "../data/TablesBouma2019/apjsab4a7et1_mrt_header.txt\r\n",
      "../data/TablesBouma2019/apjsab4a7et1_mrt.txt\r\n"
     ]
    }
   ],
   "source": [
    "!ls ../data/TablesBouma2019/apjsab4a7et1_mrt*"
   ]
  },
  {
   "cell_type": "code",
   "execution_count": 2,
   "metadata": {},
   "outputs": [
    {
     "ename": "UnicodeDecodeError",
     "evalue": "'utf-8' codec can't decode byte 0xfb in position 430247937: invalid start byte",
     "output_type": "error",
     "traceback": [
      "\u001b[0;31m---------------------------------------------------------------------------\u001b[0m",
      "\u001b[0;31mUnicodeDecodeError\u001b[0m                        Traceback (most recent call last)",
      "\u001b[0;32m<ipython-input-2-eb2dec7943cd>\u001b[0m in \u001b[0;36m<module>\u001b[0;34m\u001b[0m\n\u001b[1;32m      1\u001b[0m \u001b[0;32mfrom\u001b[0m \u001b[0mastropy\u001b[0m\u001b[0;34m.\u001b[0m\u001b[0mio\u001b[0m \u001b[0;32mimport\u001b[0m \u001b[0mascii\u001b[0m\u001b[0;34m\u001b[0m\u001b[0;34m\u001b[0m\u001b[0m\n\u001b[1;32m      2\u001b[0m \u001b[0;34m\u001b[0m\u001b[0m\n\u001b[0;32m----> 3\u001b[0;31m \u001b[0mtab0\u001b[0m \u001b[0;34m=\u001b[0m \u001b[0mascii\u001b[0m\u001b[0;34m.\u001b[0m\u001b[0mread\u001b[0m\u001b[0;34m(\u001b[0m\u001b[0;34m'../data/TablesBouma2019/apjsab4a7et1_mrt.txt'\u001b[0m\u001b[0;34m)\u001b[0m\u001b[0;34m\u001b[0m\u001b[0;34m\u001b[0m\u001b[0m\n\u001b[0m\u001b[1;32m      4\u001b[0m \u001b[0mtab\u001b[0m\u001b[0;34m\u001b[0m\u001b[0;34m\u001b[0m\u001b[0m\n",
      "\u001b[0;32m~/miniconda3/envs/py3/lib/python3.7/site-packages/astropy/io/ascii/ui.py\u001b[0m in \u001b[0;36mread\u001b[0;34m(table, guess, **kwargs)\u001b[0m\n\u001b[1;32m    261\u001b[0m             \u001b[0;32mtry\u001b[0m\u001b[0;34m:\u001b[0m\u001b[0;34m\u001b[0m\u001b[0;34m\u001b[0m\u001b[0m\n\u001b[1;32m    262\u001b[0m                 \u001b[0;32mwith\u001b[0m \u001b[0mget_readable_fileobj\u001b[0m\u001b[0;34m(\u001b[0m\u001b[0mtable\u001b[0m\u001b[0;34m,\u001b[0m \u001b[0mencoding\u001b[0m\u001b[0;34m=\u001b[0m\u001b[0mencoding\u001b[0m\u001b[0;34m)\u001b[0m \u001b[0;32mas\u001b[0m \u001b[0mfileobj\u001b[0m\u001b[0;34m:\u001b[0m\u001b[0;34m\u001b[0m\u001b[0;34m\u001b[0m\u001b[0m\n\u001b[0;32m--> 263\u001b[0;31m                     \u001b[0mtable\u001b[0m \u001b[0;34m=\u001b[0m \u001b[0mfileobj\u001b[0m\u001b[0;34m.\u001b[0m\u001b[0mread\u001b[0m\u001b[0;34m(\u001b[0m\u001b[0;34m)\u001b[0m\u001b[0;34m\u001b[0m\u001b[0;34m\u001b[0m\u001b[0m\n\u001b[0m\u001b[1;32m    264\u001b[0m             \u001b[0;32mexcept\u001b[0m \u001b[0mValueError\u001b[0m\u001b[0;34m:\u001b[0m  \u001b[0;31m# unreadable or invalid binary file\u001b[0m\u001b[0;34m\u001b[0m\u001b[0;34m\u001b[0m\u001b[0m\n\u001b[1;32m    265\u001b[0m                 \u001b[0;32mraise\u001b[0m\u001b[0;34m\u001b[0m\u001b[0;34m\u001b[0m\u001b[0m\n",
      "\u001b[0;32m~/miniconda3/envs/py3/lib/python3.7/codecs.py\u001b[0m in \u001b[0;36mdecode\u001b[0;34m(self, input, final)\u001b[0m\n\u001b[1;32m    320\u001b[0m         \u001b[0;31m# decode input (taking the buffer into account)\u001b[0m\u001b[0;34m\u001b[0m\u001b[0;34m\u001b[0m\u001b[0;34m\u001b[0m\u001b[0m\n\u001b[1;32m    321\u001b[0m         \u001b[0mdata\u001b[0m \u001b[0;34m=\u001b[0m \u001b[0mself\u001b[0m\u001b[0;34m.\u001b[0m\u001b[0mbuffer\u001b[0m \u001b[0;34m+\u001b[0m \u001b[0minput\u001b[0m\u001b[0;34m\u001b[0m\u001b[0;34m\u001b[0m\u001b[0m\n\u001b[0;32m--> 322\u001b[0;31m         \u001b[0;34m(\u001b[0m\u001b[0mresult\u001b[0m\u001b[0;34m,\u001b[0m \u001b[0mconsumed\u001b[0m\u001b[0;34m)\u001b[0m \u001b[0;34m=\u001b[0m \u001b[0mself\u001b[0m\u001b[0;34m.\u001b[0m\u001b[0m_buffer_decode\u001b[0m\u001b[0;34m(\u001b[0m\u001b[0mdata\u001b[0m\u001b[0;34m,\u001b[0m \u001b[0mself\u001b[0m\u001b[0;34m.\u001b[0m\u001b[0merrors\u001b[0m\u001b[0;34m,\u001b[0m \u001b[0mfinal\u001b[0m\u001b[0;34m)\u001b[0m\u001b[0;34m\u001b[0m\u001b[0;34m\u001b[0m\u001b[0m\n\u001b[0m\u001b[1;32m    323\u001b[0m         \u001b[0;31m# keep undecoded input until the next call\u001b[0m\u001b[0;34m\u001b[0m\u001b[0;34m\u001b[0m\u001b[0;34m\u001b[0m\u001b[0m\n\u001b[1;32m    324\u001b[0m         \u001b[0mself\u001b[0m\u001b[0;34m.\u001b[0m\u001b[0mbuffer\u001b[0m \u001b[0;34m=\u001b[0m \u001b[0mdata\u001b[0m\u001b[0;34m[\u001b[0m\u001b[0mconsumed\u001b[0m\u001b[0;34m:\u001b[0m\u001b[0;34m]\u001b[0m\u001b[0;34m\u001b[0m\u001b[0;34m\u001b[0m\u001b[0m\n",
      "\u001b[0;31mUnicodeDecodeError\u001b[0m: 'utf-8' codec can't decode byte 0xfb in position 430247937: invalid start byte"
     ]
    }
   ],
   "source": [
    "from astropy.io import ascii\n",
    "\n",
    "tab0 = ascii.read('../data/TablesBouma2019/apjsab4a7et1_mrt.txt')\n",
    "tab"
   ]
  },
  {
   "cell_type": "code",
   "execution_count": 14,
   "metadata": {},
   "outputs": [
    {
     "name": "stdout",
     "output_type": "stream",
     "text": [
      "ls: cannot access '../data/TablesBouma2019/apjsab4a7et1_mrt00': No such file or directory\r\n"
     ]
    }
   ],
   "source": [
    "!ls ../data/TablesBouma2019/apjsab4a7et1_mrt00.txt"
   ]
  }
 ],
 "metadata": {
  "kernelspec": {
   "display_name": "Python 3",
   "language": "python",
   "name": "python3"
  },
  "language_info": {
   "codemirror_mode": {
    "name": "ipython",
    "version": 3
   },
   "file_extension": ".py",
   "mimetype": "text/x-python",
   "name": "python",
   "nbconvert_exporter": "python",
   "pygments_lexer": "ipython3",
   "version": "3.7.4"
  },
  "toc": {
   "base_numbering": 1,
   "nav_menu": {},
   "number_sections": true,
   "sideBar": true,
   "skip_h1_title": false,
   "title_cell": "Table of Contents",
   "title_sidebar": "Contents",
   "toc_cell": false,
   "toc_position": {},
   "toc_section_display": true,
   "toc_window_display": false
  }
 },
 "nbformat": 4,
 "nbformat_minor": 2
}
