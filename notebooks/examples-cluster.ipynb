{
 "cells": [
  {
   "cell_type": "markdown",
   "metadata": {},
   "source": [
    "## Loading cluster catalogs"
   ]
  },
  {
   "cell_type": "code",
   "execution_count": 1,
   "metadata": {},
   "outputs": [
    {
     "name": "stdout",
     "output_type": "stream",
     "text": [
      "Created TAP+ (v1.2.1) - Connection:\n",
      "\tHost: gea.esac.esa.int\n",
      "\tUse HTTPS: True\n",
      "\tPort: 443\n",
      "\tSSL Port: 443\n",
      "Created TAP+ (v1.2.1) - Connection:\n",
      "\tHost: geadata.esac.esa.int\n",
      "\tUse HTTPS: True\n",
      "\tPort: 443\n",
      "\tSSL Port: 443\n"
     ]
    },
    {
     "data": {
      "text/plain": [
       "['Bouma2019',\n",
       " 'Babusiaux2018',\n",
       " 'CantatGaudin2018',\n",
       " 'Bossini2019',\n",
       " 'Dias2014',\n",
       " 'Karchenko2013',\n",
       " 'Cody2018']"
      ]
     },
     "execution_count": 1,
     "metadata": {},
     "output_type": "execute_result"
    }
   ],
   "source": [
    "import chronos as cr\n",
    "\n",
    "#to list available cluster catalogs\n",
    "cr.cluster.CATALOG_LIST"
   ]
  },
  {
   "cell_type": "code",
   "execution_count": 2,
   "metadata": {},
   "outputs": [
    {
     "name": "stdout",
     "output_type": "stream",
     "text": [
      "Some parallaxes are negative in Bouma2019!\n",
      "These are removed for the meantime.\n",
      "For proper treatment, see:\n",
      "https://arxiv.org/pdf/1804.09366.pdf\n",
      "\n"
     ]
    },
    {
     "data": {
      "text/plain": [
       "(1040410, 20)"
      ]
     },
     "execution_count": 2,
     "metadata": {},
     "output_type": "execute_result"
    }
   ],
   "source": [
    "#initialize\n",
    "cc = cr.ClusterCatalog(verbose=True)\n",
    "\n",
    "#Bouma et al 2019 (largest catalog and used here as default)\n",
    "df_mem = cc.query_catalog(name='Bouma2019', return_members=True)\n",
    "df_mem.shape"
   ]
  },
  {
   "cell_type": "raw",
   "metadata": {},
   "source": [
    "list(df_mem.Cluster.sort_values(ascending=False).unique())"
   ]
  },
  {
   "cell_type": "code",
   "execution_count": 3,
   "metadata": {},
   "outputs": [
    {
     "data": {
      "text/plain": [
       "(1229, 18)"
      ]
     },
     "execution_count": 3,
     "metadata": {},
     "output_type": "execute_result"
    }
   ],
   "source": [
    "#Cantat-Gaudin et al 2018\n",
    "df_mem2 = cc.query_catalog(name='CantatGaudin2018', return_members=False)\n",
    "df_mem2.shape"
   ]
  },
  {
   "cell_type": "markdown",
   "metadata": {},
   "source": [
    "## search cluster members and properties"
   ]
  },
  {
   "cell_type": "code",
   "execution_count": 4,
   "metadata": {},
   "outputs": [],
   "source": [
    "#compare IC_2602 members from two different catalogs\n",
    "\n",
    "cluster_name = 'IC_2602'\n",
    "\n",
    "c1 = cr.Cluster(catalog_name='Bouma2019', \n",
    "             cluster_name=cluster_name, \n",
    "             verbose=False)\n",
    "\n",
    "c2 = cr.Cluster(catalog_name='CantatGaudin2018', \n",
    "             cluster_name=cluster_name, \n",
    "             verbose=False)"
   ]
  },
  {
   "cell_type": "code",
   "execution_count": 5,
   "metadata": {},
   "outputs": [
    {
     "data": {
      "text/plain": [
       "((4655, 20), (311, 15))"
      ]
     },
     "execution_count": 5,
     "metadata": {},
     "output_type": "execute_result"
    }
   ],
   "source": [
    "df1 = c1.query_cluster_members()\n",
    "df2 = c2.query_cluster_members()\n",
    "\n",
    "df1.shape, df2.shape"
   ]
  },
  {
   "cell_type": "code",
   "execution_count": 6,
   "metadata": {},
   "outputs": [
    {
     "data": {
      "text/plain": [
       "<matplotlib.legend.Legend at 0x7fa1ecd9fa90>"
      ]
     },
     "execution_count": 6,
     "metadata": {},
     "output_type": "execute_result"
    },
    {
     "data": {
      "image/png": "[encoded data removed]",
      "text/plain": [
       "<Figure size 432x288 with 1 Axes>"
      ]
     },
     "metadata": {
      "needs_background": "light"
     },
     "output_type": "display_data"
    }
   ],
   "source": [
    "import matplotlib.pyplot as pl\n",
    "\n",
    "df1.loc[df1.Cluster=='IC_2602','parallax'].plot(kind='hist', bins=30, label=c1.catalog_name)\n",
    "df2.loc[df2.Cluster=='IC_2602','parallax'].plot(kind='hist', bins=30, label=c2.catalog_name)\n",
    "pl.title(cluster_name)\n",
    "pl.xlabel('Parallax [mas]')\n",
    "pl.legend()"
   ]
  },
  {
   "cell_type": "code",
   "execution_count": 7,
   "metadata": {},
   "outputs": [
    {
     "data": {
      "text/plain": [
       "<matplotlib.legend.Legend at 0x7fa1e939cb38>"
      ]
     },
     "execution_count": 7,
     "metadata": {},
     "output_type": "execute_result"
    },
    {
     "data": {
      "image/png": "[encoded data removed]",
      "text/plain": [
       "<Figure size 720x576 with 2 Axes>"
      ]
     },
     "metadata": {
      "needs_background": "light"
     },
     "output_type": "display_data"
    }
   ],
   "source": [
    "fig, ax = pl.subplots(2,1, figsize=(10,8), sharex=True, constrained_layout=True)\n",
    "\n",
    "# df1.loc[df1.Cluster=='IC_2602','parallax'].plot(ax=ax[0], kind='kde', secondary_y=True, color='C1')\n",
    "df1.loc[df1.Cluster=='IC_2602','parallax'].plot(ax=ax[0], kind='hist', color='C1', bins=30)\n",
    "# df2.loc[df2.Cluster=='IC_2602','parallax'].plot(ax=ax[1], kind='kde', secondary_y=True, color='C2')\n",
    "df2.loc[df2.Cluster=='IC_2602','parallax'].plot(ax=ax[1], kind='hist', color='C2')\n",
    "ax[1].set_xlabel('Parallax [mas]')\n",
    "fig.suptitle(cluster_name)\n",
    "ax[0].legend([c1.catalog_name])\n",
    "ax[1].legend([c2.catalog_name])"
   ]
  },
  {
   "cell_type": "code",
   "execution_count": 8,
   "metadata": {},
   "outputs": [
    {
     "data": {
      "text/plain": [
       "array(['IC2602,nan,IC2602,nan', 'IC_2602', 'IC2602',\n",
       "       'IC2602,Oh_5,N/A,IC2602,Oh_5,N/A', 'IC2602,IC_2602',\n",
       "       'IC_2602,IC2602', 'IC2602,IC_2602,nan,IC2602,IC_2602,nan',\n",
       "       'IC_2602,nan,IC_2602,nan', 'IC_2602,IC_2602,IC2602', 'IC 2602',\n",
       "       'IC_2602,IC 2602', 'IC 2602,Melotte_101', 'IC 2602,IC 2602',\n",
       "       'IC_2602,IC2602,nan,IC_2602,IC2602,nan', 'IC 2602,nan,IC 2602,nan',\n",
       "       'IC_2602,IC2602,IC_2602', 'IC 2602,IC_2602',\n",
       "       'IC_2602,IC2602,IC_2602,nan,IC_2602,IC2602,IC_2602,nan',\n",
       "       'IC 2602,Melotte 101', 'IC2602,IC_2602,IC_2602',\n",
       "       'IC 2602,Melotte 101,Melotte_101',\n",
       "       'IC 2602,Melotte_101,Melotte 101',\n",
       "       'IC 2602,Melotte_101,Melotte 101,Melotte_101',\n",
       "       'IC 2602,IC 2602,Melotte_101,Melotte_101,Melotte 101,Melotte 101',\n",
       "       'IC 2602,Melotte 101,Melotte_101,Melotte_101',\n",
       "       'IC_2602,Melotte_101',\n",
       "       'IC 2602,Melotte 101,nan,IC 2602,Melotte 101,nan',\n",
       "       'IC_2602,Melotte 101,IC 2602', 'IC 2602,Melotte 101,IC_2602',\n",
       "       'IC 2602,IC_2602,Melotte 101', 'IC 2602,IC_2602,IC_2602,IC2602',\n",
       "       'IC_2602,IC_2602,IC2602,nan,IC_2602,IC_2602,IC2602,nan',\n",
       "       'IC2602,IC_2602,IC_2602,IC 2602', 'IC 2602,IC2602,IC_2602',\n",
       "       'IC_2602,N/A,Oh_5,IC_2602,N/A,Oh_5',\n",
       "       'IC2602,IC_2602,IC_2602,nan,IC2602,IC_2602,IC_2602,nan',\n",
       "       'IC 2602,IC_2602,IC 2602', 'IC_2602,IC 2602,IC 2602,IC 2602',\n",
       "       'IC_2602,IC_2602,IC2602,N/A,Oh_5,IC_2602,IC_2602,IC2602,N/A,Oh_5',\n",
       "       'IC 2602,IC 2602,IC 2602',\n",
       "       'IC2602,IC_2602,IC_2602,Oh_5,IC2602,IC_2602,IC_2602,Oh_5',\n",
       "       'IC2602,IC_2602,Oh_5,IC2602,IC_2602,Oh_5',\n",
       "       'IC2602,IC_2602,Oh_5,N/A,IC2602,IC_2602,Oh_5,N/A',\n",
       "       'IC 2602,IC 2602,IC_2602', 'IC2602,Oh_5,IC2602,Oh_5',\n",
       "       'IC_2602,IC2602,Oh_5,N/A,IC_2602,IC2602,Oh_5,N/A',\n",
       "       'IC2602,N/A,Oh_5,IC2602,N/A,Oh_5',\n",
       "       'IC 2602,IC 2602,IC 2602,IC 2602',\n",
       "       'IC_2602,IC2602,Oh_5,IC2602,IC_2602,IC2602,Oh_5,IC2602'],\n",
       "      dtype=object)"
      ]
     },
     "execution_count": 8,
     "metadata": {},
     "output_type": "execute_result"
    }
   ],
   "source": [
    "#Bouma have more members merged from other catalogs\n",
    "df1.clusters.unique()"
   ]
  },
  {
   "cell_type": "code",
   "execution_count": 9,
   "metadata": {},
   "outputs": [],
   "source": [
    "#reduce the redundant names above\n",
    "\n",
    "from operator import concat\n",
    "from functools import reduce \n",
    "import numpy as np\n",
    "\n",
    "def reduce_list(l):\n",
    "    rl = np.unique(reduce(concat, l))\n",
    "    return rl"
   ]
  },
  {
   "cell_type": "code",
   "execution_count": 10,
   "metadata": {},
   "outputs": [
    {
     "data": {
      "text/plain": [
       "array(['IC2602', 'Melotte101', 'N/A', 'Oh5', 'nan'], dtype='<U10')"
      ]
     },
     "execution_count": 10,
     "metadata": {},
     "output_type": "execute_result"
    }
   ],
   "source": [
    "l = df1.loc[df1.Cluster=='IC_2602'].clusters.apply(lambda x: x.replace(' ','').replace('_','').split(','))\n",
    "reduce_list(l)"
   ]
  },
  {
   "cell_type": "code",
   "execution_count": 11,
   "metadata": {},
   "outputs": [
    {
     "data": {
      "text/plain": [
       "array(['CantatGaudin_2018', 'Dias2014', 'Gagne_2018_BANYAN_XI',\n",
       "       'GaiaCollaboration2018_tab1a', 'Kharchenko2013',\n",
       "       'Oh_2017_clustering', 'Zari_2018_PMS', 'Zari_2018_UMS'],\n",
       "      dtype='<U27')"
      ]
     },
     "execution_count": 11,
     "metadata": {},
     "output_type": "execute_result"
    }
   ],
   "source": [
    "l = df1.loc[df1.Cluster=='IC_2602'].reference.apply(lambda x: x.split(','))\n",
    "reduce_list(l)"
   ]
  },
  {
   "cell_type": "code",
   "execution_count": 12,
   "metadata": {},
   "outputs": [
    {
     "data": {
      "text/plain": [
       "(3927, 20)"
      ]
     },
     "execution_count": 12,
     "metadata": {},
     "output_type": "execute_result"
    }
   ],
   "source": [
    "#Bouma has majority of IC2602 members from: \n",
    "df1[df1.reference.isin(['Dias2014', 'Kharchenko2013'])].shape"
   ]
  },
  {
   "cell_type": "markdown",
   "metadata": {},
   "source": [
    "## find nearest cluster to target"
   ]
  },
  {
   "cell_type": "code",
   "execution_count": 13,
   "metadata": {
    "scrolled": false
   },
   "outputs": [],
   "source": [
    "t = cr.Target(gaiaDR2id=5576476552334683520, verbose=False)\n",
    "d = t.query_gaia_dr2_catalog(return_nearest_xmatch=True)"
   ]
  },
  {
   "cell_type": "code",
   "execution_count": 14,
   "metadata": {},
   "outputs": [
    {
     "data": {
      "text/plain": [
       "<SkyCoord (ICRS): (ra, dec, distance) in (deg, deg, pc)\n",
       "    (102.65804253, -37.96023412, 223.73943744)>"
      ]
     },
     "execution_count": 14,
     "metadata": {},
     "output_type": "execute_result"
    }
   ],
   "source": [
    "#3d coordinates\n",
    "t.target_coord"
   ]
  },
  {
   "cell_type": "code",
   "execution_count": 15,
   "metadata": {
    "scrolled": true
   },
   "outputs": [
    {
     "name": "stdout",
     "output_type": "stream",
     "text": [
      "Some parallaxes are negative in Bouma2019!\n",
      "These are removed for the meantime.\n",
      "For proper treatment, see:\n",
      "https://arxiv.org/pdf/1804.09366.pdf\n",
      "\n"
     ]
    }
   ],
   "source": [
    "nearest_cluster_member = t.find_nearest_cluster_member(match_id=False)"
   ]
  },
  {
   "cell_type": "code",
   "execution_count": 16,
   "metadata": {},
   "outputs": [
    {
     "data": {
      "text/plain": [
       "source_id                                           45743570662353024\n",
       "clusters                                                   Melotte 25\n",
       "reference                                                    Dias2014\n",
       "ext_catalog_name                                           533-008368\n",
       "ra                                                            64.0857\n",
       "dec                                                           16.5097\n",
       "pmra                                                              NaN\n",
       "pmdec                                                             NaN\n",
       "parallax                                                          NaN\n",
       "phot_g_mean_mag                                               14.4887\n",
       "phot_bp_mean_mag                                               15.076\n",
       "phot_rp_mean_mag                                              13.4803\n",
       "k13_name_match                                             Melotte_25\n",
       "Cluster                                                    Melotte_25\n",
       "how_match                                K13_index_table_string_match\n",
       "not_in_k13                                                      False\n",
       "comment             K13index: possibly this is a cluster, but para...\n",
       "k13_logt                                                          NaN\n",
       "k13_e_logt                                                        NaN\n",
       "distance                                                          NaN\n",
       "Name: 370, dtype: object"
      ]
     },
     "execution_count": 16,
     "metadata": {},
     "output_type": "execute_result"
    }
   ],
   "source": [
    "#nearest star in a cluster\n",
    "t.nearest_cluster_member"
   ]
  },
  {
   "cell_type": "code",
   "execution_count": 17,
   "metadata": {},
   "outputs": [
    {
     "data": {
      "text/html": [
       "<div>\n",
       "<style scoped>\n",
       "    .dataframe tbody tr th:only-of-type {\n",
       "        vertical-align: middle;\n",
       "    }\n",
       "\n",
       "    .dataframe tbody tr th {\n",
       "        vertical-align: top;\n",
       "    }\n",
       "\n",
       "    .dataframe thead th {\n",
       "        text-align: right;\n",
       "    }\n",
       "</style>\n",
       "<table border=\"1\" class=\"dataframe\">\n",
       "  <thead>\n",
       "    <tr style=\"text-align: right;\">\n",
       "      <th></th>\n",
       "      <th>source_id</th>\n",
       "      <th>clusters</th>\n",
       "      <th>reference</th>\n",
       "      <th>ext_catalog_name</th>\n",
       "      <th>ra</th>\n",
       "      <th>dec</th>\n",
       "      <th>pmra</th>\n",
       "      <th>pmdec</th>\n",
       "      <th>parallax</th>\n",
       "      <th>phot_g_mean_mag</th>\n",
       "      <th>phot_bp_mean_mag</th>\n",
       "      <th>phot_rp_mean_mag</th>\n",
       "      <th>k13_name_match</th>\n",
       "      <th>Cluster</th>\n",
       "      <th>how_match</th>\n",
       "      <th>not_in_k13</th>\n",
       "      <th>comment</th>\n",
       "      <th>k13_logt</th>\n",
       "      <th>k13_e_logt</th>\n",
       "      <th>distance</th>\n",
       "    </tr>\n",
       "  </thead>\n",
       "  <tbody>\n",
       "    <tr>\n",
       "      <th>346</th>\n",
       "      <td>45645301810449664</td>\n",
       "      <td>Melotte 25</td>\n",
       "      <td>Dias2014</td>\n",
       "      <td>532-007927</td>\n",
       "      <td>63.928767</td>\n",
       "      <td>16.290613</td>\n",
       "      <td>5.133255</td>\n",
       "      <td>2.013622</td>\n",
       "      <td>0.994975</td>\n",
       "      <td>14.176143</td>\n",
       "      <td>14.834952</td>\n",
       "      <td>13.389873</td>\n",
       "      <td>Melotte_25</td>\n",
       "      <td>Melotte_25</td>\n",
       "      <td>K13_index_table_string_match</td>\n",
       "      <td>False</td>\n",
       "      <td>K13index: possibly this is a cluster, but para...</td>\n",
       "      <td>NaN</td>\n",
       "      <td>NaN</td>\n",
       "      <td>1005.050634</td>\n",
       "    </tr>\n",
       "    <tr>\n",
       "      <th>347</th>\n",
       "      <td>45645679767571072</td>\n",
       "      <td>Melotte 25</td>\n",
       "      <td>Dias2014</td>\n",
       "      <td>532-007929</td>\n",
       "      <td>63.944675</td>\n",
       "      <td>16.308163</td>\n",
       "      <td>1.552334</td>\n",
       "      <td>1.755407</td>\n",
       "      <td>0.522951</td>\n",
       "      <td>15.875837</td>\n",
       "      <td>16.474293</td>\n",
       "      <td>15.127310</td>\n",
       "      <td>Melotte_25</td>\n",
       "      <td>Melotte_25</td>\n",
       "      <td>K13_index_table_string_match</td>\n",
       "      <td>False</td>\n",
       "      <td>K13index: possibly this is a cluster, but para...</td>\n",
       "      <td>NaN</td>\n",
       "      <td>NaN</td>\n",
       "      <td>1912.226749</td>\n",
       "    </tr>\n",
       "    <tr>\n",
       "      <th>348</th>\n",
       "      <td>45645989005215616</td>\n",
       "      <td>Melotte 25</td>\n",
       "      <td>Dias2014</td>\n",
       "      <td>532-007926</td>\n",
       "      <td>63.925646</td>\n",
       "      <td>16.330320</td>\n",
       "      <td>6.919474</td>\n",
       "      <td>-4.316495</td>\n",
       "      <td>1.089684</td>\n",
       "      <td>16.752245</td>\n",
       "      <td>17.581797</td>\n",
       "      <td>15.849460</td>\n",
       "      <td>Melotte_25</td>\n",
       "      <td>Melotte_25</td>\n",
       "      <td>K13_index_table_string_match</td>\n",
       "      <td>False</td>\n",
       "      <td>K13index: possibly this is a cluster, but para...</td>\n",
       "      <td>NaN</td>\n",
       "      <td>NaN</td>\n",
       "      <td>917.697202</td>\n",
       "    </tr>\n",
       "    <tr>\n",
       "      <th>352</th>\n",
       "      <td>45740272127474304</td>\n",
       "      <td>Melotte 25</td>\n",
       "      <td>Dias2014</td>\n",
       "      <td>532-007939</td>\n",
       "      <td>64.037664</td>\n",
       "      <td>16.393466</td>\n",
       "      <td>-0.228894</td>\n",
       "      <td>-3.205864</td>\n",
       "      <td>0.383354</td>\n",
       "      <td>16.566547</td>\n",
       "      <td>17.332075</td>\n",
       "      <td>15.682869</td>\n",
       "      <td>Melotte_25</td>\n",
       "      <td>Melotte_25</td>\n",
       "      <td>K13_index_table_string_match</td>\n",
       "      <td>False</td>\n",
       "      <td>K13index: possibly this is a cluster, but para...</td>\n",
       "      <td>NaN</td>\n",
       "      <td>NaN</td>\n",
       "      <td>2608.557645</td>\n",
       "    </tr>\n",
       "    <tr>\n",
       "      <th>353</th>\n",
       "      <td>45740547005380992</td>\n",
       "      <td>Melotte 25</td>\n",
       "      <td>Dias2014</td>\n",
       "      <td>533-008356</td>\n",
       "      <td>64.021685</td>\n",
       "      <td>16.408766</td>\n",
       "      <td>2.704390</td>\n",
       "      <td>-1.312295</td>\n",
       "      <td>0.901625</td>\n",
       "      <td>16.284498</td>\n",
       "      <td>17.010864</td>\n",
       "      <td>15.445896</td>\n",
       "      <td>Melotte_25</td>\n",
       "      <td>Melotte_25</td>\n",
       "      <td>K13_index_table_string_match</td>\n",
       "      <td>False</td>\n",
       "      <td>K13index: possibly this is a cluster, but para...</td>\n",
       "      <td>NaN</td>\n",
       "      <td>NaN</td>\n",
       "      <td>1109.108599</td>\n",
       "    </tr>\n",
       "    <tr>\n",
       "      <th>...</th>\n",
       "      <td>...</td>\n",
       "      <td>...</td>\n",
       "      <td>...</td>\n",
       "      <td>...</td>\n",
       "      <td>...</td>\n",
       "      <td>...</td>\n",
       "      <td>...</td>\n",
       "      <td>...</td>\n",
       "      <td>...</td>\n",
       "      <td>...</td>\n",
       "      <td>...</td>\n",
       "      <td>...</td>\n",
       "      <td>...</td>\n",
       "      <td>...</td>\n",
       "      <td>...</td>\n",
       "      <td>...</td>\n",
       "      <td>...</td>\n",
       "      <td>...</td>\n",
       "      <td>...</td>\n",
       "      <td>...</td>\n",
       "    </tr>\n",
       "    <tr>\n",
       "      <th>513900</th>\n",
       "      <td>3314527352969805312</td>\n",
       "      <td>Melotte 25,Melotte 25</td>\n",
       "      <td>Dias2014,Dias2014</td>\n",
       "      <td>543-009628,543-009629</td>\n",
       "      <td>67.267659</td>\n",
       "      <td>18.424263</td>\n",
       "      <td>7.569343</td>\n",
       "      <td>-5.699585</td>\n",
       "      <td>0.755857</td>\n",
       "      <td>16.061941</td>\n",
       "      <td>16.967373</td>\n",
       "      <td>15.081229</td>\n",
       "      <td>Melotte_25</td>\n",
       "      <td>Melotte_25</td>\n",
       "      <td>K13_index_table_string_match</td>\n",
       "      <td>False</td>\n",
       "      <td>K13index: possibly this is a cluster, but para...</td>\n",
       "      <td>NaN</td>\n",
       "      <td>NaN</td>\n",
       "      <td>1323.001655</td>\n",
       "    </tr>\n",
       "    <tr>\n",
       "      <th>513902</th>\n",
       "      <td>3314528310746224128</td>\n",
       "      <td>Melotte 25</td>\n",
       "      <td>Dias2014</td>\n",
       "      <td>543-009637</td>\n",
       "      <td>67.309520</td>\n",
       "      <td>18.499896</td>\n",
       "      <td>-1.065479</td>\n",
       "      <td>-3.577588</td>\n",
       "      <td>0.685797</td>\n",
       "      <td>16.952353</td>\n",
       "      <td>17.924576</td>\n",
       "      <td>15.945135</td>\n",
       "      <td>Melotte_25</td>\n",
       "      <td>Melotte_25</td>\n",
       "      <td>K13_index_table_string_match</td>\n",
       "      <td>False</td>\n",
       "      <td>K13index: possibly this is a cluster, but para...</td>\n",
       "      <td>NaN</td>\n",
       "      <td>NaN</td>\n",
       "      <td>1458.158441</td>\n",
       "    </tr>\n",
       "    <tr>\n",
       "      <th>513903</th>\n",
       "      <td>3314529895590433280</td>\n",
       "      <td>Melotte 25</td>\n",
       "      <td>Dias2014</td>\n",
       "      <td>543-009643</td>\n",
       "      <td>67.360022</td>\n",
       "      <td>18.533393</td>\n",
       "      <td>2.877971</td>\n",
       "      <td>-11.134698</td>\n",
       "      <td>1.213020</td>\n",
       "      <td>14.206573</td>\n",
       "      <td>15.191239</td>\n",
       "      <td>13.213704</td>\n",
       "      <td>Melotte_25</td>\n",
       "      <td>Melotte_25</td>\n",
       "      <td>K13_index_table_string_match</td>\n",
       "      <td>False</td>\n",
       "      <td>K13index: possibly this is a cluster, but para...</td>\n",
       "      <td>NaN</td>\n",
       "      <td>NaN</td>\n",
       "      <td>824.388454</td>\n",
       "    </tr>\n",
       "    <tr>\n",
       "      <th>513904</th>\n",
       "      <td>3314530101748860928</td>\n",
       "      <td>Melotte 25</td>\n",
       "      <td>Dias2014</td>\n",
       "      <td>543-009647</td>\n",
       "      <td>67.404217</td>\n",
       "      <td>18.541789</td>\n",
       "      <td>5.351107</td>\n",
       "      <td>-9.572095</td>\n",
       "      <td>2.176240</td>\n",
       "      <td>15.193776</td>\n",
       "      <td>16.335903</td>\n",
       "      <td>14.124325</td>\n",
       "      <td>Melotte_25</td>\n",
       "      <td>Melotte_25</td>\n",
       "      <td>K13_index_table_string_match</td>\n",
       "      <td>False</td>\n",
       "      <td>K13index: possibly this is a cluster, but para...</td>\n",
       "      <td>NaN</td>\n",
       "      <td>NaN</td>\n",
       "      <td>459.508093</td>\n",
       "    </tr>\n",
       "    <tr>\n",
       "      <th>513907</th>\n",
       "      <td>3314579236174739456</td>\n",
       "      <td>Melotte 25</td>\n",
       "      <td>Dias2014</td>\n",
       "      <td>543-009605</td>\n",
       "      <td>67.128184</td>\n",
       "      <td>18.561967</td>\n",
       "      <td>2.277602</td>\n",
       "      <td>-1.864297</td>\n",
       "      <td>1.157149</td>\n",
       "      <td>13.645379</td>\n",
       "      <td>14.481981</td>\n",
       "      <td>12.736009</td>\n",
       "      <td>Melotte_25</td>\n",
       "      <td>Melotte_25</td>\n",
       "      <td>K13_index_table_string_match</td>\n",
       "      <td>False</td>\n",
       "      <td>K13index: possibly this is a cluster, but para...</td>\n",
       "      <td>NaN</td>\n",
       "      <td>NaN</td>\n",
       "      <td>864.192621</td>\n",
       "    </tr>\n",
       "  </tbody>\n",
       "</table>\n",
       "<p>5153 rows × 20 columns</p>\n",
       "</div>"
      ],
      "text/plain": [
       "                  source_id               clusters          reference  \\\n",
       "346       45645301810449664             Melotte 25           Dias2014   \n",
       "347       45645679767571072             Melotte 25           Dias2014   \n",
       "348       45645989005215616             Melotte 25           Dias2014   \n",
       "352       45740272127474304             Melotte 25           Dias2014   \n",
       "353       45740547005380992             Melotte 25           Dias2014   \n",
       "...                     ...                    ...                ...   \n",
       "513900  3314527352969805312  Melotte 25,Melotte 25  Dias2014,Dias2014   \n",
       "513902  3314528310746224128             Melotte 25           Dias2014   \n",
       "513903  3314529895590433280             Melotte 25           Dias2014   \n",
       "513904  3314530101748860928             Melotte 25           Dias2014   \n",
       "513907  3314579236174739456             Melotte 25           Dias2014   \n",
       "\n",
       "             ext_catalog_name         ra        dec      pmra      pmdec  \\\n",
       "346                532-007927  63.928767  16.290613  5.133255   2.013622   \n",
       "347                532-007929  63.944675  16.308163  1.552334   1.755407   \n",
       "348                532-007926  63.925646  16.330320  6.919474  -4.316495   \n",
       "352                532-007939  64.037664  16.393466 -0.228894  -3.205864   \n",
       "353                533-008356  64.021685  16.408766  2.704390  -1.312295   \n",
       "...                       ...        ...        ...       ...        ...   \n",
       "513900  543-009628,543-009629  67.267659  18.424263  7.569343  -5.699585   \n",
       "513902             543-009637  67.309520  18.499896 -1.065479  -3.577588   \n",
       "513903             543-009643  67.360022  18.533393  2.877971 -11.134698   \n",
       "513904             543-009647  67.404217  18.541789  5.351107  -9.572095   \n",
       "513907             543-009605  67.128184  18.561967  2.277602  -1.864297   \n",
       "\n",
       "        parallax  phot_g_mean_mag  phot_bp_mean_mag  phot_rp_mean_mag  \\\n",
       "346     0.994975        14.176143         14.834952         13.389873   \n",
       "347     0.522951        15.875837         16.474293         15.127310   \n",
       "348     1.089684        16.752245         17.581797         15.849460   \n",
       "352     0.383354        16.566547         17.332075         15.682869   \n",
       "353     0.901625        16.284498         17.010864         15.445896   \n",
       "...          ...              ...               ...               ...   \n",
       "513900  0.755857        16.061941         16.967373         15.081229   \n",
       "513902  0.685797        16.952353         17.924576         15.945135   \n",
       "513903  1.213020        14.206573         15.191239         13.213704   \n",
       "513904  2.176240        15.193776         16.335903         14.124325   \n",
       "513907  1.157149        13.645379         14.481981         12.736009   \n",
       "\n",
       "       k13_name_match     Cluster                     how_match not_in_k13  \\\n",
       "346        Melotte_25  Melotte_25  K13_index_table_string_match      False   \n",
       "347        Melotte_25  Melotte_25  K13_index_table_string_match      False   \n",
       "348        Melotte_25  Melotte_25  K13_index_table_string_match      False   \n",
       "352        Melotte_25  Melotte_25  K13_index_table_string_match      False   \n",
       "353        Melotte_25  Melotte_25  K13_index_table_string_match      False   \n",
       "...               ...         ...                           ...        ...   \n",
       "513900     Melotte_25  Melotte_25  K13_index_table_string_match      False   \n",
       "513902     Melotte_25  Melotte_25  K13_index_table_string_match      False   \n",
       "513903     Melotte_25  Melotte_25  K13_index_table_string_match      False   \n",
       "513904     Melotte_25  Melotte_25  K13_index_table_string_match      False   \n",
       "513907     Melotte_25  Melotte_25  K13_index_table_string_match      False   \n",
       "\n",
       "                                                  comment  k13_logt  \\\n",
       "346     K13index: possibly this is a cluster, but para...       NaN   \n",
       "347     K13index: possibly this is a cluster, but para...       NaN   \n",
       "348     K13index: possibly this is a cluster, but para...       NaN   \n",
       "352     K13index: possibly this is a cluster, but para...       NaN   \n",
       "353     K13index: possibly this is a cluster, but para...       NaN   \n",
       "...                                                   ...       ...   \n",
       "513900  K13index: possibly this is a cluster, but para...       NaN   \n",
       "513902  K13index: possibly this is a cluster, but para...       NaN   \n",
       "513903  K13index: possibly this is a cluster, but para...       NaN   \n",
       "513904  K13index: possibly this is a cluster, but para...       NaN   \n",
       "513907  K13index: possibly this is a cluster, but para...       NaN   \n",
       "\n",
       "        k13_e_logt     distance  \n",
       "346            NaN  1005.050634  \n",
       "347            NaN  1912.226749  \n",
       "348            NaN   917.697202  \n",
       "352            NaN  2608.557645  \n",
       "353            NaN  1109.108599  \n",
       "...            ...          ...  \n",
       "513900         NaN  1323.001655  \n",
       "513902         NaN  1458.158441  \n",
       "513903         NaN   824.388454  \n",
       "513904         NaN   459.508093  \n",
       "513907         NaN   864.192621  \n",
       "\n",
       "[5153 rows x 20 columns]"
      ]
     },
     "execution_count": 17,
     "metadata": {},
     "output_type": "execute_result"
    }
   ],
   "source": [
    "#nearest cluster\n",
    "t.nearest_cluster_members"
   ]
  },
  {
   "cell_type": "code",
   "execution_count": 18,
   "metadata": {},
   "outputs": [
    {
     "data": {
      "text/plain": [
       "'Melotte_25'"
      ]
     },
     "execution_count": 18,
     "metadata": {},
     "output_type": "execute_result"
    }
   ],
   "source": [
    "t.nearest_cluster_name"
   ]
  },
  {
   "cell_type": "code",
   "execution_count": 19,
   "metadata": {},
   "outputs": [
    {
     "data": {
      "text/plain": [
       "<matplotlib.lines.Line2D at 0x7fa1e1439550>"
      ]
     },
     "execution_count": 19,
     "metadata": {},
     "output_type": "execute_result"
    },
    {
     "data": {
      "image/png": "[encoded data removed]",
      "text/plain": [
       "<Figure size 432x288 with 1 Axes>"
      ]
     },
     "metadata": {
      "needs_background": "light"
     },
     "output_type": "display_data"
    }
   ],
   "source": [
    "#plot parallax distribution of cluster members \n",
    "fig = t.nearest_cluster_members.parallax.plot.kde()\n",
    "fig.axes.set_xlabel('parallax')\n",
    "fig.axes.axvline(t.gaia_params.parallax, 0, 1, c='k', ls='--')"
   ]
  },
  {
   "cell_type": "markdown",
   "metadata": {},
   "source": [
    "## plotting"
   ]
  },
  {
   "cell_type": "markdown",
   "metadata": {},
   "source": [
    "### Color-Magnitude diagram"
   ]
  },
  {
   "cell_type": "code",
   "execution_count": 20,
   "metadata": {
    "scrolled": false
   },
   "outputs": [],
   "source": [
    "t = cr.Target(gaiaDR2id=5251470948229949568, verbose=False)\n",
    "df_gaia = t.query_gaia_dr2_catalog(return_nearest_xmatch=True)"
   ]
  },
  {
   "cell_type": "code",
   "execution_count": 21,
   "metadata": {
    "scrolled": true
   },
   "outputs": [
    {
     "name": "stdout",
     "output_type": "stream",
     "text": [
      "Some parallaxes are negative in Bouma2019!\n",
      "These are removed for the meantime.\n",
      "For proper treatment, see:\n",
      "https://arxiv.org/pdf/1804.09366.pdf\n",
      "\n"
     ]
    },
    {
     "data": {
      "text/html": [
       "<div>\n",
       "<style scoped>\n",
       "    .dataframe tbody tr th:only-of-type {\n",
       "        vertical-align: middle;\n",
       "    }\n",
       "\n",
       "    .dataframe tbody tr th {\n",
       "        vertical-align: top;\n",
       "    }\n",
       "\n",
       "    .dataframe thead th {\n",
       "        text-align: right;\n",
       "    }\n",
       "</style>\n",
       "<table border=\"1\" class=\"dataframe\">\n",
       "  <thead>\n",
       "    <tr style=\"text-align: right;\">\n",
       "      <th></th>\n",
       "      <th>source_id</th>\n",
       "      <th>clusters</th>\n",
       "      <th>reference</th>\n",
       "      <th>ext_catalog_name</th>\n",
       "      <th>ra</th>\n",
       "      <th>dec</th>\n",
       "      <th>pmra</th>\n",
       "      <th>pmdec</th>\n",
       "      <th>parallax</th>\n",
       "      <th>phot_g_mean_mag</th>\n",
       "      <th>phot_bp_mean_mag</th>\n",
       "      <th>phot_rp_mean_mag</th>\n",
       "      <th>k13_name_match</th>\n",
       "      <th>Cluster</th>\n",
       "      <th>how_match</th>\n",
       "      <th>not_in_k13</th>\n",
       "      <th>comment</th>\n",
       "      <th>k13_logt</th>\n",
       "      <th>k13_e_logt</th>\n",
       "      <th>distance</th>\n",
       "    </tr>\n",
       "  </thead>\n",
       "  <tbody>\n",
       "    <tr>\n",
       "      <th>704039</th>\n",
       "      <td>5251470948229949568</td>\n",
       "      <td>IC2602,IC_2602,IC_2602</td>\n",
       "      <td>GaiaCollaboration2018_tab1a,CantatGaudin_2018,...</td>\n",
       "      <td>5251470948229949568,5251470948229949568,786691642</td>\n",
       "      <td>157.037281</td>\n",
       "      <td>-64.505211</td>\n",
       "      <td>-18.016542</td>\n",
       "      <td>11.306775</td>\n",
       "      <td>6.989271</td>\n",
       "      <td>10.355962</td>\n",
       "      <td>10.695068</td>\n",
       "      <td>9.887476</td>\n",
       "      <td>IC_2602</td>\n",
       "      <td>IC_2602</td>\n",
       "      <td>string_match</td>\n",
       "      <td>False</td>\n",
       "      <td>NaN</td>\n",
       "      <td>8.345</td>\n",
       "      <td>NaN</td>\n",
       "      <td>143.076438</td>\n",
       "    </tr>\n",
       "  </tbody>\n",
       "</table>\n",
       "</div>"
      ],
      "text/plain": [
       "                  source_id                clusters  \\\n",
       "704039  5251470948229949568  IC2602,IC_2602,IC_2602   \n",
       "\n",
       "                                                reference  \\\n",
       "704039  GaiaCollaboration2018_tab1a,CantatGaudin_2018,...   \n",
       "\n",
       "                                         ext_catalog_name          ra  \\\n",
       "704039  5251470948229949568,5251470948229949568,786691642  157.037281   \n",
       "\n",
       "              dec       pmra      pmdec  parallax  phot_g_mean_mag  \\\n",
       "704039 -64.505211 -18.016542  11.306775  6.989271        10.355962   \n",
       "\n",
       "        phot_bp_mean_mag  phot_rp_mean_mag k13_name_match  Cluster  \\\n",
       "704039         10.695068          9.887476        IC_2602  IC_2602   \n",
       "\n",
       "           how_match not_in_k13 comment  k13_logt  k13_e_logt    distance  \n",
       "704039  string_match      False     NaN     8.345         NaN  143.076438  "
      ]
     },
     "execution_count": 21,
     "metadata": {},
     "output_type": "execute_result"
    }
   ],
   "source": [
    "t.find_nearest_cluster_member()"
   ]
  },
  {
   "cell_type": "code",
   "execution_count": null,
   "metadata": {},
   "outputs": [],
   "source": [
    "# c = cr.Cluster(cluster_name='IC_2602')\n",
    "df_gaia_mem = c.query_cluster_members_gaia_params(data_loc='../data/')\n",
    "df_gaia_mem.shape"
   ]
  },
  {
   "cell_type": "code",
   "execution_count": null,
   "metadata": {},
   "outputs": [],
   "source": [
    "#CMD diagram\n",
    "ax = cr.plot_cmd(df=df_gaia_mem, target_gaia_id=t.gaiaid);\n",
    "ax.set_title(t.nearest_cluster_name)"
   ]
  },
  {
   "cell_type": "raw",
   "metadata": {},
   "source": [
    "#HR diagram\n",
    "ax = cr.plot_hrd(df=df_gaia_mem, target_gaia_id=t.gaiaid);\n",
    "ax.set_title(t.nearest_cluster_name)"
   ]
  },
  {
   "cell_type": "code",
   "execution_count": null,
   "metadata": {},
   "outputs": [],
   "source": [
    "cc = cr.ClusterCatalog(verbose=False)\n",
    "df = cc.query_catalog(name='Bossini2019')\n",
    "idx = df.Cluster.isin([t.nearest_cluster_name])\n",
    "d = df[idx]"
   ]
  },
  {
   "cell_type": "code",
   "execution_count": null,
   "metadata": {},
   "outputs": [],
   "source": [
    "d"
   ]
  },
  {
   "cell_type": "markdown",
   "metadata": {},
   "source": [
    "### kinematics"
   ]
  },
  {
   "cell_type": "code",
   "execution_count": null,
   "metadata": {},
   "outputs": [],
   "source": [
    "t = cr.Target(gaiaDR2id=5251470948229949568, verbose=False)\n",
    "df_gaia_target = t.query_gaia_dr2_catalog(return_nearest_xmatch=True)\n",
    "df_gaia_nearest_star = t.find_nearest_cluster_member()\n",
    "\n",
    "fig = cr.plot.plot_xyz_3d(t.nearest_cluster_members, target_gaiaid=t.gaiaid, zlim=(0,100));\n",
    "fig.suptitle(t.nearest_cluster_name);"
   ]
  },
  {
   "cell_type": "markdown",
   "metadata": {},
   "source": [
    "Bouma2019 catalog do not have radial_velocity so we need to query gaia catalog for each members."
   ]
  },
  {
   "cell_type": "code",
   "execution_count": null,
   "metadata": {},
   "outputs": [],
   "source": [
    "c = cr.Cluster(catalog_name='CantatGaudin2018', \n",
    "            cluster_name='IC_2602', \n",
    "            verbose=False)\n",
    "\n",
    "#query radial_velocity for each star from gaia dr2 catalog\n",
    "#trim faint cluster members with Gmag cut, but still include the target \n",
    "df_gaia_mem = c.query_cluster_members_gaia_params(gmag_cut=14, clobber=False)\n",
    "df_gaia_mem.shape"
   ]
  },
  {
   "cell_type": "code",
   "execution_count": null,
   "metadata": {},
   "outputs": [],
   "source": [
    "fig = cr.plot_rdp_pmrv(df=df_gaia_mem, target_gaia_id=t.gaiaid);\n",
    "fig.suptitle(t.nearest_cluster_name)"
   ]
  },
  {
   "cell_type": "markdown",
   "metadata": {},
   "source": [
    "### kinematics (galactocentric frame)"
   ]
  },
  {
   "cell_type": "code",
   "execution_count": null,
   "metadata": {},
   "outputs": [],
   "source": [
    "fig = cr.plot_xyz_uvw(df=df_gaia_mem, target_gaia_id=t.gaiaid);\n",
    "fig.suptitle(t.nearest_cluster_name)"
   ]
  },
  {
   "cell_type": "raw",
   "metadata": {},
   "source": [
    "from chronos.utils import get_transformed_coord\n",
    "\n",
    "df_gaia_mem = get_transformed_coord(df_gaia_mem, frame='galactocentric')"
   ]
  },
  {
   "cell_type": "raw",
   "metadata": {},
   "source": [
    "df_gaia_mem = df_gaia_mem[df_gaia_mem.Y>-500]"
   ]
  },
  {
   "cell_type": "markdown",
   "metadata": {},
   "source": [
    "## get gaia params for each TOI"
   ]
  },
  {
   "cell_type": "code",
   "execution_count": null,
   "metadata": {},
   "outputs": [],
   "source": [
    "toi_gaia_params = cr.query_gaia_params_of_all_tois(verbose=True, clobber=False, update=True)"
   ]
  },
  {
   "cell_type": "code",
   "execution_count": null,
   "metadata": {},
   "outputs": [],
   "source": [
    "toi_gaia_params.tail()"
   ]
  },
  {
   "cell_type": "markdown",
   "metadata": {},
   "source": [
    "## get nearest cluster for each TOI"
   ]
  },
  {
   "cell_type": "markdown",
   "metadata": {},
   "source": [
    "See scripts and also known_cluster_host_stars.ipynb."
   ]
  },
  {
   "cell_type": "markdown",
   "metadata": {},
   "source": [
    "## Interactive plot"
   ]
  },
  {
   "cell_type": "code",
   "execution_count": null,
   "metadata": {},
   "outputs": [],
   "source": [
    "import altair as alt\n",
    "alt.renderers.enable('notebook')\n",
    "\n",
    "cr.plot_interactive()"
   ]
  },
  {
   "cell_type": "markdown",
   "metadata": {},
   "source": [
    "## everest lightcurves"
   ]
  },
  {
   "cell_type": "code",
   "execution_count": null,
   "metadata": {
    "scrolled": false
   },
   "outputs": [],
   "source": [
    "%matplotlib inline\n",
    "import chronos as cr\n",
    "\n",
    "eve = cr.Everest(epicid=211314705, campaign=5, verbose=False)\n",
    "eve.lc.scatter()"
   ]
  },
  {
   "cell_type": "code",
   "execution_count": null,
   "metadata": {
    "scrolled": false
   },
   "outputs": [],
   "source": [
    "k2sff = cr.K2SFF(epicid=211314705, campaign=5, verbose=False)\n",
    "k2sff.lc.scatter()"
   ]
  },
  {
   "cell_type": "markdown",
   "metadata": {},
   "source": [
    "## isochrone fitting"
   ]
  },
  {
   "cell_type": "raw",
   "metadata": {},
   "source": [
    "#see also https://github.com/timothydmorton/isochrones/blob/master/isochrones/cluster.py\n",
    "#https://isochrones.readthedocs.io/en/latest/quickstart.html\n",
    "from isochrones.priors import ChabrierPrior\n",
    "import numpy as np\n",
    "\n",
    "from isochrones import get_ichrone\n",
    "tracks = get_ichrone('mist', tracks=True)\n",
    "\n",
    "# Simulate a 1000-star cluster\n",
    "\n",
    "N = 1000\n",
    "masses = ChabrierPrior().sample(N)\n",
    "feh, age, distance = d[['Fe/H','log10_age','distance']].values[0]\n",
    "AV = 0.15\n",
    "\n",
    "# By default this will return a dataframe\n",
    "# %timeit tracks.generate(masses, age, feh, distance=distance, AV=AV)\n",
    "df = tracks.generate(masses, age, feh, distance=distance, AV=AV)\n",
    "df = df.dropna()\n",
    "df['Bp_Rp'] = df.BP_mag - df.RP_mag"
   ]
  },
  {
   "cell_type": "raw",
   "metadata": {},
   "source": [
    "fig = plot_hrd(df=t.nearest_cluster_members, target_gaia_id=t.gaiaid);\n",
    "fig.axes[0].plot(df.Bp_Rp, df.G_mag, '.')\n",
    "fig.axes[0].set_title(t.nearest_cluster_name)"
   ]
  },
  {
   "cell_type": "markdown",
   "metadata": {},
   "source": [
    "## Clustering algorithms\n",
    "* [DBSCAN](https://scikit-learn.org/stable/auto_examples/cluster/plot_dbscan.html#sphx-glr-auto-examples-cluster-plot-dbscan-py)\n",
    "* [affinity Propagation](https://scikit-learn.org/stable/auto_examples/cluster/plot_affinity_propagation.html#sphx-glr-auto-examples-cluster-plot-affinity-propagation-py)"
   ]
  },
  {
   "cell_type": "code",
   "execution_count": null,
   "metadata": {},
   "outputs": [],
   "source": [
    "c = cr.Cluster(catalog_name='Bouma2019', \n",
    "             cluster_name='IC_2602', \n",
    "             verbose=False)\n",
    "df = c.query_cluster_members()"
   ]
  },
  {
   "cell_type": "code",
   "execution_count": null,
   "metadata": {},
   "outputs": [],
   "source": [
    "from sklearn.cluster import AffinityPropagation\n",
    "df.plot.scatter(x='ra',y='dec')"
   ]
  },
  {
   "cell_type": "code",
   "execution_count": null,
   "metadata": {},
   "outputs": [],
   "source": [
    "X = df[['ra','dec','parallax']].values"
   ]
  },
  {
   "cell_type": "raw",
   "metadata": {},
   "source": [
    "af = AffinityPropagation(damping=0.99,\n",
    "                    max_iter=200,\n",
    "                    convergence_iter=15,\n",
    "                    copy=True,\n",
    "                    preference=None,\n",
    "                    affinity='euclidean',\n",
    "                    verbose=False).fit(X)\n",
    "cluster_centers_indices = af.cluster_centers_indices_\n",
    "labels = af.labels_\n",
    "n_clusters_ = len(cluster_centers_indices)\n",
    "\n",
    "import matplotlib.pyplot as plt\n",
    "from itertools import cycle\n",
    "\n",
    "colors = cycle('bgrcmykbgrcmykbgrcmykbgrcmyk')\n",
    "for k, col in zip(range(n_clusters_), colors):\n",
    "    class_members = labels == k\n",
    "    cluster_center = X[cluster_centers_indices[k]]\n",
    "    plt.plot(X[class_members, 0], X[class_members, 1], col + '.')\n",
    "    plt.plot(cluster_center[0], cluster_center[1], 'o', markerfacecolor=col,\n",
    "             markeredgecolor='k', markersize=14)\n",
    "    for x in X[class_members]:\n",
    "        plt.plot([cluster_center[0], x[0]], [cluster_center[1], x[1]], col)\n",
    "\n",
    "plt.title('Estimated number of clusters: %d' % n_clusters_)"
   ]
  },
  {
   "cell_type": "raw",
   "metadata": {},
   "source": [
    "df.parallax.plot.kde()"
   ]
  }
 ],
 "metadata": {
  "kernelspec": {
   "display_name": "Python 3",
   "language": "python",
   "name": "python3"
  },
  "language_info": {
   "codemirror_mode": {
    "name": "ipython",
    "version": 3
   },
   "file_extension": ".py",
   "mimetype": "text/x-python",
   "name": "python",
   "nbconvert_exporter": "python",
   "pygments_lexer": "ipython3",
   "version": "3.6.2"
  },
  "toc": {
   "base_numbering": 1,
   "nav_menu": {
    "height": "66.9952px",
    "width": "171.575px"
   },
   "number_sections": true,
   "sideBar": true,
   "skip_h1_title": false,
   "title_cell": "Table of Contents",
   "title_sidebar": "Contents",
   "toc_cell": false,
   "toc_position": {
    "height": "calc(100% - 180px)",
    "left": "10px",
    "top": "150px",
    "width": "295.529px"
   },
   "toc_section_display": true,
   "toc_window_display": true
  }
 },
 "nbformat": 4,
 "nbformat_minor": 2
}
