{
 "cells": [
  {
   "cell_type": "markdown",
   "metadata": {},
   "source": [
    "# known cluster host stars"
   ]
  },
  {
   "cell_type": "code",
   "execution_count": 1,
   "metadata": {},
   "outputs": [],
   "source": [
    "from chronos import Target, Cluster"
   ]
  },
  {
   "cell_type": "code",
   "execution_count": 5,
   "metadata": {},
   "outputs": [
    {
     "name": "stdout",
     "output_type": "stream",
     "text": [
      "K2-25 3311804515502788352\n",
      "K2-33 6245758900889486720\n",
      "K2-95 659744295638254336\n",
      "K2-100 664337230586013312\n",
      "K2-136 145916050683920128\n",
      "K2-264 661167785238757376\n",
      "K2-284 3413793491812093824\n",
      "CVSO 30 3222255959210123904\n",
      "HD 222259A 6387058411482257536\n"
     ]
    }
   ],
   "source": [
    "names = 'K2-25,K2-33,K2-95,K2-100,K2-136,K2-264,K2-284,CVSO 30,HD 222259A'.split(',')\n",
    "\n",
    "for name in names:\n",
    "    t = Target(name=name,verbose=False)\n",
    "    t.query_gaia_dr2_catalog(return_nearest_xmatch=True)\n",
    "    print(name,t.gaiaid)"
   ]
  },
  {
   "cell_type": "code",
   "execution_count": 8,
   "metadata": {},
   "outputs": [
    {
     "name": "stdout",
     "output_type": "stream",
     "text": [
      "Created TAP+ (v1.2.1) - Connection:\n",
      "\tHost: gea.esac.esa.int\n",
      "\tUse HTTPS: True\n",
      "\tPort: 443\n",
      "\tSSL Port: 443\n",
      "Created TAP+ (v1.2.1) - Connection:\n",
      "\tHost: geadata.esac.esa.int\n",
      "\tUse HTTPS: True\n",
      "\tPort: 443\n",
      "\tSSL Port: 443\n",
      "Some parallaxes are negative in Bouma19!\n",
      "See: https://arxiv.org/pdf/1804.09366.pdf\n",
      "These are removed for the meantime.\n",
      "\n",
      "Figure(800x800)\n",
      "Figure(1000x1000)\n",
      "Figure(1200x800)\n"
     ]
    }
   ],
   "source": [
    "%matplotlib inline\n",
    "!../scripts/find_cluster_near_target 3311804515502788352 -p"
   ]
  }
 ],
 "metadata": {
  "kernelspec": {
   "display_name": "Python 3",
   "language": "python",
   "name": "python3"
  },
  "language_info": {
   "codemirror_mode": {
    "name": "ipython",
    "version": 3
   },
   "file_extension": ".py",
   "mimetype": "text/x-python",
   "name": "python",
   "nbconvert_exporter": "python",
   "pygments_lexer": "ipython3",
   "version": "3.7.4"
  },
  "toc": {
   "base_numbering": 1,
   "nav_menu": {},
   "number_sections": true,
   "sideBar": true,
   "skip_h1_title": false,
   "title_cell": "Table of Contents",
   "title_sidebar": "Contents",
   "toc_cell": false,
   "toc_position": {},
   "toc_section_display": true,
   "toc_window_display": false
  }
 },
 "nbformat": 4,
 "nbformat_minor": 2
}
