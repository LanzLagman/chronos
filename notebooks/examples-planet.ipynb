{
 "cells": [
  {
   "cell_type": "markdown",
   "metadata": {},
   "source": [
    "<a href=\"https://colab.research.google.com/github/jpdeleon/chronos/blob/master/notebooks/examples-planet.ipynb\" target=\"_parent\"><img src=\"https://colab.research.google.com/assets/colab-badge.svg\" alt=\"Open In Colab\"/></a>"
   ]
  },
  {
   "cell_type": "code",
   "execution_count": 1,
   "metadata": {},
   "outputs": [],
   "source": [
    "#!pip install git+https://github.com/jpdeleon/chronos.git@master"
   ]
  },
  {
   "cell_type": "markdown",
   "metadata": {},
   "source": [
    "## MR relation\n",
    "* [Kanodia+2019](https://github.com/shbhuk/mrexo)"
   ]
  },
  {
   "cell_type": "code",
   "execution_count": 1,
   "metadata": {},
   "outputs": [
    {
     "name": "stdout",
     "output_type": "stream",
     "text": [
      "Created TAP+ (v1.2.1) - Connection:\n",
      "\tHost: gea.esac.esa.int\n",
      "\tUse HTTPS: True\n",
      "\tPort: 443\n",
      "\tSSL Port: 443\n",
      "Created TAP+ (v1.2.1) - Connection:\n",
      "\tHost: geadata.esac.esa.int\n",
      "\tUse HTTPS: True\n",
      "\tPort: 443\n",
      "\tSSL Port: 443\n"
     ]
    }
   ],
   "source": [
    "%matplotlib inline\n",
    "import numpy as np\n",
    "import matplotlib.pyplot as pl\n",
    "\n",
    "import chronos as cr"
   ]
  },
  {
   "cell_type": "code",
   "execution_count": 2,
   "metadata": {},
   "outputs": [
    {
     "name": "stdout",
     "output_type": "stream",
     "text": [
      "Target: TOI 179\n",
      "Searching Vizier: (44.262 -56.1919) with radius=3.0 arcsec\n"
     ]
    }
   ],
   "source": [
    "#initialize star properties\n",
    "toiid = 179\n",
    "star = cr.Star(toiid=toiid)"
   ]
  },
  {
   "cell_type": "code",
   "execution_count": 3,
   "metadata": {},
   "outputs": [
    {
     "data": {
      "text/plain": [
       "3.082304374857223"
      ]
     },
     "execution_count": 3,
     "metadata": {},
     "output_type": "execute_result"
    }
   ],
   "source": [
    "import astropy.units as u\n",
    "\n",
    "#is depth already corrected for dilution?\n",
    "np.sqrt(star.toi_depth)*star.toi_params[\"Stellar Radius (R_Sun)\"]*u.Rsun.to(u.Rearth)"
   ]
  },
  {
   "cell_type": "code",
   "execution_count": 4,
   "metadata": {},
   "outputs": [
    {
     "data": {
      "text/plain": [
       "2.813921"
      ]
     },
     "execution_count": 4,
     "metadata": {},
     "output_type": "execute_result"
    }
   ],
   "source": [
    "#is Rp already corrected for dilution?\n",
    "#seems not because it is smaller than above\n",
    "star.toi_params[\"Planet Radius (R_Earth)\"]"
   ]
  },
  {
   "cell_type": "code",
   "execution_count": 5,
   "metadata": {},
   "outputs": [
    {
     "name": "stdout",
     "output_type": "stream",
     "text": [
      "Querying TIC catalog for ra,dec=(44.262 -56.1919) within 3.0 arcsec.\n"
     ]
    }
   ],
   "source": [
    "toi_params = star.query_tic_catalog(return_nearest_xmatch=True)"
   ]
  },
  {
   "cell_type": "code",
   "execution_count": 6,
   "metadata": {},
   "outputs": [
    {
     "data": {
      "text/plain": [
       "2.8204870637325623"
      ]
     },
     "execution_count": 6,
     "metadata": {},
     "output_type": "execute_result"
    }
   ],
   "source": [
    "#cont ratio is too small to inflate radius from 2.8 to 3\n",
    "star.toi_params[\"Planet Radius (R_Earth)\"]*(1+star.tic_params.contratio)"
   ]
  },
  {
   "cell_type": "code",
   "execution_count": 7,
   "metadata": {},
   "outputs": [
    {
     "name": "stdout",
     "output_type": "stream",
     "text": [
      "Target: TOI 179\n",
      "Searching Vizier: (44.262 -56.1919) with radius=3.0 arcsec\n"
     ]
    }
   ],
   "source": [
    "p = cr.Planet(toiid=179)"
   ]
  },
  {
   "cell_type": "code",
   "execution_count": 8,
   "metadata": {},
   "outputs": [
    {
     "name": "stdout",
     "output_type": "stream",
     "text": [
      "Querying TIC catalog for ra,dec=(44.262 -56.1919) within 3.0 arcsec.\n"
     ]
    },
    {
     "data": {
      "text/plain": [
       "(3.3395540425866836, 1.2726874757225164, 1.1948485511256846)"
      ]
     },
     "execution_count": 8,
     "metadata": {},
     "output_type": "execute_result"
    }
   ],
   "source": [
    "p.get_Rp_from_depth()"
   ]
  },
  {
   "cell_type": "code",
   "execution_count": 9,
   "metadata": {},
   "outputs": [
    {
     "data": {
      "text/plain": [
       "(2.813921, 0.8975690000000001)"
      ]
     },
     "execution_count": 9,
     "metadata": {},
     "output_type": "execute_result"
    }
   ],
   "source": [
    "p.toi_Rp, p.toi_Rp_err"
   ]
  },
  {
   "cell_type": "code",
   "execution_count": 10,
   "metadata": {},
   "outputs": [
    {
     "data": {
      "text/plain": [
       "(6.414975481626071, 3.7644913322118967, 9.363417843573156)"
      ]
     },
     "execution_count": 10,
     "metadata": {},
     "output_type": "execute_result"
    }
   ],
   "source": [
    "p.get_Mp_from_MR_relation(use_toi_params=True)"
   ]
  },
  {
   "cell_type": "code",
   "execution_count": 11,
   "metadata": {},
   "outputs": [
    {
     "data": {
      "text/plain": [
       "(6.958240513536728, 4.1342352829770075, 11.010192702156369)"
      ]
     },
     "execution_count": 11,
     "metadata": {},
     "output_type": "execute_result"
    }
   ],
   "source": [
    "p.get_Mp_from_MR_relation(use_toi_params=False)"
   ]
  },
  {
   "cell_type": "code",
   "execution_count": 12,
   "metadata": {},
   "outputs": [
    {
     "data": {
      "text/plain": [
       "(6.946579190903385, 4.128307031361511, 11.000769002346804)"
      ]
     },
     "execution_count": 12,
     "metadata": {},
     "output_type": "execute_result"
    }
   ],
   "source": [
    "#Rp is derived from depth\n",
    "p.get_Mp_from_MR_relation(use_toi_params=False)"
   ]
  },
  {
   "cell_type": "code",
   "execution_count": 13,
   "metadata": {},
   "outputs": [
    {
     "name": "stdout",
     "output_type": "stream",
     "text": [
      "P from TOI: 4.1374+/-0.0001 d\n",
      "Rp from TOI: 2.81+/-0.90 Rearth\n",
      "Mp estimate using Rp via MR relation: 6.41-3.76+9.36 Mearth\n",
      "Mstar from starhorse catalog: 0.82+/-0.1 Msun\n"
     ]
    }
   ],
   "source": [
    "K, K_siglo, K_sighi, K_samples = p.get_RV_amplitude(use_Rp_from_depth=False,\n",
    "                                                    return_samples=True\n",
    "                                                   )"
   ]
  },
  {
   "cell_type": "code",
   "execution_count": 14,
   "metadata": {},
   "outputs": [
    {
     "data": {
      "image/png": "[encoded data removed]",
      "text/plain": [
       "<Figure size 432x288 with 1 Axes>"
      ]
     },
     "metadata": {
      "needs_background": "light"
     },
     "output_type": "display_data"
    }
   ],
   "source": [
    "pl.hist(K_samples, bins=20);"
   ]
  },
  {
   "cell_type": "code",
   "execution_count": 15,
   "metadata": {},
   "outputs": [
    {
     "data": {
      "text/plain": [
       "(3.082726484449271, 3.676139296828336, 4.269552109207401)"
      ]
     },
     "execution_count": 15,
     "metadata": {},
     "output_type": "execute_result"
    }
   ],
   "source": [
    "K-K_sighi, K, K+K_sighi"
   ]
  },
  {
   "cell_type": "code",
   "execution_count": 14,
   "metadata": {},
   "outputs": [],
   "source": [
    "import os\n",
    "import numpy as np\n",
    "import matplotlib.pyplot as pl\n",
    "import pandas as pd\n",
    "from tqdm import tqdm\n",
    "from mrexo import predict_from_measurement, generate_lookup_table\n",
    "import chronos as cr"
   ]
  },
  {
   "cell_type": "code",
   "execution_count": 4,
   "metadata": {},
   "outputs": [
    {
     "data": {
      "image/png": "[encoded data removed]",
      "text/plain": [
       "<Figure size 612x504 with 1 Axes>"
      ]
     },
     "metadata": {
      "needs_background": "light"
     },
     "output_type": "display_data"
    },
    {
     "data": {
      "image/png": "[encoded data removed]",
      "text/plain": [
       "<Figure size 432x288 with 1 Axes>"
      ]
     },
     "metadata": {
      "needs_background": "light"
     },
     "output_type": "display_data"
    },
    {
     "data": {
      "text/plain": [
       "(6.821055511374721, array([ 2.90516413, 16.18517973]), 719.7242897156681)"
      ]
     },
     "execution_count": 4,
     "metadata": {},
     "output_type": "execute_result"
    }
   ],
   "source": [
    "predicted_mass, qtls, iron_planet = predict_from_measurement(measurement=3, \n",
    "                                                             measurement_sigma=0.1, \n",
    "                                                             result_dir=None, \n",
    "                                                             dataset='kepler', \n",
    "                                                             is_posterior=False,\n",
    "                                                             predict='mass',\n",
    "                                                             qtl = [0.16,0.84], \n",
    "                                                             show_plot=True\n",
    "                                                            )\n",
    "predicted_mass, qtls, iron_planet"
   ]
  },
  {
   "cell_type": "raw",
   "metadata": {},
   "source": [
    "predicted_mass, qtls, iron_planet = predict_from_measurement(measurement=3, \n",
    "                                                             measurement_sigma=0.1, \n",
    "                                                             result_dir=None, \n",
    "                                                             dataset='mdwarf', \n",
    "                                                             is_posterior=False,\n",
    "                                                             predict='mass',\n",
    "                                                             qtl = [0.16,0.84], \n",
    "                                                             show_plot=True)\n",
    "predicted_mass, qtls, iron_planet"
   ]
  },
  {
   "cell_type": "code",
   "execution_count": 6,
   "metadata": {},
   "outputs": [
    {
     "data": {
      "text/html": [
       "<div>\n",
       "<style scoped>\n",
       "    .dataframe tbody tr th:only-of-type {\n",
       "        vertical-align: middle;\n",
       "    }\n",
       "\n",
       "    .dataframe tbody tr th {\n",
       "        vertical-align: top;\n",
       "    }\n",
       "\n",
       "    .dataframe thead th {\n",
       "        text-align: right;\n",
       "    }\n",
       "</style>\n",
       "<table border=\"1\" class=\"dataframe\">\n",
       "  <thead>\n",
       "    <tr style=\"text-align: right;\">\n",
       "      <th></th>\n",
       "      <th>TIC ID</th>\n",
       "      <th>TOI</th>\n",
       "      <th>Previous CTOI</th>\n",
       "      <th>Master</th>\n",
       "      <th>SG1A</th>\n",
       "      <th>SG1B</th>\n",
       "      <th>SG2</th>\n",
       "      <th>SG3</th>\n",
       "      <th>SG4</th>\n",
       "      <th>SG5</th>\n",
       "      <th>...</th>\n",
       "      <th>Stellar log(g) (cm/s^2) err</th>\n",
       "      <th>Stellar Radius (R_Sun)</th>\n",
       "      <th>Stellar Radius (R_Sun) err</th>\n",
       "      <th>Stellar Metallicity</th>\n",
       "      <th>Stellar Metallicity err</th>\n",
       "      <th>Sectors</th>\n",
       "      <th>Date TOI Alerted (UTC)</th>\n",
       "      <th>Date TOI Updated (UTC)</th>\n",
       "      <th>Date Modified</th>\n",
       "      <th>Comments</th>\n",
       "    </tr>\n",
       "  </thead>\n",
       "  <tbody>\n",
       "    <tr>\n",
       "      <th>0</th>\n",
       "      <td>231663901</td>\n",
       "      <td>101.01</td>\n",
       "      <td>NaN</td>\n",
       "      <td>5</td>\n",
       "      <td>5</td>\n",
       "      <td>5</td>\n",
       "      <td>5</td>\n",
       "      <td>5</td>\n",
       "      <td>5</td>\n",
       "      <td>5</td>\n",
       "      <td>...</td>\n",
       "      <td>NaN</td>\n",
       "      <td>0.86</td>\n",
       "      <td>NaN</td>\n",
       "      <td>NaN</td>\n",
       "      <td>NaN</td>\n",
       "      <td>1</td>\n",
       "      <td>2018-09-05 18:34:18</td>\n",
       "      <td>2019-12-17 15:43:31</td>\n",
       "      <td>2020-03-04 13:49:16</td>\n",
       "      <td>WASP-46 b</td>\n",
       "    </tr>\n",
       "    <tr>\n",
       "      <th>1</th>\n",
       "      <td>149603524</td>\n",
       "      <td>102.01</td>\n",
       "      <td>NaN</td>\n",
       "      <td>5</td>\n",
       "      <td>5</td>\n",
       "      <td>5</td>\n",
       "      <td>5</td>\n",
       "      <td>5</td>\n",
       "      <td>5</td>\n",
       "      <td>5</td>\n",
       "      <td>...</td>\n",
       "      <td>NaN</td>\n",
       "      <td>1.28</td>\n",
       "      <td>NaN</td>\n",
       "      <td>0.24</td>\n",
       "      <td>0.05</td>\n",
       "      <td>1,2,3,4,6</td>\n",
       "      <td>2018-09-05 18:34:18</td>\n",
       "      <td>2019-12-17 15:43:39</td>\n",
       "      <td>2020-01-16 02:34:07</td>\n",
       "      <td>WASP 62b</td>\n",
       "    </tr>\n",
       "    <tr>\n",
       "      <th>2</th>\n",
       "      <td>336732616</td>\n",
       "      <td>103.01</td>\n",
       "      <td>NaN</td>\n",
       "      <td>5</td>\n",
       "      <td>5</td>\n",
       "      <td>5</td>\n",
       "      <td>5</td>\n",
       "      <td>5</td>\n",
       "      <td>5</td>\n",
       "      <td>5</td>\n",
       "      <td>...</td>\n",
       "      <td>NaN</td>\n",
       "      <td>1.40</td>\n",
       "      <td>NaN</td>\n",
       "      <td>NaN</td>\n",
       "      <td>NaN</td>\n",
       "      <td>1</td>\n",
       "      <td>2018-09-05 18:34:18</td>\n",
       "      <td>2019-12-17 15:43:31</td>\n",
       "      <td>2020-01-16 02:34:07</td>\n",
       "      <td>HATS-3</td>\n",
       "    </tr>\n",
       "    <tr>\n",
       "      <th>3</th>\n",
       "      <td>231670397</td>\n",
       "      <td>104.01</td>\n",
       "      <td>NaN</td>\n",
       "      <td>5</td>\n",
       "      <td>5</td>\n",
       "      <td>5</td>\n",
       "      <td>5</td>\n",
       "      <td>5</td>\n",
       "      <td>5</td>\n",
       "      <td>5</td>\n",
       "      <td>...</td>\n",
       "      <td>NaN</td>\n",
       "      <td>2.07</td>\n",
       "      <td>NaN</td>\n",
       "      <td>NaN</td>\n",
       "      <td>NaN</td>\n",
       "      <td>1</td>\n",
       "      <td>2018-09-05 18:34:18</td>\n",
       "      <td>2019-12-17 15:43:31</td>\n",
       "      <td>2020-01-16 02:34:07</td>\n",
       "      <td>WASP-73</td>\n",
       "    </tr>\n",
       "    <tr>\n",
       "      <th>4</th>\n",
       "      <td>144065872</td>\n",
       "      <td>105.01</td>\n",
       "      <td>NaN</td>\n",
       "      <td>5</td>\n",
       "      <td>5</td>\n",
       "      <td>5</td>\n",
       "      <td>5</td>\n",
       "      <td>5</td>\n",
       "      <td>5</td>\n",
       "      <td>5</td>\n",
       "      <td>...</td>\n",
       "      <td>NaN</td>\n",
       "      <td>1.13</td>\n",
       "      <td>NaN</td>\n",
       "      <td>NaN</td>\n",
       "      <td>NaN</td>\n",
       "      <td>1</td>\n",
       "      <td>2018-09-05 18:34:19</td>\n",
       "      <td>2019-12-17 15:43:31</td>\n",
       "      <td>2020-01-16 02:34:07</td>\n",
       "      <td>WASP-95</td>\n",
       "    </tr>\n",
       "  </tbody>\n",
       "</table>\n",
       "<p>5 rows × 54 columns</p>\n",
       "</div>"
      ],
      "text/plain": [
       "      TIC ID     TOI Previous CTOI  Master  SG1A  SG1B  SG2  SG3  SG4  SG5  \\\n",
       "0  231663901  101.01           NaN       5     5     5    5    5    5    5   \n",
       "1  149603524  102.01           NaN       5     5     5    5    5    5    5   \n",
       "2  336732616  103.01           NaN       5     5     5    5    5    5    5   \n",
       "3  231670397  104.01           NaN       5     5     5    5    5    5    5   \n",
       "4  144065872  105.01           NaN       5     5     5    5    5    5    5   \n",
       "\n",
       "   ...  Stellar log(g) (cm/s^2) err Stellar Radius (R_Sun)  \\\n",
       "0  ...                          NaN                   0.86   \n",
       "1  ...                          NaN                   1.28   \n",
       "2  ...                          NaN                   1.40   \n",
       "3  ...                          NaN                   2.07   \n",
       "4  ...                          NaN                   1.13   \n",
       "\n",
       "  Stellar Radius (R_Sun) err  Stellar Metallicity   Stellar Metallicity err  \\\n",
       "0                        NaN                  NaN                       NaN   \n",
       "1                        NaN                 0.24                      0.05   \n",
       "2                        NaN                  NaN                       NaN   \n",
       "3                        NaN                  NaN                       NaN   \n",
       "4                        NaN                  NaN                       NaN   \n",
       "\n",
       "     Sectors  Date TOI Alerted (UTC) Date TOI Updated (UTC)  \\\n",
       "0          1     2018-09-05 18:34:18    2019-12-17 15:43:31   \n",
       "1  1,2,3,4,6     2018-09-05 18:34:18    2019-12-17 15:43:39   \n",
       "2          1     2018-09-05 18:34:18    2019-12-17 15:43:31   \n",
       "3          1     2018-09-05 18:34:18    2019-12-17 15:43:31   \n",
       "4          1     2018-09-05 18:34:19    2019-12-17 15:43:31   \n",
       "\n",
       "         Date Modified   Comments  \n",
       "0  2020-03-04 13:49:16  WASP-46 b  \n",
       "1  2020-01-16 02:34:07   WASP 62b  \n",
       "2  2020-01-16 02:34:07     HATS-3  \n",
       "3  2020-01-16 02:34:07    WASP-73  \n",
       "4  2020-01-16 02:34:07    WASP-95  \n",
       "\n",
       "[5 rows x 54 columns]"
      ]
     },
     "execution_count": 6,
     "metadata": {},
     "output_type": "execute_result"
    }
   ],
   "source": [
    "tois = cr.get_tois()\n",
    "tois.head()"
   ]
  },
  {
   "cell_type": "code",
   "execution_count": 11,
   "metadata": {},
   "outputs": [
    {
     "name": "stderr",
     "output_type": "stream",
     "text": [
      "35it [00:10,  3.51it/s]"
     ]
    },
    {
     "name": "stdout",
     "output_type": "stream",
     "text": [
      "Mass of 100% Iron planet of 1.2676969999999999 Earth Radii = 6.701114421841147 Earth Mass (Fortney, Marley and Barnes 2007)\n"
     ]
    },
    {
     "name": "stderr",
     "output_type": "stream",
     "text": [
      "65it [00:20,  3.30it/s]"
     ]
    },
    {
     "name": "stdout",
     "output_type": "stream",
     "text": [
      "Mass of 100% Iron planet of 0.9905290000000001 Earth Radii = 2.356418463226129 Earth Mass (Fortney, Marley and Barnes 2007)\n"
     ]
    },
    {
     "name": "stderr",
     "output_type": "stream",
     "text": [
      "68it [00:21,  3.25it/s]"
     ]
    },
    {
     "name": "stdout",
     "output_type": "stream",
     "text": [
      "Mass of 100% Iron planet of 0.8578680000000001 Earth Radii = 1.3419555534444758 Earth Mass (Fortney, Marley and Barnes 2007)\n"
     ]
    },
    {
     "name": "stderr",
     "output_type": "stream",
     "text": [
      "92it [00:31,  2.42it/s]"
     ]
    },
    {
     "name": "stdout",
     "output_type": "stream",
     "text": [
      "Mass of 100% Iron planet of 1.2212020000000001 Earth Radii = 5.680474561202266 Earth Mass (Fortney, Marley and Barnes 2007)\n"
     ]
    },
    {
     "name": "stderr",
     "output_type": "stream",
     "text": [
      "102it [00:34,  2.88it/s]"
     ]
    },
    {
     "name": "stdout",
     "output_type": "stream",
     "text": [
      "Mass of 100% Iron planet of 1.004227 Earth Radii = 2.490791309536094 Earth Mass (Fortney, Marley and Barnes 2007)\n"
     ]
    },
    {
     "name": "stderr",
     "output_type": "stream",
     "text": [
      "134it [00:45,  3.17it/s]"
     ]
    },
    {
     "name": "stdout",
     "output_type": "stream",
     "text": [
      "Mass of 100% Iron planet of 1.1255709999999999 Earth Radii = 3.9959683740856833 Earth Mass (Fortney, Marley and Barnes 2007)\n"
     ]
    },
    {
     "name": "stderr",
     "output_type": "stream",
     "text": [
      "137it [00:46,  3.09it/s]"
     ]
    },
    {
     "name": "stdout",
     "output_type": "stream",
     "text": [
      "Mass of 100% Iron planet of 1.136554 Earth Radii = 4.164307904407204 Earth Mass (Fortney, Marley and Barnes 2007)\n"
     ]
    },
    {
     "name": "stderr",
     "output_type": "stream",
     "text": [
      "154it [00:52,  3.10it/s]"
     ]
    },
    {
     "name": "stdout",
     "output_type": "stream",
     "text": [
      "Mass of 100% Iron planet of 1.2975780000000001 Earth Radii = 7.438205000611233 Earth Mass (Fortney, Marley and Barnes 2007)\n"
     ]
    },
    {
     "name": "stderr",
     "output_type": "stream",
     "text": [
      "306it [01:48,  3.06it/s]"
     ]
    },
    {
     "name": "stdout",
     "output_type": "stream",
     "text": [
      "Mass of 100% Iron planet of 0.627402 Earth Radii = 0.43493783932563196 Earth Mass (Fortney, Marley and Barnes 2007)\n"
     ]
    },
    {
     "name": "stderr",
     "output_type": "stream",
     "text": [
      "309it [01:49,  3.27it/s]"
     ]
    },
    {
     "name": "stdout",
     "output_type": "stream",
     "text": [
      "Mass of 100% Iron planet of 1.161745 Earth Radii = 4.573689265908458 Earth Mass (Fortney, Marley and Barnes 2007)\n"
     ]
    },
    {
     "name": "stderr",
     "output_type": "stream",
     "text": [
      "460it [02:47,  2.16it/s]"
     ]
    },
    {
     "name": "stdout",
     "output_type": "stream",
     "text": [
      "Mass of 100% Iron planet of 1.071212 Earth Radii = 3.246177137754048 Earth Mass (Fortney, Marley and Barnes 2007)\n"
     ]
    },
    {
     "name": "stderr",
     "output_type": "stream",
     "text": [
      "\r",
      "461it [02:47,  2.44it/s]"
     ]
    },
    {
     "name": "stdout",
     "output_type": "stream",
     "text": [
      "Mass of 100% Iron planet of 1.175902 Earth Radii = 4.8186624918396435 Earth Mass (Fortney, Marley and Barnes 2007)\n"
     ]
    },
    {
     "name": "stderr",
     "output_type": "stream",
     "text": [
      "472it [02:51,  3.26it/s]"
     ]
    },
    {
     "name": "stdout",
     "output_type": "stream",
     "text": [
      "Mass of 100% Iron planet of 1.116355 Earth Radii = 3.85926839790642 Earth Mass (Fortney, Marley and Barnes 2007)\n"
     ]
    },
    {
     "name": "stderr",
     "output_type": "stream",
     "text": [
      "482it [02:54,  2.91it/s]"
     ]
    },
    {
     "name": "stdout",
     "output_type": "stream",
     "text": [
      "Mass of 100% Iron planet of 1.144488 Earth Radii = 4.2896858346275 Earth Mass (Fortney, Marley and Barnes 2007)\n"
     ]
    },
    {
     "name": "stderr",
     "output_type": "stream",
     "text": [
      "495it [02:59,  2.78it/s]"
     ]
    },
    {
     "name": "stdout",
     "output_type": "stream",
     "text": [
      "Mass of 100% Iron planet of 0.746412 Earth Radii = 0.800583893878651 Earth Mass (Fortney, Marley and Barnes 2007)\n"
     ]
    },
    {
     "name": "stderr",
     "output_type": "stream",
     "text": [
      "\r",
      "496it [02:59,  2.85it/s]"
     ]
    },
    {
     "name": "stdout",
     "output_type": "stream",
     "text": [
      "Mass of 100% Iron planet of 1.134371 Earth Radii = 4.1303702959897155 Earth Mass (Fortney, Marley and Barnes 2007)\n"
     ]
    },
    {
     "name": "stderr",
     "output_type": "stream",
     "text": [
      "501it [03:01,  2.99it/s]"
     ]
    },
    {
     "name": "stdout",
     "output_type": "stream",
     "text": [
      "Mass of 100% Iron planet of 1.037152 Earth Radii = 2.8407570871774293 Earth Mass (Fortney, Marley and Barnes 2007)\n"
     ]
    },
    {
     "name": "stderr",
     "output_type": "stream",
     "text": [
      "506it [03:03,  2.76it/s]"
     ]
    },
    {
     "name": "stdout",
     "output_type": "stream",
     "text": [
      "Mass of 100% Iron planet of 0.9202030000000001 Earth Radii = 1.759191321168674 Earth Mass (Fortney, Marley and Barnes 2007)\n"
     ]
    },
    {
     "name": "stderr",
     "output_type": "stream",
     "text": [
      "548it [03:17,  2.79it/s]"
     ]
    },
    {
     "name": "stdout",
     "output_type": "stream",
     "text": [
      "Mass of 100% Iron planet of 1.151749 Earth Radii = 4.407269260845465 Earth Mass (Fortney, Marley and Barnes 2007)\n"
     ]
    },
    {
     "name": "stderr",
     "output_type": "stream",
     "text": [
      "555it [03:20,  2.80it/s]"
     ]
    },
    {
     "name": "stdout",
     "output_type": "stream",
     "text": [
      "Mass of 100% Iron planet of 1.268556 Earth Radii = 6.721379713461872 Earth Mass (Fortney, Marley and Barnes 2007)\n"
     ]
    },
    {
     "name": "stderr",
     "output_type": "stream",
     "text": [
      "560it [03:22,  2.85it/s]"
     ]
    },
    {
     "name": "stdout",
     "output_type": "stream",
     "text": [
      "Mass of 100% Iron planet of 1.112357 Earth Radii = 3.8012304894114326 Earth Mass (Fortney, Marley and Barnes 2007)\n"
     ]
    },
    {
     "name": "stderr",
     "output_type": "stream",
     "text": [
      "\r",
      "561it [03:22,  2.88it/s]"
     ]
    },
    {
     "name": "stdout",
     "output_type": "stream",
     "text": [
      "Mass of 100% Iron planet of 0.815358 Earth Radii = 1.107851988754591 Earth Mass (Fortney, Marley and Barnes 2007)\n"
     ]
    },
    {
     "name": "stderr",
     "output_type": "stream",
     "text": [
      "614it [03:39,  3.27it/s]"
     ]
    },
    {
     "name": "stdout",
     "output_type": "stream",
     "text": [
      "Mass of 100% Iron planet of 1.159758 Earth Radii = 4.540182990015548 Earth Mass (Fortney, Marley and Barnes 2007)\n"
     ]
    },
    {
     "name": "stderr",
     "output_type": "stream",
     "text": [
      "649it [03:53,  3.11it/s]"
     ]
    },
    {
     "name": "stdout",
     "output_type": "stream",
     "text": [
      "Mass of 100% Iron planet of 0.933214 Earth Radii = 1.8587961097661192 Earth Mass (Fortney, Marley and Barnes 2007)\n"
     ]
    },
    {
     "name": "stderr",
     "output_type": "stream",
     "text": [
      "768it [04:56,  2.79it/s]"
     ]
    },
    {
     "name": "stdout",
     "output_type": "stream",
     "text": [
      "Mass of 100% Iron planet of 1.13486 Earth Radii = 4.137951647230693 Earth Mass (Fortney, Marley and Barnes 2007)\n"
     ]
    },
    {
     "name": "stderr",
     "output_type": "stream",
     "text": [
      "854it [05:39,  2.52it/s]"
     ]
    },
    {
     "name": "stdout",
     "output_type": "stream",
     "text": [
      "Mass of 100% Iron planet of 1.086224 Earth Radii = 3.440022266363819 Earth Mass (Fortney, Marley and Barnes 2007)\n"
     ]
    },
    {
     "name": "stderr",
     "output_type": "stream",
     "text": [
      "861it [05:41,  3.09it/s]"
     ]
    },
    {
     "name": "stdout",
     "output_type": "stream",
     "text": [
      "Mass of 100% Iron planet of 0.8794190000000001 Earth Radii = 1.4755910856155445 Earth Mass (Fortney, Marley and Barnes 2007)\n"
     ]
    },
    {
     "name": "stderr",
     "output_type": "stream",
     "text": [
      "\r",
      "862it [05:42,  3.08it/s]"
     ]
    },
    {
     "name": "stdout",
     "output_type": "stream",
     "text": [
      "Mass of 100% Iron planet of 1.186259 Earth Radii = 5.004992184101742 Earth Mass (Fortney, Marley and Barnes 2007)\n"
     ]
    },
    {
     "name": "stderr",
     "output_type": "stream",
     "text": [
      "887it [05:50,  2.74it/s]"
     ]
    },
    {
     "name": "stdout",
     "output_type": "stream",
     "text": [
      "Mass of 100% Iron planet of 1.280385 Earth Radii = 7.005924642163775 Earth Mass (Fortney, Marley and Barnes 2007)\n"
     ]
    },
    {
     "name": "stderr",
     "output_type": "stream",
     "text": [
      "1039it [06:58,  3.09it/s]"
     ]
    },
    {
     "name": "stdout",
     "output_type": "stream",
     "text": [
      "Mass of 100% Iron planet of 1.1598600000000001 Earth Radii = 4.5418978119677105 Earth Mass (Fortney, Marley and Barnes 2007)\n"
     ]
    },
    {
     "name": "stderr",
     "output_type": "stream",
     "text": [
      "1047it [07:01,  2.96it/s]"
     ]
    },
    {
     "name": "stdout",
     "output_type": "stream",
     "text": [
      "Mass of 100% Iron planet of 1.1091030000000002 Earth Radii = 3.754548966357825 Earth Mass (Fortney, Marley and Barnes 2007)\n"
     ]
    },
    {
     "name": "stderr",
     "output_type": "stream",
     "text": [
      "1049it [07:01,  2.85it/s]"
     ]
    },
    {
     "name": "stdout",
     "output_type": "stream",
     "text": [
      "Mass of 100% Iron planet of 1.280972 Earth Radii = 7.020314035845064 Earth Mass (Fortney, Marley and Barnes 2007)\n"
     ]
    },
    {
     "name": "stderr",
     "output_type": "stream",
     "text": [
      "1056it [07:04,  2.97it/s]"
     ]
    },
    {
     "name": "stdout",
     "output_type": "stream",
     "text": [
      "Mass of 100% Iron planet of 1.0332219999999999 Earth Radii = 2.7968966684614647 Earth Mass (Fortney, Marley and Barnes 2007)\n"
     ]
    },
    {
     "name": "stderr",
     "output_type": "stream",
     "text": [
      "1060it [07:05,  2.61it/s]"
     ]
    },
    {
     "name": "stdout",
     "output_type": "stream",
     "text": [
      "Mass of 100% Iron planet of 1.211208 Earth Radii = 5.479663332725405 Earth Mass (Fortney, Marley and Barnes 2007)\n"
     ]
    },
    {
     "name": "stderr",
     "output_type": "stream",
     "text": [
      "1065it [07:07,  2.72it/s]"
     ]
    },
    {
     "name": "stdout",
     "output_type": "stream",
     "text": [
      "Mass of 100% Iron planet of 1.273608 Earth Radii = 6.841648555934726 Earth Mass (Fortney, Marley and Barnes 2007)\n"
     ]
    },
    {
     "name": "stderr",
     "output_type": "stream",
     "text": [
      "1073it [07:10,  2.78it/s]"
     ]
    },
    {
     "name": "stdout",
     "output_type": "stream",
     "text": [
      "Mass of 100% Iron planet of 1.288563 Earth Radii = 7.208729587133681 Earth Mass (Fortney, Marley and Barnes 2007)\n"
     ]
    },
    {
     "name": "stderr",
     "output_type": "stream",
     "text": [
      "1345it [09:05,  2.65it/s]\n"
     ]
    }
   ],
   "source": [
    "masses = {}\n",
    "for key, row in tqdm(tois.iterrows()):\n",
    "    toi = row['TOI']\n",
    "    Rp = row['Planet Radius (R_Earth)']\n",
    "    Rp_err = row['Planet Radius (R_Earth) err']\n",
    "    Mp, (Mp_lo, Mp_hi), iron_planet = predict_from_measurement(measurement=Rp, \n",
    "                                                                measurement_sigma=Rp_err,\n",
    "                                                                qtl = [0.16,0.84],\n",
    "                                                                dataset = 'kepler',\n",
    "                                                              )\n",
    "    masses[toi] = (Mp, Mp_lo, Mp_hi)\n",
    "    #print(f\"{Mp} -{Mp-Mp_lo} +{Mp_hi-Mp}\")"
   ]
  },
  {
   "cell_type": "code",
   "execution_count": 63,
   "metadata": {},
   "outputs": [],
   "source": [
    "import deepdish as dd\n",
    "\n",
    "dd.io.save(\"../data/toi_Mp_from_MR_relation.hdf5\", masses)"
   ]
  },
  {
   "cell_type": "code",
   "execution_count": 51,
   "metadata": {},
   "outputs": [
    {
     "data": {
      "text/html": [
       "<div>\n",
       "<style scoped>\n",
       "    .dataframe tbody tr th:only-of-type {\n",
       "        vertical-align: middle;\n",
       "    }\n",
       "\n",
       "    .dataframe tbody tr th {\n",
       "        vertical-align: top;\n",
       "    }\n",
       "\n",
       "    .dataframe thead th {\n",
       "        text-align: right;\n",
       "    }\n",
       "</style>\n",
       "<table border=\"1\" class=\"dataframe\">\n",
       "  <thead>\n",
       "    <tr style=\"text-align: right;\">\n",
       "      <th></th>\n",
       "      <th>TOI</th>\n",
       "      <th>Planet mass (Mp_Earth)</th>\n",
       "      <th>Planet mass (Mp_Earth) lo</th>\n",
       "      <th>Planet mass (Mp_Earth) hi</th>\n",
       "    </tr>\n",
       "  </thead>\n",
       "  <tbody>\n",
       "    <tr>\n",
       "      <th>0</th>\n",
       "      <td>101.01</td>\n",
       "      <td>342.034952</td>\n",
       "      <td>127.494156</td>\n",
       "      <td>931.912367</td>\n",
       "    </tr>\n",
       "    <tr>\n",
       "      <th>1</th>\n",
       "      <td>102.01</td>\n",
       "      <td>377.103416</td>\n",
       "      <td>152.980876</td>\n",
       "      <td>980.335666</td>\n",
       "    </tr>\n",
       "    <tr>\n",
       "      <th>2</th>\n",
       "      <td>103.01</td>\n",
       "      <td>371.446377</td>\n",
       "      <td>147.230200</td>\n",
       "      <td>987.601462</td>\n",
       "    </tr>\n",
       "    <tr>\n",
       "      <th>3</th>\n",
       "      <td>104.01</td>\n",
       "      <td>327.045211</td>\n",
       "      <td>118.207200</td>\n",
       "      <td>901.004573</td>\n",
       "    </tr>\n",
       "    <tr>\n",
       "      <th>4</th>\n",
       "      <td>105.01</td>\n",
       "      <td>322.569277</td>\n",
       "      <td>115.572727</td>\n",
       "      <td>891.704816</td>\n",
       "    </tr>\n",
       "  </tbody>\n",
       "</table>\n",
       "</div>"
      ],
      "text/plain": [
       "      TOI  Planet mass (Mp_Earth)  Planet mass (Mp_Earth) lo  \\\n",
       "0  101.01              342.034952                 127.494156   \n",
       "1  102.01              377.103416                 152.980876   \n",
       "2  103.01              371.446377                 147.230200   \n",
       "3  104.01              327.045211                 118.207200   \n",
       "4  105.01              322.569277                 115.572727   \n",
       "\n",
       "   Planet mass (Mp_Earth) hi  \n",
       "0                 931.912367  \n",
       "1                 980.335666  \n",
       "2                 987.601462  \n",
       "3                 901.004573  \n",
       "4                 891.704816  "
      ]
     },
     "execution_count": 51,
     "metadata": {},
     "output_type": "execute_result"
    }
   ],
   "source": [
    "df = pd.DataFrame(masses).T\n",
    "df.columns = [\"Planet mass (Mp_Earth)\", \"Planet mass (Mp_Earth) lo\", \"Planet mass (Mp_Earth) hi\"]\n",
    "df.index.name = \"TOI\"\n",
    "df = df.reset_index()\n",
    "df.head()"
   ]
  },
  {
   "cell_type": "markdown",
   "metadata": {},
   "source": [
    "## Estimate RV K amplitude"
   ]
  },
  {
   "cell_type": "code",
   "execution_count": 52,
   "metadata": {},
   "outputs": [],
   "source": [
    "from uncertainties import unumpy\n",
    "import astropy.units as u\n",
    "import astropy.constants as c\n",
    "\n",
    "def RV_K(P_days, Ms_Msun, mp_Mearth, ecc=0., inc_deg=90., with_unit=False):\n",
    "    '''Compute the RV semiamplitude in m/s'''\n",
    "    P = P_days*u.day.to(u.second)*u.second\n",
    "    Ms = Ms_Msun*u.Msun.to(u.kg)*u.kg\n",
    "    mp = mp_Mearth*u.Mearth.to(u.kg)*u.kg\n",
    "    inc = np.deg2rad(inc_deg)\n",
    "    K_ms = (2*np.pi*c.G/(P*Ms*Ms))**(1./3) * mp*np.sin(inc) / \\\n",
    "            unumpy.sqrt(1-ecc**2)\n",
    "    if with_unit:\n",
    "        return K_ms\n",
    "    else:\n",
    "        return K_ms.value"
   ]
  },
  {
   "cell_type": "code",
   "execution_count": 66,
   "metadata": {},
   "outputs": [
    {
     "data": {
      "text/html": [
       "<div>\n",
       "<style scoped>\n",
       "    .dataframe tbody tr th:only-of-type {\n",
       "        vertical-align: middle;\n",
       "    }\n",
       "\n",
       "    .dataframe tbody tr th {\n",
       "        vertical-align: top;\n",
       "    }\n",
       "\n",
       "    .dataframe thead th {\n",
       "        text-align: right;\n",
       "    }\n",
       "</style>\n",
       "<table border=\"1\" class=\"dataframe\">\n",
       "  <thead>\n",
       "    <tr style=\"text-align: right;\">\n",
       "      <th></th>\n",
       "      <th>TOI</th>\n",
       "      <th>Planet mass (Mp_Earth)</th>\n",
       "      <th>Planet mass (Mp_Earth) lo</th>\n",
       "      <th>Planet mass (Mp_Earth) hi</th>\n",
       "      <th>RV_K_lo</th>\n",
       "      <th>RV_K_hi</th>\n",
       "      <th>RV_K</th>\n",
       "    </tr>\n",
       "  </thead>\n",
       "  <tbody>\n",
       "    <tr>\n",
       "      <th>1340</th>\n",
       "      <td>1789.01</td>\n",
       "      <td>321.638570</td>\n",
       "      <td>121.592666</td>\n",
       "      <td>853.593918</td>\n",
       "      <td>50.2442</td>\n",
       "      <td>352.72</td>\n",
       "      <td>132.907</td>\n",
       "    </tr>\n",
       "    <tr>\n",
       "      <th>1341</th>\n",
       "      <td>1790.01</td>\n",
       "      <td>5.361155</td>\n",
       "      <td>2.222578</td>\n",
       "      <td>13.139641</td>\n",
       "      <td>NaN</td>\n",
       "      <td>NaN</td>\n",
       "      <td>NaN</td>\n",
       "    </tr>\n",
       "    <tr>\n",
       "      <th>1342</th>\n",
       "      <td>1791.01</td>\n",
       "      <td>8.692156</td>\n",
       "      <td>3.468526</td>\n",
       "      <td>22.738370</td>\n",
       "      <td>0.626664</td>\n",
       "      <td>4.10818</td>\n",
       "      <td>1.57043</td>\n",
       "    </tr>\n",
       "    <tr>\n",
       "      <th>1343</th>\n",
       "      <td>1792.01</td>\n",
       "      <td>7.445579</td>\n",
       "      <td>2.971223</td>\n",
       "      <td>20.287383</td>\n",
       "      <td>NaN</td>\n",
       "      <td>NaN</td>\n",
       "      <td>NaN</td>\n",
       "    </tr>\n",
       "    <tr>\n",
       "      <th>1344</th>\n",
       "      <td>1793.01</td>\n",
       "      <td>7.878945</td>\n",
       "      <td>3.239096</td>\n",
       "      <td>19.864467</td>\n",
       "      <td>0.747953</td>\n",
       "      <td>4.58699</td>\n",
       "      <td>1.81936</td>\n",
       "    </tr>\n",
       "  </tbody>\n",
       "</table>\n",
       "</div>"
      ],
      "text/plain": [
       "          TOI  Planet mass (Mp_Earth)  Planet mass (Mp_Earth) lo  \\\n",
       "1340  1789.01              321.638570                 121.592666   \n",
       "1341  1790.01                5.361155                   2.222578   \n",
       "1342  1791.01                8.692156                   3.468526   \n",
       "1343  1792.01                7.445579                   2.971223   \n",
       "1344  1793.01                7.878945                   3.239096   \n",
       "\n",
       "      Planet mass (Mp_Earth) hi   RV_K_lo  RV_K_hi     RV_K  \n",
       "1340                 853.593918   50.2442   352.72  132.907  \n",
       "1341                  13.139641       NaN      NaN      NaN  \n",
       "1342                  22.738370  0.626664  4.10818  1.57043  \n",
       "1343                  20.287383       NaN      NaN      NaN  \n",
       "1344                  19.864467  0.747953  4.58699  1.81936  "
      ]
     },
     "execution_count": 66,
     "metadata": {},
     "output_type": "execute_result"
    }
   ],
   "source": [
    "df['RV_K'] = RV_K(tois['Period (days)'], \n",
    "            tois['Stellar Radius (R_Sun)'],  #should be \n",
    "            df['Planet mass (Mp_Earth)'], \n",
    "            with_unit=True)\n",
    "\n",
    "df['RV_K_lo'] = RV_K(tois['Period (days)'], \n",
    "            tois['Stellar Radius (R_Sun)'],  #should be \n",
    "            df['Planet mass (Mp_Earth) lo'], \n",
    "            with_unit=True)\n",
    "\n",
    "df['RV_K_hi'] = RV_K(tois['Period (days)'], \n",
    "            tois['Stellar Radius (R_Sun)'],  #should be \n",
    "            df['Planet mass (Mp_Earth) hi'], \n",
    "            with_unit=True)\n",
    "df.tail()"
   ]
  },
  {
   "cell_type": "code",
   "execution_count": 67,
   "metadata": {},
   "outputs": [],
   "source": [
    "joint = pd.merge(tois, df, on=\"TOI\")\n",
    "joint.to_csv('../data/TOIs2.csv', index=False)"
   ]
  },
  {
   "cell_type": "code",
   "execution_count": null,
   "metadata": {},
   "outputs": [],
   "source": []
  }
 ],
 "metadata": {
  "kernelspec": {
   "display_name": "Python 3",
   "language": "python",
   "name": "python3"
  },
  "language_info": {
   "codemirror_mode": {
    "name": "ipython",
    "version": 3
   },
   "file_extension": ".py",
   "mimetype": "text/x-python",
   "name": "python",
   "nbconvert_exporter": "python",
   "pygments_lexer": "ipython3",
   "version": "3.7.6"
  },
  "toc": {
   "base_numbering": 1,
   "nav_menu": {},
   "number_sections": true,
   "sideBar": true,
   "skip_h1_title": false,
   "title_cell": "Table of Contents",
   "title_sidebar": "Contents",
   "toc_cell": false,
   "toc_position": {},
   "toc_section_display": true,
   "toc_window_display": false
  }
 },
 "nbformat": 4,
 "nbformat_minor": 4
}
