{
 "cells": [
  {
   "cell_type": "markdown",
   "metadata": {},
   "source": [
    "## TOIs with CDIPS lc"
   ]
  },
  {
   "cell_type": "code",
   "execution_count": 1,
   "metadata": {},
   "outputs": [
    {
     "name": "stdout",
     "output_type": "stream",
     "text": [
      "Created TAP+ (v1.2.1) - Connection:\n",
      "\tHost: gea.esac.esa.int\n",
      "\tUse HTTPS: True\n",
      "\tPort: 443\n",
      "\tSSL Port: 443\n",
      "Created TAP+ (v1.2.1) - Connection:\n",
      "\tHost: geadata.esac.esa.int\n",
      "\tUse HTTPS: True\n",
      "\tPort: 443\n",
      "\tSSL Port: 443\n"
     ]
    },
    {
     "data": {
      "text/html": [
       "<div>\n",
       "<style scoped>\n",
       "    .dataframe tbody tr th:only-of-type {\n",
       "        vertical-align: middle;\n",
       "    }\n",
       "\n",
       "    .dataframe tbody tr th {\n",
       "        vertical-align: top;\n",
       "    }\n",
       "\n",
       "    .dataframe thead th {\n",
       "        text-align: right;\n",
       "    }\n",
       "</style>\n",
       "<table border=\"1\" class=\"dataframe\">\n",
       "  <thead>\n",
       "    <tr style=\"text-align: right;\">\n",
       "      <th></th>\n",
       "      <th>TOI</th>\n",
       "      <th>source_id</th>\n",
       "      <th>clusters</th>\n",
       "      <th>reference</th>\n",
       "      <th>Cluster</th>\n",
       "      <th>k13_name_match</th>\n",
       "      <th>k13_logt</th>\n",
       "      <th>distance</th>\n",
       "      <th>TIC ID</th>\n",
       "      <th>Previous CTOI</th>\n",
       "      <th>...</th>\n",
       "      <th>Stellar log(g) (cm/s^2) err</th>\n",
       "      <th>Stellar Radius (R_Sun)</th>\n",
       "      <th>Stellar Radius (R_Sun) err</th>\n",
       "      <th>Stellar Metallicity</th>\n",
       "      <th>Stellar Metallicity err</th>\n",
       "      <th>Sectors</th>\n",
       "      <th>Date TOI Alerted (UTC)</th>\n",
       "      <th>Date TOI Updated (UTC)</th>\n",
       "      <th>Date Modified</th>\n",
       "      <th>Comments</th>\n",
       "    </tr>\n",
       "  </thead>\n",
       "  <tbody>\n",
       "    <tr>\n",
       "      <th>0</th>\n",
       "      <td>580.01</td>\n",
       "      <td>5519619186857962112</td>\n",
       "      <td>Pozzo_1,nan,Pozzo_1,nan</td>\n",
       "      <td>CantatGaudin_2018,Zari_2018_UMS,CantatGaudin_2...</td>\n",
       "      <td>Vel_OB2</td>\n",
       "      <td>Vel_OB2</td>\n",
       "      <td>NaN</td>\n",
       "      <td>349.831608</td>\n",
       "      <td>81419525</td>\n",
       "      <td>NaN</td>\n",
       "      <td>...</td>\n",
       "      <td>NaN</td>\n",
       "      <td>NaN</td>\n",
       "      <td>NaN</td>\n",
       "      <td>NaN</td>\n",
       "      <td>NaN</td>\n",
       "      <td>8</td>\n",
       "      <td>2019-04-01 16:52:01</td>\n",
       "      <td>2019-12-17 15:43:36</td>\n",
       "      <td>2020-01-16 02:34:07</td>\n",
       "      <td>3 GAIA stars within 5</td>\n",
       "    </tr>\n",
       "    <tr>\n",
       "      <th>1</th>\n",
       "      <td>581.01</td>\n",
       "      <td>5525188767305211904</td>\n",
       "      <td>Trumpler_10,nan,Trumpler_10,nan</td>\n",
       "      <td>CantatGaudin_2018,Zari_2018_UMS,CantatGaudin_2...</td>\n",
       "      <td>Trumpler_10</td>\n",
       "      <td>Trumpler_10</td>\n",
       "      <td>7.380</td>\n",
       "      <td>439.535656</td>\n",
       "      <td>180987952</td>\n",
       "      <td>NaN</td>\n",
       "      <td>...</td>\n",
       "      <td>1.270000</td>\n",
       "      <td>NaN</td>\n",
       "      <td>NaN</td>\n",
       "      <td>NaN</td>\n",
       "      <td>NaN</td>\n",
       "      <td>8</td>\n",
       "      <td>2019-04-01 16:52:00</td>\n",
       "      <td>2019-12-17 15:43:36</td>\n",
       "      <td>2020-01-16 02:34:07</td>\n",
       "      <td>NaN</td>\n",
       "    </tr>\n",
       "    <tr>\n",
       "      <th>2</th>\n",
       "      <td>681.01</td>\n",
       "      <td>5290968085934209152</td>\n",
       "      <td>NGC_2516,NGC2516,nan,NGC_2516,NGC2516,nan</td>\n",
       "      <td>CantatGaudin_2018,GaiaCollaboration2018_tab1b,...</td>\n",
       "      <td>NGC_2516</td>\n",
       "      <td>NGC_2516</td>\n",
       "      <td>8.475</td>\n",
       "      <td>426.487488</td>\n",
       "      <td>410450228</td>\n",
       "      <td>NaN</td>\n",
       "      <td>...</td>\n",
       "      <td>0.170000</td>\n",
       "      <td>1.23189</td>\n",
       "      <td>0.304797</td>\n",
       "      <td>-0.122325</td>\n",
       "      <td>0.051333</td>\n",
       "      <td>9</td>\n",
       "      <td>2019-05-06 19:17:06</td>\n",
       "      <td>2019-12-17 15:43:37</td>\n",
       "      <td>2020-01-16 02:34:07</td>\n",
       "      <td>V-shaped; possible odd/even</td>\n",
       "    </tr>\n",
       "    <tr>\n",
       "      <th>3</th>\n",
       "      <td>837.01</td>\n",
       "      <td>5251470948229949568</td>\n",
       "      <td>IC2602,IC_2602,IC_2602</td>\n",
       "      <td>GaiaCollaboration2018_tab1a,CantatGaudin_2018,...</td>\n",
       "      <td>IC_2602</td>\n",
       "      <td>IC_2602</td>\n",
       "      <td>8.345</td>\n",
       "      <td>143.076438</td>\n",
       "      <td>460205581</td>\n",
       "      <td>NaN</td>\n",
       "      <td>...</td>\n",
       "      <td>0.338064</td>\n",
       "      <td>1.03252</td>\n",
       "      <td>0.137813</td>\n",
       "      <td>NaN</td>\n",
       "      <td>NaN</td>\n",
       "      <td>11</td>\n",
       "      <td>2019-06-17 17:15:57</td>\n",
       "      <td>2019-12-17 15:43:38</td>\n",
       "      <td>2020-01-16 02:34:07</td>\n",
       "      <td>single transit</td>\n",
       "    </tr>\n",
       "    <tr>\n",
       "      <th>4</th>\n",
       "      <td>839.01</td>\n",
       "      <td>5337273743301313536</td>\n",
       "      <td>Loden 306</td>\n",
       "      <td>Dias2014</td>\n",
       "      <td>Loden_306</td>\n",
       "      <td>Loden_306</td>\n",
       "      <td>6.760</td>\n",
       "      <td>1704.358636</td>\n",
       "      <td>466840711</td>\n",
       "      <td>NaN</td>\n",
       "      <td>...</td>\n",
       "      <td>NaN</td>\n",
       "      <td>1.53000</td>\n",
       "      <td>NaN</td>\n",
       "      <td>NaN</td>\n",
       "      <td>NaN</td>\n",
       "      <td>11</td>\n",
       "      <td>2019-06-17 17:15:57</td>\n",
       "      <td>2019-12-17 15:43:39</td>\n",
       "      <td>2020-01-16 02:34:07</td>\n",
       "      <td>OGLE2-TR-L9b</td>\n",
       "    </tr>\n",
       "  </tbody>\n",
       "</table>\n",
       "<p>5 rows × 61 columns</p>\n",
       "</div>"
      ],
      "text/plain": [
       "      TOI            source_id                                   clusters  \\\n",
       "0  580.01  5519619186857962112                    Pozzo_1,nan,Pozzo_1,nan   \n",
       "1  581.01  5525188767305211904            Trumpler_10,nan,Trumpler_10,nan   \n",
       "2  681.01  5290968085934209152  NGC_2516,NGC2516,nan,NGC_2516,NGC2516,nan   \n",
       "3  837.01  5251470948229949568                     IC2602,IC_2602,IC_2602   \n",
       "4  839.01  5337273743301313536                                  Loden 306   \n",
       "\n",
       "                                           reference      Cluster  \\\n",
       "0  CantatGaudin_2018,Zari_2018_UMS,CantatGaudin_2...      Vel_OB2   \n",
       "1  CantatGaudin_2018,Zari_2018_UMS,CantatGaudin_2...  Trumpler_10   \n",
       "2  CantatGaudin_2018,GaiaCollaboration2018_tab1b,...     NGC_2516   \n",
       "3  GaiaCollaboration2018_tab1a,CantatGaudin_2018,...      IC_2602   \n",
       "4                                           Dias2014    Loden_306   \n",
       "\n",
       "  k13_name_match  k13_logt     distance     TIC ID  Previous CTOI  ...  \\\n",
       "0        Vel_OB2       NaN   349.831608   81419525            NaN  ...   \n",
       "1    Trumpler_10     7.380   439.535656  180987952            NaN  ...   \n",
       "2       NGC_2516     8.475   426.487488  410450228            NaN  ...   \n",
       "3        IC_2602     8.345   143.076438  460205581            NaN  ...   \n",
       "4      Loden_306     6.760  1704.358636  466840711            NaN  ...   \n",
       "\n",
       "   Stellar log(g) (cm/s^2) err  Stellar Radius (R_Sun)  \\\n",
       "0                          NaN                     NaN   \n",
       "1                     1.270000                     NaN   \n",
       "2                     0.170000                 1.23189   \n",
       "3                     0.338064                 1.03252   \n",
       "4                          NaN                 1.53000   \n",
       "\n",
       "   Stellar Radius (R_Sun) err  Stellar Metallicity   Stellar Metallicity err  \\\n",
       "0                         NaN                  NaN                       NaN   \n",
       "1                         NaN                  NaN                       NaN   \n",
       "2                    0.304797            -0.122325                  0.051333   \n",
       "3                    0.137813                  NaN                       NaN   \n",
       "4                         NaN                  NaN                       NaN   \n",
       "\n",
       "   Sectors  Date TOI Alerted (UTC)  Date TOI Updated (UTC)  \\\n",
       "0        8     2019-04-01 16:52:01     2019-12-17 15:43:36   \n",
       "1        8     2019-04-01 16:52:00     2019-12-17 15:43:36   \n",
       "2        9     2019-05-06 19:17:06     2019-12-17 15:43:37   \n",
       "3       11     2019-06-17 17:15:57     2019-12-17 15:43:38   \n",
       "4       11     2019-06-17 17:15:57     2019-12-17 15:43:39   \n",
       "\n",
       "         Date Modified                     Comments  \n",
       "0  2020-01-16 02:34:07        3 GAIA stars within 5  \n",
       "1  2020-01-16 02:34:07                          NaN  \n",
       "2  2020-01-16 02:34:07  V-shaped; possible odd/even  \n",
       "3  2020-01-16 02:34:07               single transit  \n",
       "4  2020-01-16 02:34:07                 OGLE2-TR-L9b  \n",
       "\n",
       "[5 rows x 61 columns]"
      ]
     },
     "execution_count": 1,
     "metadata": {},
     "output_type": "execute_result"
    }
   ],
   "source": [
    "from tqdm import tqdm\n",
    "import pandas as pd\n",
    "import chronos as cr\n",
    "\n",
    "#load csv produced in \"find gaia ID of tois in clusters.ipynb\" \n",
    "df = pd.read_csv('../data/tois_in_cluster.csv', index_col=0)\n",
    "df['TOI'] = df['TOI'].astype(float)\n",
    "df['source_id'] = df['source_id'].astype(int)\n",
    "df.head()"
   ]
  },
  {
   "cell_type": "code",
   "execution_count": 2,
   "metadata": {
    "scrolled": true
   },
   "outputs": [
    {
     "name": "stderr",
     "output_type": "stream",
     "text": [
      "  8%|▊         | 1/12 [00:00<00:06,  1.58it/s]"
     ]
    },
    {
     "name": "stdout",
     "output_type": "stream",
     "text": [
      "TOI 580: Unable to find coordinates for name 'Gaia DR2 5519619186857962496'\n"
     ]
    },
    {
     "name": "stderr",
     "output_type": "stream",
     "text": [
      " 25%|██▌       | 3/12 [00:06<00:13,  1.50s/it]"
     ]
    },
    {
     "name": "stdout",
     "output_type": "stream",
     "text": [
      "TOI 681: Unable to find coordinates for name 'Gaia DR2 5290968085934209024'\n"
     ]
    },
    {
     "name": "stderr",
     "output_type": "stream",
     "text": [
      "\r",
      " 33%|███▎      | 4/12 [00:06<00:09,  1.24s/it]"
     ]
    },
    {
     "name": "stdout",
     "output_type": "stream",
     "text": [
      "TOI 837: Unable to find coordinates for name 'Gaia DR2 5251470948229949440'\n"
     ]
    },
    {
     "name": "stderr",
     "output_type": "stream",
     "text": [
      " 50%|█████     | 6/12 [00:09<00:07,  1.21s/it]"
     ]
    },
    {
     "name": "stdout",
     "output_type": "stream",
     "text": [
      "TOI 861: Unable to find coordinates for name 'Gaia DR2 5290721997195236352'\n"
     ]
    },
    {
     "name": "stderr",
     "output_type": "stream",
     "text": [
      "\r",
      " 58%|█████▊    | 7/12 [00:13<00:11,  2.27s/it]"
     ]
    },
    {
     "name": "stdout",
     "output_type": "stream",
     "text": [
      "TOI 893: File not found:\n",
      "https://archive.stsci.edu/hlsps/cdips/s0007/cam2_ccd4/hlsp_cdips_tess_ffi_gaiatwo0003099242937596214272-0007-cam2-ccd4_tess_v01_llc.fits\n",
      "The first observed sector (7) was used by default.\n",
      "CDIPS lc is currently available for sectors=[6, 7, 8, 9, 10, 11]\n",
      "\n"
     ]
    },
    {
     "name": "stderr",
     "output_type": "stream",
     "text": [
      " 75%|███████▌  | 9/12 [00:15<00:04,  1.57s/it]"
     ]
    },
    {
     "name": "stdout",
     "output_type": "stream",
     "text": [
      "TOI 1497: Unable to find coordinates for name 'Gaia DR2 2014335027560175104'\n"
     ]
    },
    {
     "name": "stderr",
     "output_type": "stream",
     "text": [
      "100%|██████████| 12/12 [00:19<00:00,  1.63s/it]\n"
     ]
    }
   ],
   "source": [
    "aper_idx = 2\n",
    "\n",
    "cdips_lcs = {}\n",
    "for toi,gaiaid in tqdm(df[['TOI','source_id']].values):\n",
    "    try:\n",
    "        toi = int(toi)\n",
    "        gaiaid = int(gaiaid)\n",
    "        t = cr.Target(gaiaDR2id=gaiaid)\n",
    "        cdips_lcs[toi] = {}\n",
    "        for sector in t.get_all_sectors():\n",
    "            if sector in cr.cdips.CDIPS_SECTORS:\n",
    "                cdips = cr.CDIPS(gaiaDR2id=gaiaid,\n",
    "#                                 ra_deg=t.target_coord.ra.deg, \n",
    "#                                 dec_deg=t.target_coord.dec.deg, \n",
    "                                sector=sector, \n",
    "                                 verbose=False, \n",
    "                                 aper_idx=aper_idx)\n",
    "                cdips_lcs[toi][sector] = cdips.lc\n",
    "    except Exception as e:\n",
    "        print(f'TOI {toi}: {e}')"
   ]
  },
  {
   "cell_type": "code",
   "execution_count": 3,
   "metadata": {},
   "outputs": [
    {
     "data": {
      "text/plain": [
       "{581: {8: TessLightCurve(TICID: None), 9: TessLightCurve(TICID: None)},\n",
       " 839: {10: TessLightCurve(TICID: None), 11: TessLightCurve(TICID: None)},\n",
       " 893: {6: TessLightCurve(TICID: None)},\n",
       " 1336: {},\n",
       " 1585: {},\n",
       " 1641: {},\n",
       " 1673: {}}"
      ]
     },
     "execution_count": 3,
     "metadata": {},
     "output_type": "execute_result"
    }
   ],
   "source": [
    "cdips_lcs"
   ]
  },
  {
   "cell_type": "markdown",
   "metadata": {},
   "source": [
    "## check if depth is consistent with TESS Releases"
   ]
  },
  {
   "cell_type": "code",
   "execution_count": null,
   "metadata": {},
   "outputs": [],
   "source": []
  }
 ],
 "metadata": {
  "kernelspec": {
   "display_name": "Python 3",
   "language": "python",
   "name": "python3"
  },
  "language_info": {
   "codemirror_mode": {
    "name": "ipython",
    "version": 3
   },
   "file_extension": ".py",
   "mimetype": "text/x-python",
   "name": "python",
   "nbconvert_exporter": "python",
   "pygments_lexer": "ipython3",
   "version": "3.6.2"
  },
  "toc": {
   "base_numbering": 1,
   "nav_menu": {},
   "number_sections": true,
   "sideBar": true,
   "skip_h1_title": false,
   "title_cell": "Table of Contents",
   "title_sidebar": "Contents",
   "toc_cell": false,
   "toc_position": {},
   "toc_section_display": true,
   "toc_window_display": false
  }
 },
 "nbformat": 4,
 "nbformat_minor": 2
}
