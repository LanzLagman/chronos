{
 "cells": [
  {
   "cell_type": "markdown",
   "metadata": {},
   "source": [
    "# examples using chronos"
   ]
  },
  {
   "cell_type": "code",
   "execution_count": 1,
   "metadata": {},
   "outputs": [
    {
     "name": "stdout",
     "output_type": "stream",
     "text": [
      "Created TAP+ (v1.2.1) - Connection:\n",
      "\tHost: gea.esac.esa.int\n",
      "\tUse HTTPS: True\n",
      "\tPort: 443\n",
      "\tSSL Port: 443\n",
      "Created TAP+ (v1.2.1) - Connection:\n",
      "\tHost: geadata.esac.esa.int\n",
      "\tUse HTTPS: True\n",
      "\tPort: 443\n",
      "\tSSL Port: 443\n"
     ]
    },
    {
     "name": "stderr",
     "output_type": "stream",
     "text": [
      "WARNING:root:Emcee3 not imported; be advised.\n"
     ]
    }
   ],
   "source": [
    "%matplotlib inline\n",
    "import numpy as np\n",
    "import matplotlib.pyplot as pl\n",
    "import matplotlib\n",
    "matplotlib.rcParams['font.size'] = 12\n",
    "\n",
    "import chronos as cr"
   ]
  },
  {
   "cell_type": "markdown",
   "metadata": {},
   "source": [
    "## search target coordinates"
   ]
  },
  {
   "cell_type": "code",
   "execution_count": 2,
   "metadata": {},
   "outputs": [
    {
     "name": "stdout",
     "output_type": "stream",
     "text": [
      "Target: TOI 200\n"
     ]
    },
    {
     "data": {
      "text/plain": [
       "<SkyCoord (ICRS): (ra, dec, distance) in (deg, deg, pc)\n",
       "    (354.91545833, -69.19604167, 44.0622)>"
      ]
     },
     "execution_count": 2,
     "metadata": {},
     "output_type": "execute_result"
    }
   ],
   "source": [
    "#search by toiid\n",
    "t = cr.Target(toiid=200)\n",
    "t.target_coord #note distance is also known for TOIs"
   ]
  },
  {
   "cell_type": "code",
   "execution_count": 3,
   "metadata": {},
   "outputs": [
    {
     "data": {
      "text/plain": [
       "410214986"
      ]
     },
     "execution_count": 3,
     "metadata": {},
     "output_type": "execute_result"
    }
   ],
   "source": [
    "#ticid is automatically known\n",
    "t.ticid"
   ]
  },
  {
   "cell_type": "code",
   "execution_count": 4,
   "metadata": {
    "scrolled": true
   },
   "outputs": [
    {
     "name": "stdout",
     "output_type": "stream",
     "text": [
      "TIC 410214986 is TOI 200!\n",
      "Target: TIC 410214986\n"
     ]
    },
    {
     "data": {
      "text/plain": [
       "<SkyCoord (ICRS): (ra, dec, distance) in (deg, deg, pc)\n",
       "    (354.91545833, -69.19604167, 44.0622)>"
      ]
     },
     "execution_count": 4,
     "metadata": {},
     "output_type": "execute_result"
    }
   ],
   "source": [
    "#search by ticid\n",
    "t = cr.Target(ticid=410214986)\n",
    "t.target_coord"
   ]
  },
  {
   "cell_type": "code",
   "execution_count": 5,
   "metadata": {
    "scrolled": true
   },
   "outputs": [
    {
     "data": {
      "text/plain": [
       "200.01"
      ]
     },
     "execution_count": 5,
     "metadata": {},
     "output_type": "execute_result"
    }
   ],
   "source": [
    "#toiid is retrieved if known TOI\n",
    "t.toiid"
   ]
  },
  {
   "cell_type": "code",
   "execution_count": 6,
   "metadata": {},
   "outputs": [
    {
     "name": "stdout",
     "output_type": "stream",
     "text": [
      "Target: None\n"
     ]
    },
    {
     "data": {
      "text/plain": [
       "<SkyCoord (ICRS): (ra, dec) in deg\n",
       "    (157.03746078, -64.50525936)>"
      ]
     },
     "execution_count": 6,
     "metadata": {},
     "output_type": "execute_result"
    }
   ],
   "source": [
    "#search by gaia id (recommended)\n",
    "t = cr.Target(gaiaDR2id=5251470948229949568)\n",
    "t.target_coord"
   ]
  },
  {
   "cell_type": "code",
   "execution_count": 7,
   "metadata": {},
   "outputs": [
    {
     "name": "stdout",
     "output_type": "stream",
     "text": [
      "Target: None\n"
     ]
    },
    {
     "data": {
      "text/plain": [
       "<SkyCoord (ICRS): (ra, dec) in deg\n",
       "    (157.03729167, -64.50521111)>"
      ]
     },
     "execution_count": 7,
     "metadata": {},
     "output_type": "execute_result"
    }
   ],
   "source": [
    "#search by ra and dec\n",
    "t = cr.Target(ra_deg=157.03729167, dec_deg=-64.50521111)\n",
    "t.target_coord"
   ]
  },
  {
   "cell_type": "code",
   "execution_count": 8,
   "metadata": {},
   "outputs": [
    {
     "name": "stdout",
     "output_type": "stream",
     "text": [
      "Target: Pi Mensae\n"
     ]
    },
    {
     "data": {
      "text/plain": [
       "<SkyCoord (ICRS): (ra, dec) in deg\n",
       "    (84.291188, -80.46911982)>"
      ]
     },
     "execution_count": 8,
     "metadata": {},
     "output_type": "execute_result"
    }
   ],
   "source": [
    "#search by name\n",
    "t = cr.Target(name='Pi Mensae')\n",
    "t.target_coord"
   ]
  },
  {
   "cell_type": "code",
   "execution_count": 9,
   "metadata": {},
   "outputs": [
    {
     "name": "stdout",
     "output_type": "stream",
     "text": [
      "Target: EPIC 201270176\n"
     ]
    },
    {
     "data": {
      "text/plain": [
       "<SkyCoord (ICRS): (ra, dec) in deg\n",
       "    (170.13258917, -2.90258786)>"
      ]
     },
     "execution_count": 9,
     "metadata": {},
     "output_type": "execute_result"
    }
   ],
   "source": [
    "#name accepts EPIC\n",
    "t = cr.Target(name='EPIC 201270176')\n",
    "t.target_coord"
   ]
  },
  {
   "cell_type": "raw",
   "metadata": {},
   "source": [
    "#name accepts K2\n",
    "t = cr.Target(name='K2-33')\n",
    "t.target_coord"
   ]
  },
  {
   "cell_type": "markdown",
   "metadata": {},
   "source": [
    "## search Gaia DR2 catalog"
   ]
  },
  {
   "cell_type": "code",
   "execution_count": 10,
   "metadata": {},
   "outputs": [
    {
     "name": "stdout",
     "output_type": "stream",
     "text": [
      "Target: None\n",
      "Querying Gaia DR2 catalog for ra,dec=(157.037 -64.5053) within 5.0 arcsec.\n"
     ]
    },
    {
     "data": {
      "text/html": [
       "<div>\n",
       "<style scoped>\n",
       "    .dataframe tbody tr th:only-of-type {\n",
       "        vertical-align: middle;\n",
       "    }\n",
       "\n",
       "    .dataframe tbody tr th {\n",
       "        vertical-align: top;\n",
       "    }\n",
       "\n",
       "    .dataframe thead th {\n",
       "        text-align: right;\n",
       "    }\n",
       "</style>\n",
       "<table border=\"1\" class=\"dataframe\">\n",
       "  <thead>\n",
       "    <tr style=\"text-align: right;\">\n",
       "      <th></th>\n",
       "      <th>solution_id</th>\n",
       "      <th>designation</th>\n",
       "      <th>source_id</th>\n",
       "      <th>random_index</th>\n",
       "      <th>ref_epoch</th>\n",
       "      <th>ra</th>\n",
       "      <th>ra_error</th>\n",
       "      <th>dec</th>\n",
       "      <th>dec_error</th>\n",
       "      <th>parallax</th>\n",
       "      <th>...</th>\n",
       "      <th>e_bp_min_rp_percentile_lower</th>\n",
       "      <th>e_bp_min_rp_percentile_upper</th>\n",
       "      <th>flame_flags</th>\n",
       "      <th>radius_val</th>\n",
       "      <th>radius_percentile_lower</th>\n",
       "      <th>radius_percentile_upper</th>\n",
       "      <th>lum_val</th>\n",
       "      <th>lum_percentile_lower</th>\n",
       "      <th>lum_percentile_upper</th>\n",
       "      <th>distance</th>\n",
       "    </tr>\n",
       "  </thead>\n",
       "  <tbody>\n",
       "    <tr>\n",
       "      <th>0</th>\n",
       "      <td>1635721458409799680</td>\n",
       "      <td>Gaia DR2 5251470948229949568</td>\n",
       "      <td>5251470948229949568</td>\n",
       "      <td>1500767781</td>\n",
       "      <td>2015.5</td>\n",
       "      <td>157.037281</td>\n",
       "      <td>0.020725</td>\n",
       "      <td>-64.505211</td>\n",
       "      <td>0.020265</td>\n",
       "      <td>6.989271</td>\n",
       "      <td>...</td>\n",
       "      <td>0.0065</td>\n",
       "      <td>0.1059</td>\n",
       "      <td>200111</td>\n",
       "      <td>1.049562</td>\n",
       "      <td>1.023889</td>\n",
       "      <td>1.089327</td>\n",
       "      <td>1.098632</td>\n",
       "      <td>1.092309</td>\n",
       "      <td>1.104955</td>\n",
       "      <td>0.005495</td>\n",
       "    </tr>\n",
       "    <tr>\n",
       "      <th>1</th>\n",
       "      <td>1635721458409799680</td>\n",
       "      <td>Gaia DR2 5251470948222139904</td>\n",
       "      <td>5251470948222139904</td>\n",
       "      <td>169326472</td>\n",
       "      <td>2015.5</td>\n",
       "      <td>157.035819</td>\n",
       "      <td>0.078785</td>\n",
       "      <td>-64.505082</td>\n",
       "      <td>0.108097</td>\n",
       "      <td>6.678713</td>\n",
       "      <td>...</td>\n",
       "      <td>NaN</td>\n",
       "      <td>NaN</td>\n",
       "      <td>NaN</td>\n",
       "      <td>NaN</td>\n",
       "      <td>NaN</td>\n",
       "      <td>NaN</td>\n",
       "      <td>NaN</td>\n",
       "      <td>NaN</td>\n",
       "      <td>NaN</td>\n",
       "      <td>0.043712</td>\n",
       "    </tr>\n",
       "    <tr>\n",
       "      <th>2</th>\n",
       "      <td>1635721458409799680</td>\n",
       "      <td>Gaia DR2 5251470948229949184</td>\n",
       "      <td>5251470948229949184</td>\n",
       "      <td>50362545</td>\n",
       "      <td>2015.5</td>\n",
       "      <td>157.039253</td>\n",
       "      <td>0.484003</td>\n",
       "      <td>-64.506375</td>\n",
       "      <td>0.590284</td>\n",
       "      <td>0.218503</td>\n",
       "      <td>...</td>\n",
       "      <td>NaN</td>\n",
       "      <td>NaN</td>\n",
       "      <td>NaN</td>\n",
       "      <td>NaN</td>\n",
       "      <td>NaN</td>\n",
       "      <td>NaN</td>\n",
       "      <td>NaN</td>\n",
       "      <td>NaN</td>\n",
       "      <td>NaN</td>\n",
       "      <td>0.081375</td>\n",
       "    </tr>\n",
       "  </tbody>\n",
       "</table>\n",
       "<p>3 rows × 95 columns</p>\n",
       "</div>"
      ],
      "text/plain": [
       "           solution_id                   designation            source_id  \\\n",
       "0  1635721458409799680  Gaia DR2 5251470948229949568  5251470948229949568   \n",
       "1  1635721458409799680  Gaia DR2 5251470948222139904  5251470948222139904   \n",
       "2  1635721458409799680  Gaia DR2 5251470948229949184  5251470948229949184   \n",
       "\n",
       "  random_index  ref_epoch          ra  ra_error        dec  dec_error  \\\n",
       "0   1500767781     2015.5  157.037281  0.020725 -64.505211   0.020265   \n",
       "1    169326472     2015.5  157.035819  0.078785 -64.505082   0.108097   \n",
       "2     50362545     2015.5  157.039253  0.484003 -64.506375   0.590284   \n",
       "\n",
       "   parallax  ...  e_bp_min_rp_percentile_lower  e_bp_min_rp_percentile_upper  \\\n",
       "0  6.989271  ...                        0.0065                        0.1059   \n",
       "1  6.678713  ...                           NaN                           NaN   \n",
       "2  0.218503  ...                           NaN                           NaN   \n",
       "\n",
       "   flame_flags  radius_val  radius_percentile_lower  radius_percentile_upper  \\\n",
       "0       200111    1.049562                 1.023889                 1.089327   \n",
       "1          NaN         NaN                      NaN                      NaN   \n",
       "2          NaN         NaN                      NaN                      NaN   \n",
       "\n",
       "    lum_val  lum_percentile_lower  lum_percentile_upper  distance  \n",
       "0  1.098632              1.092309              1.104955  0.005495  \n",
       "1       NaN                   NaN                   NaN  0.043712  \n",
       "2       NaN                   NaN                   NaN  0.081375  \n",
       "\n",
       "[3 rows x 95 columns]"
      ]
     },
     "execution_count": 10,
     "metadata": {},
     "output_type": "execute_result"
    }
   ],
   "source": [
    "t = cr.Target(gaiaDR2id=5251470948229949568)\n",
    "t.query_gaia_dr2_catalog(radius=5)"
   ]
  },
  {
   "cell_type": "code",
   "execution_count": 11,
   "metadata": {},
   "outputs": [
    {
     "name": "stdout",
     "output_type": "stream",
     "text": [
      "Querying Gaia DR2 catalog for ra,dec=(157.037 -64.5053) within 3.0 arcsec.\n",
      "There are 2 gaia sources within 3.0 arcsec.\n"
     ]
    },
    {
     "data": {
      "text/plain": [
       "solution_id                         1635721458409799680\n",
       "designation                Gaia DR2 5251470948229949568\n",
       "source_id                           5251470948229949568\n",
       "random_index                                 1500767781\n",
       "ref_epoch                                        2015.5\n",
       "                                       ...             \n",
       "radius_percentile_upper                         1.08933\n",
       "lum_val                                         1.09863\n",
       "lum_percentile_lower                            1.09231\n",
       "lum_percentile_upper                            1.10496\n",
       "distance                                     0.00549491\n",
       "Name: 0, Length: 95, dtype: object"
      ]
     },
     "execution_count": 11,
     "metadata": {},
     "output_type": "execute_result"
    }
   ],
   "source": [
    "#return nearest position match\n",
    "t.query_gaia_dr2_catalog(return_nearest_xmatch=True)"
   ]
  },
  {
   "cell_type": "code",
   "execution_count": 12,
   "metadata": {},
   "outputs": [
    {
     "data": {
      "text/plain": [
       "solution_id                         1635721458409799680\n",
       "designation                Gaia DR2 5251470948229949568\n",
       "source_id                           5251470948229949568\n",
       "random_index                                 1500767781\n",
       "ref_epoch                                        2015.5\n",
       "                                       ...             \n",
       "radius_percentile_upper                         1.08933\n",
       "lum_val                                         1.09863\n",
       "lum_percentile_lower                            1.09231\n",
       "lum_percentile_upper                            1.10496\n",
       "distance                                     0.00549491\n",
       "Name: 0, Length: 95, dtype: object"
      ]
     },
     "execution_count": 12,
     "metadata": {},
     "output_type": "execute_result"
    }
   ],
   "source": [
    "#this is saved in gaia_params property\n",
    "t.gaia_params"
   ]
  },
  {
   "cell_type": "code",
   "execution_count": 13,
   "metadata": {},
   "outputs": [
    {
     "data": {
      "text/plain": [
       "10.3559618"
      ]
     },
     "execution_count": 13,
     "metadata": {},
     "output_type": "execute_result"
    }
   ],
   "source": [
    "#properties can be easily accessible\n",
    "t.gaia_params.phot_g_mean_mag"
   ]
  },
  {
   "cell_type": "markdown",
   "metadata": {},
   "source": [
    "## search TIC catalog"
   ]
  },
  {
   "cell_type": "code",
   "execution_count": 15,
   "metadata": {},
   "outputs": [
    {
     "name": "stdout",
     "output_type": "stream",
     "text": [
      "Target: Gaia DR2 5251470948229949568\n",
      "Querying TIC catalog for ra,dec=(157.037 -64.5053) within 21.0 arcsec.\n"
     ]
    },
    {
     "data": {
      "text/html": [
       "<div>\n",
       "<style scoped>\n",
       "    .dataframe tbody tr th:only-of-type {\n",
       "        vertical-align: middle;\n",
       "    }\n",
       "\n",
       "    .dataframe tbody tr th {\n",
       "        vertical-align: top;\n",
       "    }\n",
       "\n",
       "    .dataframe thead th {\n",
       "        text-align: right;\n",
       "    }\n",
       "</style>\n",
       "<table border=\"1\" class=\"dataframe\">\n",
       "  <thead>\n",
       "    <tr style=\"text-align: right;\">\n",
       "      <th></th>\n",
       "      <th>ID</th>\n",
       "      <th>ra</th>\n",
       "      <th>dec</th>\n",
       "      <th>pmRA</th>\n",
       "      <th>pmDEC</th>\n",
       "      <th>Tmag</th>\n",
       "      <th>objType</th>\n",
       "      <th>typeSrc</th>\n",
       "      <th>version</th>\n",
       "      <th>HIP</th>\n",
       "      <th>...</th>\n",
       "      <th>splists</th>\n",
       "      <th>e_RA</th>\n",
       "      <th>e_Dec</th>\n",
       "      <th>RA_orig</th>\n",
       "      <th>Dec_orig</th>\n",
       "      <th>e_RA_orig</th>\n",
       "      <th>e_Dec_orig</th>\n",
       "      <th>raddflag</th>\n",
       "      <th>wdflag</th>\n",
       "      <th>dstArcSec</th>\n",
       "    </tr>\n",
       "  </thead>\n",
       "  <tbody>\n",
       "    <tr>\n",
       "      <th>0</th>\n",
       "      <td>460205581</td>\n",
       "      <td>157.037461</td>\n",
       "      <td>-64.505259</td>\n",
       "      <td>-18.016500</td>\n",
       "      <td>11.306800</td>\n",
       "      <td>9.9322</td>\n",
       "      <td>STAR</td>\n",
       "      <td>tmgaia2</td>\n",
       "      <td>20190415</td>\n",
       "      <td>NaN</td>\n",
       "      <td>...</td>\n",
       "      <td>NaN</td>\n",
       "      <td>0.720185</td>\n",
       "      <td>0.578579</td>\n",
       "      <td>157.037281</td>\n",
       "      <td>-64.505211</td>\n",
       "      <td>0.020725</td>\n",
       "      <td>0.020265</td>\n",
       "      <td>1.0</td>\n",
       "      <td>0</td>\n",
       "      <td>0.000015</td>\n",
       "    </tr>\n",
       "    <tr>\n",
       "      <th>1</th>\n",
       "      <td>847769574</td>\n",
       "      <td>157.035998</td>\n",
       "      <td>-64.505139</td>\n",
       "      <td>-17.882300</td>\n",
       "      <td>13.026400</td>\n",
       "      <td>14.6304</td>\n",
       "      <td>STAR</td>\n",
       "      <td>gaia2</td>\n",
       "      <td>20190415</td>\n",
       "      <td>NaN</td>\n",
       "      <td>...</td>\n",
       "      <td>NaN</td>\n",
       "      <td>2.613303</td>\n",
       "      <td>2.767018</td>\n",
       "      <td>157.035819</td>\n",
       "      <td>-64.505082</td>\n",
       "      <td>0.078785</td>\n",
       "      <td>0.108097</td>\n",
       "      <td>NaN</td>\n",
       "      <td>0</td>\n",
       "      <td>2.308390</td>\n",
       "    </tr>\n",
       "    <tr>\n",
       "      <th>2</th>\n",
       "      <td>847769581</td>\n",
       "      <td>157.039280</td>\n",
       "      <td>-64.506381</td>\n",
       "      <td>-2.726400</td>\n",
       "      <td>1.312890</td>\n",
       "      <td>18.8111</td>\n",
       "      <td>STAR</td>\n",
       "      <td>gaia2</td>\n",
       "      <td>20190415</td>\n",
       "      <td>NaN</td>\n",
       "      <td>...</td>\n",
       "      <td>NaN</td>\n",
       "      <td>31.062549</td>\n",
       "      <td>26.177476</td>\n",
       "      <td>157.039253</td>\n",
       "      <td>-64.506375</td>\n",
       "      <td>0.484003</td>\n",
       "      <td>0.590284</td>\n",
       "      <td>NaN</td>\n",
       "      <td>0</td>\n",
       "      <td>4.923334</td>\n",
       "    </tr>\n",
       "    <tr>\n",
       "      <th>3</th>\n",
       "      <td>460205587</td>\n",
       "      <td>157.037153</td>\n",
       "      <td>-64.503754</td>\n",
       "      <td>-3.454460</td>\n",
       "      <td>2.432940</td>\n",
       "      <td>13.0687</td>\n",
       "      <td>STAR</td>\n",
       "      <td>tmgaia2</td>\n",
       "      <td>20190415</td>\n",
       "      <td>NaN</td>\n",
       "      <td>...</td>\n",
       "      <td>NaN</td>\n",
       "      <td>0.670007</td>\n",
       "      <td>0.480852</td>\n",
       "      <td>157.037118</td>\n",
       "      <td>-64.503743</td>\n",
       "      <td>0.019827</td>\n",
       "      <td>0.016880</td>\n",
       "      <td>0.0</td>\n",
       "      <td>0</td>\n",
       "      <td>5.442008</td>\n",
       "    </tr>\n",
       "    <tr>\n",
       "      <th>4</th>\n",
       "      <td>847769585</td>\n",
       "      <td>157.040234</td>\n",
       "      <td>-64.501723</td>\n",
       "      <td>7.146910</td>\n",
       "      <td>-10.465400</td>\n",
       "      <td>18.1557</td>\n",
       "      <td>STAR</td>\n",
       "      <td>gaia2</td>\n",
       "      <td>20190415</td>\n",
       "      <td>NaN</td>\n",
       "      <td>...</td>\n",
       "      <td>NaN</td>\n",
       "      <td>8.536804</td>\n",
       "      <td>6.479910</td>\n",
       "      <td>157.040305</td>\n",
       "      <td>-64.501768</td>\n",
       "      <td>0.210487</td>\n",
       "      <td>0.219392</td>\n",
       "      <td>1.0</td>\n",
       "      <td>0</td>\n",
       "      <td>13.437058</td>\n",
       "    </tr>\n",
       "    <tr>\n",
       "      <th>5</th>\n",
       "      <td>847769627</td>\n",
       "      <td>157.027619</td>\n",
       "      <td>-64.505263</td>\n",
       "      <td>-5.613080</td>\n",
       "      <td>4.541820</td>\n",
       "      <td>16.7610</td>\n",
       "      <td>STAR</td>\n",
       "      <td>gaia2</td>\n",
       "      <td>20190415</td>\n",
       "      <td>NaN</td>\n",
       "      <td>...</td>\n",
       "      <td>NaN</td>\n",
       "      <td>3.069764</td>\n",
       "      <td>2.419117</td>\n",
       "      <td>157.027563</td>\n",
       "      <td>-64.505243</td>\n",
       "      <td>0.084123</td>\n",
       "      <td>0.085744</td>\n",
       "      <td>1.0</td>\n",
       "      <td>0</td>\n",
       "      <td>15.249509</td>\n",
       "    </tr>\n",
       "    <tr>\n",
       "      <th>6</th>\n",
       "      <td>847769572</td>\n",
       "      <td>157.038972</td>\n",
       "      <td>-64.509546</td>\n",
       "      <td>-5.395230</td>\n",
       "      <td>2.896580</td>\n",
       "      <td>18.1274</td>\n",
       "      <td>STAR</td>\n",
       "      <td>gaia2</td>\n",
       "      <td>20190415</td>\n",
       "      <td>NaN</td>\n",
       "      <td>...</td>\n",
       "      <td>NaN</td>\n",
       "      <td>6.982370</td>\n",
       "      <td>5.506957</td>\n",
       "      <td>157.038918</td>\n",
       "      <td>-64.509533</td>\n",
       "      <td>0.184442</td>\n",
       "      <td>0.197915</td>\n",
       "      <td>1.0</td>\n",
       "      <td>0</td>\n",
       "      <td>15.608325</td>\n",
       "    </tr>\n",
       "    <tr>\n",
       "      <th>7</th>\n",
       "      <td>847769580</td>\n",
       "      <td>157.031846</td>\n",
       "      <td>-64.509027</td>\n",
       "      <td>NaN</td>\n",
       "      <td>NaN</td>\n",
       "      <td>20.5406</td>\n",
       "      <td>STAR</td>\n",
       "      <td>gaia2</td>\n",
       "      <td>20190415</td>\n",
       "      <td>NaN</td>\n",
       "      <td>...</td>\n",
       "      <td>NaN</td>\n",
       "      <td>2.200630</td>\n",
       "      <td>8.070872</td>\n",
       "      <td>157.031846</td>\n",
       "      <td>-64.509027</td>\n",
       "      <td>2.200630</td>\n",
       "      <td>8.070872</td>\n",
       "      <td>NaN</td>\n",
       "      <td>0</td>\n",
       "      <td>16.114219</td>\n",
       "    </tr>\n",
       "    <tr>\n",
       "      <th>8</th>\n",
       "      <td>847769602</td>\n",
       "      <td>157.047932</td>\n",
       "      <td>-64.506415</td>\n",
       "      <td>-7.855330</td>\n",
       "      <td>3.731110</td>\n",
       "      <td>17.9435</td>\n",
       "      <td>STAR</td>\n",
       "      <td>gaia2</td>\n",
       "      <td>20190415</td>\n",
       "      <td>NaN</td>\n",
       "      <td>...</td>\n",
       "      <td>NaN</td>\n",
       "      <td>6.736638</td>\n",
       "      <td>5.541250</td>\n",
       "      <td>157.047853</td>\n",
       "      <td>-64.506398</td>\n",
       "      <td>0.167094</td>\n",
       "      <td>0.181577</td>\n",
       "      <td>1.0</td>\n",
       "      <td>0</td>\n",
       "      <td>16.749075</td>\n",
       "    </tr>\n",
       "    <tr>\n",
       "      <th>9</th>\n",
       "      <td>847769573</td>\n",
       "      <td>157.044491</td>\n",
       "      <td>-64.508843</td>\n",
       "      <td>-3.782770</td>\n",
       "      <td>2.730920</td>\n",
       "      <td>19.0237</td>\n",
       "      <td>STAR</td>\n",
       "      <td>gaia2</td>\n",
       "      <td>20190415</td>\n",
       "      <td>NaN</td>\n",
       "      <td>...</td>\n",
       "      <td>NaN</td>\n",
       "      <td>10.892670</td>\n",
       "      <td>8.154198</td>\n",
       "      <td>157.044453</td>\n",
       "      <td>-64.508831</td>\n",
       "      <td>0.283480</td>\n",
       "      <td>0.290217</td>\n",
       "      <td>1.0</td>\n",
       "      <td>0</td>\n",
       "      <td>16.883263</td>\n",
       "    </tr>\n",
       "    <tr>\n",
       "      <th>10</th>\n",
       "      <td>847769623</td>\n",
       "      <td>157.027448</td>\n",
       "      <td>-64.507798</td>\n",
       "      <td>-3.769030</td>\n",
       "      <td>3.307390</td>\n",
       "      <td>19.3759</td>\n",
       "      <td>STAR</td>\n",
       "      <td>gaia2</td>\n",
       "      <td>20190415</td>\n",
       "      <td>NaN</td>\n",
       "      <td>...</td>\n",
       "      <td>NaN</td>\n",
       "      <td>19.993833</td>\n",
       "      <td>19.536125</td>\n",
       "      <td>157.027410</td>\n",
       "      <td>-64.507783</td>\n",
       "      <td>0.403536</td>\n",
       "      <td>0.569229</td>\n",
       "      <td>1.0</td>\n",
       "      <td>0</td>\n",
       "      <td>18.005509</td>\n",
       "    </tr>\n",
       "    <tr>\n",
       "      <th>11</th>\n",
       "      <td>847769569</td>\n",
       "      <td>157.030311</td>\n",
       "      <td>-64.509324</td>\n",
       "      <td>-6.299780</td>\n",
       "      <td>3.972830</td>\n",
       "      <td>18.7875</td>\n",
       "      <td>STAR</td>\n",
       "      <td>gaia2</td>\n",
       "      <td>20190415</td>\n",
       "      <td>NaN</td>\n",
       "      <td>...</td>\n",
       "      <td>NaN</td>\n",
       "      <td>10.434826</td>\n",
       "      <td>8.067183</td>\n",
       "      <td>157.030248</td>\n",
       "      <td>-64.509307</td>\n",
       "      <td>0.267257</td>\n",
       "      <td>0.283474</td>\n",
       "      <td>1.0</td>\n",
       "      <td>0</td>\n",
       "      <td>18.352822</td>\n",
       "    </tr>\n",
       "    <tr>\n",
       "      <th>12</th>\n",
       "      <td>847769586</td>\n",
       "      <td>157.049478</td>\n",
       "      <td>-64.505054</td>\n",
       "      <td>-0.684344</td>\n",
       "      <td>1.491410</td>\n",
       "      <td>18.1820</td>\n",
       "      <td>STAR</td>\n",
       "      <td>gaia2</td>\n",
       "      <td>20190415</td>\n",
       "      <td>NaN</td>\n",
       "      <td>...</td>\n",
       "      <td>NaN</td>\n",
       "      <td>7.765447</td>\n",
       "      <td>5.796702</td>\n",
       "      <td>157.049471</td>\n",
       "      <td>-64.505048</td>\n",
       "      <td>0.190927</td>\n",
       "      <td>0.200065</td>\n",
       "      <td>1.0</td>\n",
       "      <td>0</td>\n",
       "      <td>18.635636</td>\n",
       "    </tr>\n",
       "    <tr>\n",
       "      <th>13</th>\n",
       "      <td>847769587</td>\n",
       "      <td>157.043985</td>\n",
       "      <td>-64.500893</td>\n",
       "      <td>-8.612700</td>\n",
       "      <td>1.971230</td>\n",
       "      <td>17.8043</td>\n",
       "      <td>STAR</td>\n",
       "      <td>gaia2</td>\n",
       "      <td>20190415</td>\n",
       "      <td>NaN</td>\n",
       "      <td>...</td>\n",
       "      <td>NaN</td>\n",
       "      <td>5.187459</td>\n",
       "      <td>4.311195</td>\n",
       "      <td>157.043899</td>\n",
       "      <td>-64.500885</td>\n",
       "      <td>0.137229</td>\n",
       "      <td>0.146045</td>\n",
       "      <td>1.0</td>\n",
       "      <td>0</td>\n",
       "      <td>18.689226</td>\n",
       "    </tr>\n",
       "    <tr>\n",
       "      <th>14</th>\n",
       "      <td>847769614</td>\n",
       "      <td>157.027462</td>\n",
       "      <td>-64.508623</td>\n",
       "      <td>-5.199310</td>\n",
       "      <td>3.087170</td>\n",
       "      <td>19.2272</td>\n",
       "      <td>STAR</td>\n",
       "      <td>gaia2</td>\n",
       "      <td>20190415</td>\n",
       "      <td>NaN</td>\n",
       "      <td>...</td>\n",
       "      <td>NaN</td>\n",
       "      <td>12.552915</td>\n",
       "      <td>9.822076</td>\n",
       "      <td>157.027410</td>\n",
       "      <td>-64.508609</td>\n",
       "      <td>0.311658</td>\n",
       "      <td>0.349089</td>\n",
       "      <td>1.0</td>\n",
       "      <td>0</td>\n",
       "      <td>19.662573</td>\n",
       "    </tr>\n",
       "    <tr>\n",
       "      <th>15</th>\n",
       "      <td>847769622</td>\n",
       "      <td>157.027815</td>\n",
       "      <td>-64.501616</td>\n",
       "      <td>-4.409610</td>\n",
       "      <td>-0.346238</td>\n",
       "      <td>19.5806</td>\n",
       "      <td>STAR</td>\n",
       "      <td>gaia2</td>\n",
       "      <td>20190415</td>\n",
       "      <td>NaN</td>\n",
       "      <td>...</td>\n",
       "      <td>NaN</td>\n",
       "      <td>21.402899</td>\n",
       "      <td>21.070349</td>\n",
       "      <td>157.027771</td>\n",
       "      <td>-64.501618</td>\n",
       "      <td>0.438487</td>\n",
       "      <td>0.655200</td>\n",
       "      <td>1.0</td>\n",
       "      <td>0</td>\n",
       "      <td>19.885999</td>\n",
       "    </tr>\n",
       "    <tr>\n",
       "      <th>16</th>\n",
       "      <td>847769617</td>\n",
       "      <td>157.024607</td>\n",
       "      <td>-64.505875</td>\n",
       "      <td>-9.609810</td>\n",
       "      <td>16.215300</td>\n",
       "      <td>19.2100</td>\n",
       "      <td>STAR</td>\n",
       "      <td>gaia2</td>\n",
       "      <td>20190415</td>\n",
       "      <td>NaN</td>\n",
       "      <td>...</td>\n",
       "      <td>NaN</td>\n",
       "      <td>20.144653</td>\n",
       "      <td>16.653391</td>\n",
       "      <td>157.024511</td>\n",
       "      <td>-64.505805</td>\n",
       "      <td>0.470700</td>\n",
       "      <td>0.529068</td>\n",
       "      <td>1.0</td>\n",
       "      <td>0</td>\n",
       "      <td>20.039801</td>\n",
       "    </tr>\n",
       "    <tr>\n",
       "      <th>17</th>\n",
       "      <td>847769618</td>\n",
       "      <td>157.024089</td>\n",
       "      <td>-64.505192</td>\n",
       "      <td>-4.307570</td>\n",
       "      <td>2.608490</td>\n",
       "      <td>19.4684</td>\n",
       "      <td>STAR</td>\n",
       "      <td>gaia2</td>\n",
       "      <td>20190415</td>\n",
       "      <td>NaN</td>\n",
       "      <td>...</td>\n",
       "      <td>NaN</td>\n",
       "      <td>19.860909</td>\n",
       "      <td>16.575897</td>\n",
       "      <td>157.024046</td>\n",
       "      <td>-64.505181</td>\n",
       "      <td>0.484716</td>\n",
       "      <td>0.565601</td>\n",
       "      <td>1.0</td>\n",
       "      <td>0</td>\n",
       "      <td>20.721126</td>\n",
       "    </tr>\n",
       "  </tbody>\n",
       "</table>\n",
       "<p>18 rows × 125 columns</p>\n",
       "</div>"
      ],
      "text/plain": [
       "           ID          ra        dec       pmRA      pmDEC     Tmag objType  \\\n",
       "0   460205581  157.037461 -64.505259 -18.016500  11.306800   9.9322    STAR   \n",
       "1   847769574  157.035998 -64.505139 -17.882300  13.026400  14.6304    STAR   \n",
       "2   847769581  157.039280 -64.506381  -2.726400   1.312890  18.8111    STAR   \n",
       "3   460205587  157.037153 -64.503754  -3.454460   2.432940  13.0687    STAR   \n",
       "4   847769585  157.040234 -64.501723   7.146910 -10.465400  18.1557    STAR   \n",
       "5   847769627  157.027619 -64.505263  -5.613080   4.541820  16.7610    STAR   \n",
       "6   847769572  157.038972 -64.509546  -5.395230   2.896580  18.1274    STAR   \n",
       "7   847769580  157.031846 -64.509027        NaN        NaN  20.5406    STAR   \n",
       "8   847769602  157.047932 -64.506415  -7.855330   3.731110  17.9435    STAR   \n",
       "9   847769573  157.044491 -64.508843  -3.782770   2.730920  19.0237    STAR   \n",
       "10  847769623  157.027448 -64.507798  -3.769030   3.307390  19.3759    STAR   \n",
       "11  847769569  157.030311 -64.509324  -6.299780   3.972830  18.7875    STAR   \n",
       "12  847769586  157.049478 -64.505054  -0.684344   1.491410  18.1820    STAR   \n",
       "13  847769587  157.043985 -64.500893  -8.612700   1.971230  17.8043    STAR   \n",
       "14  847769614  157.027462 -64.508623  -5.199310   3.087170  19.2272    STAR   \n",
       "15  847769622  157.027815 -64.501616  -4.409610  -0.346238  19.5806    STAR   \n",
       "16  847769617  157.024607 -64.505875  -9.609810  16.215300  19.2100    STAR   \n",
       "17  847769618  157.024089 -64.505192  -4.307570   2.608490  19.4684    STAR   \n",
       "\n",
       "    typeSrc   version  HIP  ... splists       e_RA      e_Dec     RA_orig  \\\n",
       "0   tmgaia2  20190415  NaN  ...     NaN   0.720185   0.578579  157.037281   \n",
       "1     gaia2  20190415  NaN  ...     NaN   2.613303   2.767018  157.035819   \n",
       "2     gaia2  20190415  NaN  ...     NaN  31.062549  26.177476  157.039253   \n",
       "3   tmgaia2  20190415  NaN  ...     NaN   0.670007   0.480852  157.037118   \n",
       "4     gaia2  20190415  NaN  ...     NaN   8.536804   6.479910  157.040305   \n",
       "5     gaia2  20190415  NaN  ...     NaN   3.069764   2.419117  157.027563   \n",
       "6     gaia2  20190415  NaN  ...     NaN   6.982370   5.506957  157.038918   \n",
       "7     gaia2  20190415  NaN  ...     NaN   2.200630   8.070872  157.031846   \n",
       "8     gaia2  20190415  NaN  ...     NaN   6.736638   5.541250  157.047853   \n",
       "9     gaia2  20190415  NaN  ...     NaN  10.892670   8.154198  157.044453   \n",
       "10    gaia2  20190415  NaN  ...     NaN  19.993833  19.536125  157.027410   \n",
       "11    gaia2  20190415  NaN  ...     NaN  10.434826   8.067183  157.030248   \n",
       "12    gaia2  20190415  NaN  ...     NaN   7.765447   5.796702  157.049471   \n",
       "13    gaia2  20190415  NaN  ...     NaN   5.187459   4.311195  157.043899   \n",
       "14    gaia2  20190415  NaN  ...     NaN  12.552915   9.822076  157.027410   \n",
       "15    gaia2  20190415  NaN  ...     NaN  21.402899  21.070349  157.027771   \n",
       "16    gaia2  20190415  NaN  ...     NaN  20.144653  16.653391  157.024511   \n",
       "17    gaia2  20190415  NaN  ...     NaN  19.860909  16.575897  157.024046   \n",
       "\n",
       "     Dec_orig e_RA_orig e_Dec_orig raddflag wdflag  dstArcSec  \n",
       "0  -64.505211  0.020725   0.020265      1.0      0   0.000015  \n",
       "1  -64.505082  0.078785   0.108097      NaN      0   2.308390  \n",
       "2  -64.506375  0.484003   0.590284      NaN      0   4.923334  \n",
       "3  -64.503743  0.019827   0.016880      0.0      0   5.442008  \n",
       "4  -64.501768  0.210487   0.219392      1.0      0  13.437058  \n",
       "5  -64.505243  0.084123   0.085744      1.0      0  15.249509  \n",
       "6  -64.509533  0.184442   0.197915      1.0      0  15.608325  \n",
       "7  -64.509027  2.200630   8.070872      NaN      0  16.114219  \n",
       "8  -64.506398  0.167094   0.181577      1.0      0  16.749075  \n",
       "9  -64.508831  0.283480   0.290217      1.0      0  16.883263  \n",
       "10 -64.507783  0.403536   0.569229      1.0      0  18.005509  \n",
       "11 -64.509307  0.267257   0.283474      1.0      0  18.352822  \n",
       "12 -64.505048  0.190927   0.200065      1.0      0  18.635636  \n",
       "13 -64.500885  0.137229   0.146045      1.0      0  18.689226  \n",
       "14 -64.508609  0.311658   0.349089      1.0      0  19.662573  \n",
       "15 -64.501618  0.438487   0.655200      1.0      0  19.885999  \n",
       "16 -64.505805  0.470700   0.529068      1.0      0  20.039801  \n",
       "17 -64.505181  0.484716   0.565601      1.0      0  20.721126  \n",
       "\n",
       "[18 rows x 125 columns]"
      ]
     },
     "execution_count": 15,
     "metadata": {},
     "output_type": "execute_result"
    }
   ],
   "source": [
    "t = cr.Target(gaiaDR2id=5251470948229949568)\n",
    "t.query_tic_catalog(radius=21) #21\"~1 TESS pixel"
   ]
  },
  {
   "cell_type": "code",
   "execution_count": 16,
   "metadata": {},
   "outputs": [
    {
     "name": "stdout",
     "output_type": "stream",
     "text": [
      "Querying TIC catalog for ra,dec=(157.037 -64.5053) within 3.0 arcsec.\n",
      "There are 2 TIC stars within 3.0 arcsec\n"
     ]
    },
    {
     "data": {
      "text/plain": [
       "ID              460205581\n",
       "ra                157.037\n",
       "dec              -64.5053\n",
       "pmRA             -18.0165\n",
       "pmDEC             11.3068\n",
       "                 ...     \n",
       "e_RA_orig       0.0207253\n",
       "e_Dec_orig      0.0202653\n",
       "raddflag                1\n",
       "wdflag                  0\n",
       "dstArcSec     1.47538e-05\n",
       "Name: 0, Length: 125, dtype: object"
      ]
     },
     "execution_count": 16,
     "metadata": {},
     "output_type": "execute_result"
    }
   ],
   "source": [
    "#return nearest position match\n",
    "t.query_tic_catalog(return_nearest_xmatch=True) "
   ]
  },
  {
   "cell_type": "code",
   "execution_count": 17,
   "metadata": {},
   "outputs": [
    {
     "data": {
      "text/plain": [
       "9.9322"
      ]
     },
     "execution_count": 17,
     "metadata": {},
     "output_type": "execute_result"
    }
   ],
   "source": [
    "#properties can be easily accessible\n",
    "t.tic_params.Tmag"
   ]
  },
  {
   "cell_type": "markdown",
   "metadata": {},
   "source": [
    "## validate catalog cross-match"
   ]
  },
  {
   "cell_type": "code",
   "execution_count": 18,
   "metadata": {},
   "outputs": [
    {
     "name": "stdout",
     "output_type": "stream",
     "text": [
      "Target: Gaia DR2 5251470948229949568\n",
      "Querying Gaia DR2 catalog for ra,dec=(157.037 -64.5053) within 3.0 arcsec.\n",
      "There are 2 gaia sources within 3.0 arcsec.\n",
      "Querying TIC catalog for ra,dec=(157.037 -64.5053) within 3.0 arcsec.\n",
      "There are 2 TIC stars within 3.0 arcsec\n"
     ]
    }
   ],
   "source": [
    "t = cr.Target(gaiaDR2id=5251470948229949568)\n",
    "#query nearest position match in gaia and tic catalogs\n",
    "gaia_params = t.query_gaia_dr2_catalog(return_nearest_xmatch=True)\n",
    "tic_params = t.query_tic_catalog(return_nearest_xmatch=True)"
   ]
  },
  {
   "cell_type": "code",
   "execution_count": 19,
   "metadata": {},
   "outputs": [
    {
     "name": "stdout",
     "output_type": "stream",
     "text": [
      "Gaia and TIC catalog cross-match succeeded.\n"
     ]
    },
    {
     "data": {
      "text/plain": [
       "True"
      ]
     },
     "execution_count": 19,
     "metadata": {},
     "output_type": "execute_result"
    }
   ],
   "source": [
    "#validate by comparing stellar properties e.g. magnitude, parallax, etc\n",
    "t.validate_gaia_tic_xmatch()"
   ]
  },
  {
   "cell_type": "markdown",
   "metadata": {},
   "source": [
    "## estimate Av"
   ]
  },
  {
   "cell_type": "markdown",
   "metadata": {},
   "source": [
    "Star module inherits Target module"
   ]
  },
  {
   "cell_type": "code",
   "execution_count": 25,
   "metadata": {},
   "outputs": [
    {
     "name": "stdout",
     "output_type": "stream",
     "text": [
      "Target: Gaia DR2 5251470948229949568\n"
     ]
    }
   ],
   "source": [
    "s = cr.Star(gaiaDR2id=5251470948229949568)"
   ]
  },
  {
   "cell_type": "code",
   "execution_count": 26,
   "metadata": {},
   "outputs": [
    {
     "data": {
      "text/latex": [
       "$1 \\; \\mathrm{}$"
      ],
      "text/plain": [
       "<Quantity 1.>"
      ]
     },
     "execution_count": 26,
     "metadata": {},
     "output_type": "execute_result"
    }
   ],
   "source": [
    "s.target_coord.distance"
   ]
  },
  {
   "cell_type": "code",
   "execution_count": 22,
   "metadata": {},
   "outputs": [
    {
     "name": "stdout",
     "output_type": "stream",
     "text": [
      "Querying Gaia DR2 catalog for ra,dec=(157.037 -64.5053) within 3.0 arcsec.\n",
      "There are 2 gaia sources within 3.0 arcsec.\n"
     ]
    }
   ],
   "source": [
    "#after cross-matching, parallax and hence distance is known\n",
    "d=s.query_gaia_dr2_catalog(return_nearest_xmatch=True)"
   ]
  },
  {
   "cell_type": "code",
   "execution_count": 27,
   "metadata": {},
   "outputs": [
    {
     "data": {
      "text/latex": [
       "$1 \\; \\mathrm{}$"
      ],
      "text/plain": [
       "<Quantity 1.>"
      ]
     },
     "execution_count": 27,
     "metadata": {},
     "output_type": "execute_result"
    }
   ],
   "source": [
    "s.target_coord.distance"
   ]
  },
  {
   "cell_type": "raw",
   "metadata": {},
   "source": [
    "import numpy as np\n",
    "\n",
    "10**(t.gaia_params.phot_g_mean_mag - 5 * np.log10(t.target_coord.distance.pc) + 5 - t.gaia_params.a_g_val)/5"
   ]
  },
  {
   "cell_type": "code",
   "execution_count": 28,
   "metadata": {
    "scrolled": true
   },
   "outputs": [
    {
     "data": {
      "text/plain": [
       "2.143053388595581"
      ]
     },
     "execution_count": 28,
     "metadata": {},
     "output_type": "execute_result"
    }
   ],
   "source": [
    "s.estimate_Av(map='sfd')"
   ]
  },
  {
   "cell_type": "code",
   "execution_count": 29,
   "metadata": {},
   "outputs": [
    {
     "data": {
      "text/plain": [
       "2.418096917867661"
      ]
     },
     "execution_count": 29,
     "metadata": {},
     "output_type": "execute_result"
    }
   ],
   "source": [
    "s.estimate_Av(map='planck')"
   ]
  },
  {
   "cell_type": "markdown",
   "metadata": {},
   "source": [
    "## estimate spectral type"
   ]
  },
  {
   "cell_type": "code",
   "execution_count": 30,
   "metadata": {},
   "outputs": [
    {
     "name": "stdout",
     "output_type": "stream",
     "text": [
      "Target: Gaia DR2 5251470948229949568\n"
     ]
    }
   ],
   "source": [
    "s = cr.Star(gaiaDR2id=5251470948229949568)"
   ]
  },
  {
   "cell_type": "code",
   "execution_count": 32,
   "metadata": {},
   "outputs": [
    {
     "name": "stdout",
     "output_type": "stream",
     "text": [
      "Loaded: /home/jp/github/research/project/chronos/chronos/../data/mamajek_table.csv\n",
      "Querying Gaia DR2 catalog for ra,dec=(157.037 -64.5053) within 3.0 arcsec.\n",
      "There are 2 gaia sources within 3.0 arcsec.\n",
      "Querying TIC catalog for ra,dec=(157.037 -64.5053) within 3.0 arcsec.\n",
      "There are 2 TIC stars within 3.0 arcsec\n"
     ]
    },
    {
     "data": {
      "text/plain": [
       "'G2V'"
      ]
     },
     "execution_count": 32,
     "metadata": {},
     "output_type": "execute_result"
    }
   ],
   "source": [
    "#uses Monte Carlo \n",
    "spec_types, samples = s.get_spectral_type(return_samples=True)\n",
    "spec_types"
   ]
  },
  {
   "cell_type": "code",
   "execution_count": 33,
   "metadata": {},
   "outputs": [
    {
     "data": {
      "image/png": "[encoded data removed]",
      "text/plain": [
       "<Figure size 576x360 with 1 Axes>"
      ]
     },
     "metadata": {
      "needs_background": "light"
     },
     "output_type": "display_data"
    }
   ],
   "source": [
    "#plot\n",
    "fig = pl.figure(figsize=(8,5))\n",
    "nbins= len(np.unique(samples))\n",
    "pl.hist(samples, bins=nbins);"
   ]
  },
  {
   "cell_type": "markdown",
   "metadata": {},
   "source": [
    "## check HARPS RV bank"
   ]
  },
  {
   "cell_type": "code",
   "execution_count": 34,
   "metadata": {
    "scrolled": true
   },
   "outputs": [
    {
     "name": "stdout",
     "output_type": "stream",
     "text": [
      "Target: TIC 410214986\n",
      "Loaded: /home/jp/github/research/project/chronos/chronos/../data/HARPS_RVBank_table.csv\n",
      "\n",
      "There are 1 matches: ['HD222259']\n",
      "                                                 1786\n",
      "G [mag]                                           NaN\n",
      "Dist [pc]                                        46.2\n",
      "Data products (ascii)  HD222259_harps_all-data_v1.dat\n",
      "Data products (csv)    HD222259_harps_all-data_v1.csv\n",
      "\n",
      "\n"
     ]
    },
    {
     "data": {
      "text/html": [
       "<div>\n",
       "<style scoped>\n",
       "    .dataframe tbody tr th:only-of-type {\n",
       "        vertical-align: middle;\n",
       "    }\n",
       "\n",
       "    .dataframe tbody tr th {\n",
       "        vertical-align: top;\n",
       "    }\n",
       "\n",
       "    .dataframe thead th {\n",
       "        text-align: right;\n",
       "    }\n",
       "</style>\n",
       "<table border=\"1\" class=\"dataframe\">\n",
       "  <thead>\n",
       "    <tr style=\"text-align: right;\">\n",
       "      <th></th>\n",
       "      <th>Target</th>\n",
       "      <th>RA</th>\n",
       "      <th>DEC</th>\n",
       "      <th>Sp. Type</th>\n",
       "      <th>T_eff [K]</th>\n",
       "      <th>B [mag]</th>\n",
       "      <th>V [mag]</th>\n",
       "      <th>G [mag]</th>\n",
       "      <th>Dist [pc]</th>\n",
       "      <th>Data products (ascii)</th>\n",
       "      <th>Data products (csv)</th>\n",
       "    </tr>\n",
       "  </thead>\n",
       "  <tbody>\n",
       "    <tr>\n",
       "      <th>1786</th>\n",
       "      <td>HD222259</td>\n",
       "      <td>23:39:39.4804</td>\n",
       "      <td>-69:11:44.705</td>\n",
       "      <td>G6V+K3Ve</td>\n",
       "      <td>5597.5</td>\n",
       "      <td>9.19</td>\n",
       "      <td>8.226</td>\n",
       "      <td>NaN</td>\n",
       "      <td>46.2</td>\n",
       "      <td>HD222259_harps_all-data_v1.dat</td>\n",
       "      <td>HD222259_harps_all-data_v1.csv</td>\n",
       "    </tr>\n",
       "  </tbody>\n",
       "</table>\n",
       "</div>"
      ],
      "text/plain": [
       "        Target             RA            DEC  Sp. Type  T_eff [K]  B [mag]  \\\n",
       "1786  HD222259  23:39:39.4804  -69:11:44.705  G6V+K3Ve     5597.5     9.19   \n",
       "\n",
       "      V [mag]  G [mag]  Dist [pc]           Data products (ascii)  \\\n",
       "1786    8.226      NaN       46.2  HD222259_harps_all-data_v1.dat   \n",
       "\n",
       "                 Data products (csv)  \n",
       "1786  HD222259_harps_all-data_v1.csv  "
      ]
     },
     "execution_count": 34,
     "metadata": {},
     "output_type": "execute_result"
    }
   ],
   "source": [
    "#useful to get RV measurements\n",
    "t = cr.Target(toiid=200)\n",
    "df = cr.get_harps_RV(t.target_coord)\n",
    "df"
   ]
  },
  {
   "cell_type": "markdown",
   "metadata": {},
   "source": [
    "## query ESO database"
   ]
  },
  {
   "cell_type": "code",
   "execution_count": 35,
   "metadata": {},
   "outputs": [
    {
     "name": "stdout",
     "output_type": "stream",
     "text": [
      "TIC 410214986 is TOI 200!\n",
      "Target: TIC 410214986\n",
      "Searching ESO: (354.915 -69.196) with diameter=3.0 arcsec\n",
      "Available data:\n",
      "Instrument Nspectra  \n",
      "HARPS      13        \n",
      "UVES       3         \n",
      "\n",
      "Found 16 ['HARPS' 'UVES'] spectra with SNR>1\n",
      "\n",
      "There are 3 matches:\n",
      "DSTuc     : failed to fetch coordinates\n",
      "HD222259A : ra,dec=(354.915 -69.1958)\n",
      "HD222259  : ra,dec=(354.915 -69.1958)\n"
     ]
    }
   ],
   "source": [
    "#useful to get spectra\n",
    "t = cr.Target(ticid=410214986)\n",
    "df = t.query_eso()"
   ]
  },
  {
   "cell_type": "markdown",
   "metadata": {},
   "source": [
    "## query MAST"
   ]
  },
  {
   "cell_type": "code",
   "execution_count": 36,
   "metadata": {},
   "outputs": [
    {
     "name": "stdout",
     "output_type": "stream",
     "text": [
      "TIC 410214986 is TOI 200!\n",
      "Target: TIC 410214986\n",
      "Searching MAST for (354.915 -69.196) with radius=3.0 arcsec\n",
      "Available data: ['TESS/TESS', 'SPITZER_SHA/MIPS24', 'SPITZER_SHA/MIPS70', 'SPITZER_SHA/IRAC2', 'SPITZER_SHA/IRAC1', 'HLSP/TESS', 'GALEX/FUV', 'GALEX/NUV'] in ['Optical', 'Infrared', 'UV']\n"
     ]
    },
    {
     "data": {
      "text/html": [
       "<div>\n",
       "<style scoped>\n",
       "    .dataframe tbody tr th:only-of-type {\n",
       "        vertical-align: middle;\n",
       "    }\n",
       "\n",
       "    .dataframe tbody tr th {\n",
       "        vertical-align: top;\n",
       "    }\n",
       "\n",
       "    .dataframe thead th {\n",
       "        text-align: right;\n",
       "    }\n",
       "</style>\n",
       "<table border=\"1\" class=\"dataframe\">\n",
       "  <thead>\n",
       "    <tr style=\"text-align: right;\">\n",
       "      <th></th>\n",
       "      <th>intentType</th>\n",
       "      <th>obs_collection</th>\n",
       "      <th>provenance_name</th>\n",
       "      <th>instrument_name</th>\n",
       "      <th>project</th>\n",
       "      <th>filters</th>\n",
       "      <th>wavelength_region</th>\n",
       "      <th>target_name</th>\n",
       "      <th>target_classification</th>\n",
       "      <th>obs_id</th>\n",
       "      <th>...</th>\n",
       "      <th>proposal_type</th>\n",
       "      <th>sequence_number</th>\n",
       "      <th>s_region</th>\n",
       "      <th>jpegURL</th>\n",
       "      <th>dataURL</th>\n",
       "      <th>dataRights</th>\n",
       "      <th>mtFlag</th>\n",
       "      <th>srcDen</th>\n",
       "      <th>obsid</th>\n",
       "      <th>distance</th>\n",
       "    </tr>\n",
       "  </thead>\n",
       "  <tbody>\n",
       "    <tr>\n",
       "      <th>0</th>\n",
       "      <td>science</td>\n",
       "      <td>TESS</td>\n",
       "      <td>SPOC</td>\n",
       "      <td>Photometer</td>\n",
       "      <td>TESS</td>\n",
       "      <td>TESS</td>\n",
       "      <td>Optical</td>\n",
       "      <td>TESS FFI</td>\n",
       "      <td>NaN</td>\n",
       "      <td>tess-s0001-3-2</td>\n",
       "      <td>...</td>\n",
       "      <td>NaN</td>\n",
       "      <td>1.0</td>\n",
       "      <td>POLYGON 352.51527500 -64.91754900 19.13202600 ...</td>\n",
       "      <td>NaN</td>\n",
       "      <td>NaN</td>\n",
       "      <td>PUBLIC</td>\n",
       "      <td>False</td>\n",
       "      <td>NaN</td>\n",
       "      <td>17000035426</td>\n",
       "      <td>0.000000</td>\n",
       "    </tr>\n",
       "    <tr>\n",
       "      <th>1</th>\n",
       "      <td>science</td>\n",
       "      <td>TESS</td>\n",
       "      <td>SPOC</td>\n",
       "      <td>Photometer</td>\n",
       "      <td>TESS</td>\n",
       "      <td>TESS</td>\n",
       "      <td>Optical</td>\n",
       "      <td>410214986</td>\n",
       "      <td>NaN</td>\n",
       "      <td>tess2018206045859-s0001-0000000410214986-0120-s</td>\n",
       "      <td>...</td>\n",
       "      <td>NaN</td>\n",
       "      <td>1.0</td>\n",
       "      <td>CIRCLE ICRS 354.91455600 -69.19578700 0.00138889</td>\n",
       "      <td>NaN</td>\n",
       "      <td>mast:TESS/product/tess2018206045859-s0001-0000...</td>\n",
       "      <td>PUBLIC</td>\n",
       "      <td>False</td>\n",
       "      <td>NaN</td>\n",
       "      <td>17000008100</td>\n",
       "      <td>0.000000</td>\n",
       "    </tr>\n",
       "    <tr>\n",
       "      <th>2</th>\n",
       "      <td>science</td>\n",
       "      <td>TESS</td>\n",
       "      <td>SPOC</td>\n",
       "      <td>Photometer</td>\n",
       "      <td>TESS</td>\n",
       "      <td>TESS</td>\n",
       "      <td>Optical</td>\n",
       "      <td>410214984</td>\n",
       "      <td>NaN</td>\n",
       "      <td>tess2018206045859-s0001-0000000410214984-0120-s</td>\n",
       "      <td>...</td>\n",
       "      <td>NaN</td>\n",
       "      <td>1.0</td>\n",
       "      <td>CIRCLE ICRS 354.91368900 -69.19433700 0.00138889</td>\n",
       "      <td>NaN</td>\n",
       "      <td>mast:TESS/product/tess2018206045859-s0001-0000...</td>\n",
       "      <td>PUBLIC</td>\n",
       "      <td>False</td>\n",
       "      <td>NaN</td>\n",
       "      <td>17000001563</td>\n",
       "      <td>1.556626</td>\n",
       "    </tr>\n",
       "    <tr>\n",
       "      <th>3</th>\n",
       "      <td>science</td>\n",
       "      <td>SPITZER_SHA</td>\n",
       "      <td>SSC Pipeline</td>\n",
       "      <td>MIPS</td>\n",
       "      <td>NaN</td>\n",
       "      <td>MIPS24</td>\n",
       "      <td>Infrared</td>\n",
       "      <td>HIP116748</td>\n",
       "      <td>NaN</td>\n",
       "      <td>000000459C00</td>\n",
       "      <td>...</td>\n",
       "      <td>ks</td>\n",
       "      <td>4561920.0</td>\n",
       "      <td>POLYGON ICRS -4.72141000 -69.18714500 -5.04659...</td>\n",
       "      <td>NaN</td>\n",
       "      <td>https://irsa.ipac.caltech.edu/data/SPITZER/SHA...</td>\n",
       "      <td>PUBLIC</td>\n",
       "      <td>False</td>\n",
       "      <td>NaN</td>\n",
       "      <td>19000020946</td>\n",
       "      <td>0.000000</td>\n",
       "    </tr>\n",
       "    <tr>\n",
       "      <th>4</th>\n",
       "      <td>science</td>\n",
       "      <td>SPITZER_SHA</td>\n",
       "      <td>SSC Pipeline</td>\n",
       "      <td>MIPS</td>\n",
       "      <td>NaN</td>\n",
       "      <td>MIPS70</td>\n",
       "      <td>Infrared</td>\n",
       "      <td>HIP116748</td>\n",
       "      <td>NaN</td>\n",
       "      <td>000000459C00</td>\n",
       "      <td>...</td>\n",
       "      <td>ks</td>\n",
       "      <td>4561920.0</td>\n",
       "      <td>POLYGON ICRS -4.79581500 -69.20565900 -5.04448...</td>\n",
       "      <td>NaN</td>\n",
       "      <td>https://irsa.ipac.caltech.edu/data/SPITZER/SHA...</td>\n",
       "      <td>PUBLIC</td>\n",
       "      <td>False</td>\n",
       "      <td>NaN</td>\n",
       "      <td>19000020946</td>\n",
       "      <td>0.000000</td>\n",
       "    </tr>\n",
       "  </tbody>\n",
       "</table>\n",
       "<p>5 rows × 33 columns</p>\n",
       "</div>"
      ],
      "text/plain": [
       "  intentType obs_collection provenance_name instrument_name project filters  \\\n",
       "0    science           TESS            SPOC      Photometer    TESS    TESS   \n",
       "1    science           TESS            SPOC      Photometer    TESS    TESS   \n",
       "2    science           TESS            SPOC      Photometer    TESS    TESS   \n",
       "3    science    SPITZER_SHA    SSC Pipeline            MIPS     NaN  MIPS24   \n",
       "4    science    SPITZER_SHA    SSC Pipeline            MIPS     NaN  MIPS70   \n",
       "\n",
       "  wavelength_region target_name target_classification  \\\n",
       "0           Optical    TESS FFI                   NaN   \n",
       "1           Optical   410214986                   NaN   \n",
       "2           Optical   410214984                   NaN   \n",
       "3          Infrared   HIP116748                   NaN   \n",
       "4          Infrared   HIP116748                   NaN   \n",
       "\n",
       "                                            obs_id  ...  proposal_type  \\\n",
       "0                                   tess-s0001-3-2  ...            NaN   \n",
       "1  tess2018206045859-s0001-0000000410214986-0120-s  ...            NaN   \n",
       "2  tess2018206045859-s0001-0000000410214984-0120-s  ...            NaN   \n",
       "3                                     000000459C00  ...             ks   \n",
       "4                                     000000459C00  ...             ks   \n",
       "\n",
       "   sequence_number                                           s_region jpegURL  \\\n",
       "0              1.0  POLYGON 352.51527500 -64.91754900 19.13202600 ...     NaN   \n",
       "1              1.0   CIRCLE ICRS 354.91455600 -69.19578700 0.00138889     NaN   \n",
       "2              1.0   CIRCLE ICRS 354.91368900 -69.19433700 0.00138889     NaN   \n",
       "3        4561920.0  POLYGON ICRS -4.72141000 -69.18714500 -5.04659...     NaN   \n",
       "4        4561920.0  POLYGON ICRS -4.79581500 -69.20565900 -5.04448...     NaN   \n",
       "\n",
       "                                             dataURL  dataRights  mtFlag  \\\n",
       "0                                                NaN      PUBLIC   False   \n",
       "1  mast:TESS/product/tess2018206045859-s0001-0000...      PUBLIC   False   \n",
       "2  mast:TESS/product/tess2018206045859-s0001-0000...      PUBLIC   False   \n",
       "3  https://irsa.ipac.caltech.edu/data/SPITZER/SHA...      PUBLIC   False   \n",
       "4  https://irsa.ipac.caltech.edu/data/SPITZER/SHA...      PUBLIC   False   \n",
       "\n",
       "   srcDen        obsid  distance  \n",
       "0     NaN  17000035426  0.000000  \n",
       "1     NaN  17000008100  0.000000  \n",
       "2     NaN  17000001563  1.556626  \n",
       "3     NaN  19000020946  0.000000  \n",
       "4     NaN  19000020946  0.000000  \n",
       "\n",
       "[5 rows x 33 columns]"
      ]
     },
     "execution_count": 36,
     "metadata": {},
     "output_type": "execute_result"
    }
   ],
   "source": [
    "#useful to get data from other space telescope e.g. Spitzer, Galex if any\n",
    "t = cr.Target(ticid=410214986)\n",
    "df = t.query_mast()\n",
    "df.head()"
   ]
  },
  {
   "cell_type": "markdown",
   "metadata": {},
   "source": [
    "## query Simbad"
   ]
  },
  {
   "cell_type": "code",
   "execution_count": 31,
   "metadata": {},
   "outputs": [
    {
     "name": "stdout",
     "output_type": "stream",
     "text": [
      "TIC 410214986 is TOI 200!\n",
      "Searching MAST: (<SkyCoord (ICRS): (ra, dec, distance) in (deg, deg, pc)\n",
      "    (354.91545833, -69.19604167, 44.0622)>) with radius=3.0 arcsec\n"
     ]
    },
    {
     "data": {
      "text/html": [
       "<div>\n",
       "<style scoped>\n",
       "    .dataframe tbody tr th:only-of-type {\n",
       "        vertical-align: middle;\n",
       "    }\n",
       "\n",
       "    .dataframe tbody tr th {\n",
       "        vertical-align: top;\n",
       "    }\n",
       "\n",
       "    .dataframe thead th {\n",
       "        text-align: right;\n",
       "    }\n",
       "</style>\n",
       "<table border=\"1\" class=\"dataframe\">\n",
       "  <thead>\n",
       "    <tr style=\"text-align: right;\">\n",
       "      <th></th>\n",
       "      <th>MAIN_ID</th>\n",
       "      <th>RA</th>\n",
       "      <th>DEC</th>\n",
       "      <th>COO_BIBCODE</th>\n",
       "      <th>TYPED_ID</th>\n",
       "      <th>OTYPE</th>\n",
       "      <th>SP_TYPE</th>\n",
       "      <th>SP_QUAL</th>\n",
       "      <th>SP_BIBCODE</th>\n",
       "      <th>ROT_upVsini</th>\n",
       "      <th>ROT_Vsini</th>\n",
       "      <th>ROT_err</th>\n",
       "      <th>ROT_mes</th>\n",
       "      <th>ROT_qual</th>\n",
       "      <th>ROT_bibcode</th>\n",
       "      <th>MK_ds</th>\n",
       "      <th>MK_mss</th>\n",
       "      <th>MK_Spectral_type</th>\n",
       "      <th>MK_bibcode</th>\n",
       "    </tr>\n",
       "  </thead>\n",
       "  <tbody>\n",
       "    <tr>\n",
       "      <th>0</th>\n",
       "      <td>b'HD 222259A'</td>\n",
       "      <td>23 39 39.4809</td>\n",
       "      <td>-69 11 44.709</td>\n",
       "      <td>b'2018yCat.1345....0G'</td>\n",
       "      <td>b''</td>\n",
       "      <td>b'PM*'</td>\n",
       "      <td>b'G6V'</td>\n",
       "      <td>C</td>\n",
       "      <td>b'2006A&amp;A...460..695T'</td>\n",
       "      <td></td>\n",
       "      <td>18.299999</td>\n",
       "      <td>0.3</td>\n",
       "      <td>0</td>\n",
       "      <td>C</td>\n",
       "      <td>2006A&amp;A...460..695T</td>\n",
       "      <td></td>\n",
       "      <td></td>\n",
       "      <td>b'G6V'</td>\n",
       "      <td>2006A&amp;A...460..695T</td>\n",
       "    </tr>\n",
       "    <tr>\n",
       "      <th>1</th>\n",
       "      <td>b'HD 222259Ab'</td>\n",
       "      <td>23 39 39.4809</td>\n",
       "      <td>-69 11 44.709</td>\n",
       "      <td>b'2018yCat.1345....0G'</td>\n",
       "      <td>b''</td>\n",
       "      <td>b'Planet?'</td>\n",
       "      <td>b''</td>\n",
       "      <td></td>\n",
       "      <td>b''</td>\n",
       "      <td></td>\n",
       "      <td>NaN</td>\n",
       "      <td>NaN</td>\n",
       "      <td>0</td>\n",
       "      <td></td>\n",
       "      <td></td>\n",
       "      <td></td>\n",
       "      <td></td>\n",
       "      <td>b''</td>\n",
       "      <td></td>\n",
       "    </tr>\n",
       "    <tr>\n",
       "      <th>2</th>\n",
       "      <td>b'HD 222259'</td>\n",
       "      <td>23 39 39.4804</td>\n",
       "      <td>-69 11 44.705</td>\n",
       "      <td>b'2007A&amp;A...474..653V'</td>\n",
       "      <td>b''</td>\n",
       "      <td>b'RSCVn'</td>\n",
       "      <td>b'G6V+K3Ve'</td>\n",
       "      <td>C</td>\n",
       "      <td>b'2006A&amp;A...460..695T'</td>\n",
       "      <td></td>\n",
       "      <td>NaN</td>\n",
       "      <td>NaN</td>\n",
       "      <td>0</td>\n",
       "      <td></td>\n",
       "      <td></td>\n",
       "      <td></td>\n",
       "      <td></td>\n",
       "      <td>b'G6V+K3Ve'</td>\n",
       "      <td>2006A&amp;A...460..695T</td>\n",
       "    </tr>\n",
       "  </tbody>\n",
       "</table>\n",
       "</div>"
      ],
      "text/plain": [
       "          MAIN_ID             RA            DEC             COO_BIBCODE  \\\n",
       "0   b'HD 222259A'  23 39 39.4809  -69 11 44.709  b'2018yCat.1345....0G'   \n",
       "1  b'HD 222259Ab'  23 39 39.4809  -69 11 44.709  b'2018yCat.1345....0G'   \n",
       "2    b'HD 222259'  23 39 39.4804  -69 11 44.705  b'2007A&A...474..653V'   \n",
       "\n",
       "  TYPED_ID       OTYPE      SP_TYPE SP_QUAL              SP_BIBCODE  \\\n",
       "0      b''      b'PM*'       b'G6V'       C  b'2006A&A...460..695T'   \n",
       "1      b''  b'Planet?'          b''                             b''   \n",
       "2      b''    b'RSCVn'  b'G6V+K3Ve'       C  b'2006A&A...460..695T'   \n",
       "\n",
       "  ROT_upVsini  ROT_Vsini  ROT_err  ROT_mes ROT_qual          ROT_bibcode  \\\n",
       "0              18.299999      0.3        0        C  2006A&A...460..695T   \n",
       "1                    NaN      NaN        0                                 \n",
       "2                    NaN      NaN        0                                 \n",
       "\n",
       "  MK_ds MK_mss MK_Spectral_type           MK_bibcode  \n",
       "0                        b'G6V'  2006A&A...460..695T  \n",
       "1                           b''                       \n",
       "2                   b'G6V+K3Ve'  2006A&A...460..695T  "
      ]
     },
     "execution_count": 31,
     "metadata": {},
     "output_type": "execute_result"
    }
   ],
   "source": [
    "#useful to get values from literature e.g. Vsini, \n",
    "t = cr.Target(ticid=410214986)\n",
    "df = t.query_simbad()\n",
    "df.head()"
   ]
  },
  {
   "cell_type": "markdown",
   "metadata": {},
   "source": [
    "## query Vizier"
   ]
  },
  {
   "cell_type": "code",
   "execution_count": 37,
   "metadata": {},
   "outputs": [
    {
     "name": "stdout",
     "output_type": "stream",
     "text": [
      "TIC 410214986 is TOI 200!\n",
      "Target: TIC 410214986\n",
      "Searching Vizier: (354.915 -69.196) with radius=3.0 arcsec\n",
      "119 tables found.\n",
      "{'B/denis/denis': 'DENIS output',\n",
      " 'B/eso/eso_arc': 'Full ESO science archive log from 1991',\n",
      " 'B/gcvs/gcvs_cat': 'GCVS catalog (GCVS 5.1, version March, 2017)',\n",
      " 'B/mk/mktypes': 'The catalog of MK Spectral Types',\n",
      " 'B/pastel/pastel': 'The catalogue of stellar atmospheric parameters (Version '\n",
      "                    '2020-01-30)',\n",
      " 'B/vsx/vsx': 'Variable Star indeX, Version 2020-03-11',\n",
      " 'B/wds/wds': 'The Washington Double Star Catalog (main part)',\n",
      " 'I/239/h_dm_com': 'Double and Multiples: Component solutions -COMP',\n",
      " 'I/239/hip_main': 'The Hipparcos Main Catalogue',\n",
      " 'I/239/tyc_main': 'The main part of Tycho Catalogue',\n",
      " 'I/250/catalog': 'The TRC catalogue',\n",
      " 'I/252/out': 'The Full Catalogue',\n",
      " 'I/259/tyc2': '*The Tycho-2 main catalogue',\n",
      " 'I/271/out': 'The Full GSC2.2.1 Catalogue (455851237 objects)',\n",
      " 'I/276/catalog': '*Main TDSC catalogue',\n",
      " 'I/280B/ascc': 'ASCC-2.5 V3: All-sky Compiled Catalogue of 2.5 million stars, '\n",
      "                '3rd version',\n",
      " 'I/284/out': 'The Whole-Sky USNO-B1.0 Catalog of 1,045,913,669 sources',\n",
      " 'I/294A/ucac2bss': 'UCAC Bright Star Supplement',\n",
      " 'I/297/out': 'The NOMAD-1 Catalog',\n",
      " 'I/305/out': 'records of GSC2.3.2 (near 0+0)',\n",
      " 'I/311/hip2': 'The Astrometric Catalogue',\n",
      " 'I/312/sample': 'The PPMX Catalog (Position and Proper Motions eXtended)',\n",
      " 'I/317/sample': 'Example of formatted output',\n",
      " 'I/320/spm4': 'SPM4 output (out of 103319647 stars)',\n",
      " 'I/322A/out': 'Fourth U.S. Naval Observatory CCD Astrograph Catalog',\n",
      " 'I/324/igsl3': 'the IGSL3 data release',\n",
      " 'I/337/gaia': 'GaiaSource data',\n",
      " 'I/337/tgas': 'TGAS: Subset of GaiaSource comprising those stars in the '\n",
      "               'Hipparcos and Tycho-2 Catalogues for which a full 5-parameter '\n",
      "               'astrometric solution has been possible in Gaia Data Release '\n",
      "               '(TgasSource)',\n",
      " 'I/337/tgasptyc': 'TGAS supplement with BT and VT magnitudes',\n",
      " 'I/339/hsoy': 'The HSOY catalogue (583001653 sources)',\n",
      " 'I/340/ucac5': 'UCAC5 catalog (107,758,513 sources)',\n",
      " 'I/345/gaia2': 'GaiaSource DR2 data',\n",
      " 'I/347/gaia2dis': 'Estimating distances from parallaxes (1331909727 sources)',\n",
      " 'I/348/catalog': 'Catalog',\n",
      " 'I/349/starhorse': 'Starhorse catalog',\n",
      " 'II/246/out': '2MASS Point Source Catalogue, output (on a total of '\n",
      "               '470,992,970 sources)',\n",
      " 'II/311/wise': 'the WISE All-Sky release (among 563,921,584 sources)',\n",
      " 'II/328/allwise': '*the AllWISE data release (among 747,634,026 sources)',\n",
      " 'II/336/apass9': 'The APASS catalog',\n",
      " 'II/354/tgasext': 'E(J-Ks), E(B-V), Rv and Av for Gaia DR1 TGAS stars',\n",
      " 'II/358/smss': 'SkyMapper DR1.1',\n",
      " 'II/359/vhs_dr4': 'VISTA Hemisphere Survey band-merged multi-waveband '\n",
      "                   'catalogues (VHS) DR4.1; output (on a total of '\n",
      "                   '1,155,634,198 sources)',\n",
      " 'III/231/catalog': 'Main Catalog',\n",
      " 'III/244/mean': 'Mean V*sin(i) values for stars',\n",
      " 'III/252/table8': 'Main catalogue data',\n",
      " 'III/254/crvad2': 'The catalogue of radial velocities of galactic stars with '\n",
      "                   'high precision astrometric data, the 2nd version (CRVAD-2)',\n",
      " 'IV/25/tyc2_hd': 'Catalog',\n",
      " 'IV/38/tic': 'Transiting Exoplanet Survey Satellite (TESS) Input Catalog - '\n",
      "              'v8.0 (TIC-8), outpout (on a total of 1,727,987,580 sources)',\n",
      " 'IX/10A/cor_pri': '1RXS Correlation to PRI, RITTER, SIMBAD, TYCHO, EUVE',\n",
      " 'IX/32/rosat': 'The ROSAT Bright Survey (RBS) catalogue',\n",
      " 'J/A+A/352/555/table1': 'Stellar parameters for the stars in the Hipparcos '\n",
      "                         'catalog within 100pc from the Sun included in the '\n",
      "                         'ranges for the radius, mass, effective temperature '\n",
      "                         'and gravity described in Section 4 of the paper.',\n",
      " 'J/A+A/374/132/stars': 'Star positions (from Simbad)',\n",
      " 'J/A+A/384/491/table1': 'Summary of stellar data (Paper I)',\n",
      " 'J/A+A/460/695/stars': 'Astrometric, spectroscopic and photometric data of '\n",
      "                        'the stars observed (tables 3 and 4 of the paper)',\n",
      " 'J/A+A/480/735/stars': 'Member stars of the different associations studied',\n",
      " 'J/A+A/499/129/catalog': 'Data of the cross-correlation with the RASS and the '\n",
      "                          '2MASS of the stars in the sample',\n",
      " 'J/A+A/508/833/tables': 'Li abundances determined for all high probability '\n",
      "                         'members (tables 3-11 of the paper)',\n",
      " 'J/A+A/520/A15/periods': 'Summary of rotation periods (tables 3-8 of the '\n",
      "                          'paper)',\n",
      " 'J/A+A/520/A15/tablea': 'Summary of parameters for the 6 associations (tables '\n",
      "                         'A1-A6 of the paper)',\n",
      " 'J/A+A/530/A138/catalog': '*Stellar parameters',\n",
      " 'J/A+A/532/A10/tableb1': 'Summary of period search of 71 targets in Paper I '\n",
      "                          'and of seven recently added members with photometry '\n",
      "                          'timeseries in the SuperWASP archive',\n",
      " 'J/A+A/537/A147/table4': 'Catalog compilation with analysis results',\n",
      " 'J/A+A/546/A61/tablea1': 'Final-results',\n",
      " 'J/A+A/551/L8/sindices': 'All S-index ranges collected in the literature',\n",
      " 'J/A+A/552/A27/table1': 'Stellar activity and kinematics for 2529 F, G and K '\n",
      "                         'stars',\n",
      " 'J/A+A/568/A26/aver-rv': 'Radial velocities used in this work',\n",
      " 'J/A+A/568/A26/members': 'Membership list used in this work',\n",
      " 'J/A+A/580/A23/catalog': 'Photometric uvby{beta} catalog',\n",
      " 'J/A+A/588/A103/cat2rxs': 'Catalogue of 135118 2RXS ROSAT sources',\n",
      " 'J/A+A/590/A13/tabled1': 'Basic properties of the original used in this work',\n",
      " 'J/A+A/604/A108/unidam': 'Parameters for the main catalogue (UniDAM)',\n",
      " 'J/A+A/616/A108/catalog': 'Chromospheric activity and stellar parameters',\n",
      " 'J/A+A/623/A72/hipgpma': 'Proper motion anomaly of Hipparcos stars',\n",
      " 'J/A+A/629/A139/table3': 'Catalogue of closest stars to the Sun within 50pc',\n",
      " 'J/A+A/633/A53/tceclass': 'Class probability estimates for each Threshold '\n",
      "                           'Crossing Event (TCE) (Tables A1 and A2)',\n",
      " 'J/A+AS/138/87/table1': 'UBVRI maximum luminosity and colors',\n",
      " 'J/AJ/111/439/table4': 'Chromospheric activity observations',\n",
      " 'J/AJ/126/1996/table1': 'The 101 Brightest X-Ray Stars within 50 Parsecs',\n",
      " 'J/AJ/146/76/table2': 'Astrometry and photometry of known WDS pairs',\n",
      " 'J/AJ/153/257/table1a': 'Candidate co-moving pairs catalog: star',\n",
      " 'J/AJ/153/95/table3': 'Catalog of Suspected Nearby Young Stars',\n",
      " 'J/AJ/154/115/table2': 'An interstellar travel catalog to use '\n",
      "                        'photogravitational assists for a full stop',\n",
      " 'J/AJ/154/259/table6': 'Fundamental Parameters of 1600080 Tycho-2 Stars',\n",
      " 'J/AJ/155/149/table1': 'Fundamental parameters',\n",
      " 'J/AJ/156/102/table9': 'Candidate Target List (CTL) provided via the '\n",
      "                        'Filtergraph data visualization portal service',\n",
      " 'J/AJ/156/137/sample': 'Properties of the bona fide members (tables 2 and 3)',\n",
      " 'J/AJ/158/141/table12': 'Confirmed planets around evolved stars with '\n",
      "                         'T_mag_<10 not included in occurrence rate '\n",
      "                         'calculation',\n",
      " 'J/AJ/158/187/table3': 'Properties of the bona fide members',\n",
      " 'J/AJ/158/93/table2': 'Results of our regression in Gaia DR2 (Cat. I/345)',\n",
      " 'J/AJ/159/19/table6': 'Full SOAR speckle observation list and binary '\n",
      "                       'properties',\n",
      " 'J/AZh/83/821/osaca': 'The Orion Spiral Arm CAtalogue',\n",
      " 'J/ApJ/687/1264/table5': \"Members of stellar aggregates with logR'_HK_ \"\n",
      "                          'measurements',\n",
      " 'J/ApJ/703/L72/2mass': 'Hipparcos cross-matched to 2MASS',\n",
      " 'J/ApJ/762/88/members': 'Bona fide members of young kinematic  groups, with '\n",
      "                         'their membership probabilities',\n",
      " 'J/ApJ/826/171/table3': 'The combined metallicity catalog of 20811 sources',\n",
      " 'J/ApJ/833/119/distall': 'Distances and uncertainties of all TGAS sources, no '\n",
      "                          'systematics uncertainties included '\n",
      "                          '(tgas_dist_all_v01)',\n",
      " 'J/ApJ/833/119/distallw': 'Distances and uncertainties of all TGAS sources, '\n",
      "                           'systematics uncertainties of 0.3mas included '\n",
      "                           '(tgas_dist_all_withsys_v01.csv)',\n",
      " 'J/ApJ/836/34/table2': 'Summary of 24 micron photometry',\n",
      " 'J/ApJ/856/23/members': 'Literature compilation of bona fide members (tables '\n",
      "                         '5 and 7)',\n",
      " 'J/ApJS/208/9/table1': 'Spectral types and optical/near-IR photometry for '\n",
      "                        'young, nearby, moving group members',\n",
      " 'J/ApJS/208/9/table9': 'Teff, bolometric magnitudes, bolometric corrections, '\n",
      "                        'and angular diameter estimates from SED fitting',\n",
      " 'J/MNRAS/328/45/singles': 'Single stars (2001MNRAS.328...45M)',\n",
      " 'J/MNRAS/410/190/table1': 'Ages, masses and spectral types for 7663 young '\n",
      "                           'stars',\n",
      " 'J/MNRAS/427/2917/ptypes': 'Predicted of Hipparcos unsolved variables',\n",
      " 'J/MNRAS/454/593/table1': 'VJ photometry, spectral types and distances for '\n",
      "                           'member stars in our young moving groups',\n",
      " 'J/MNRAS/456/2070/table2': 'Wide binaries within 67pc',\n",
      " 'J/MNRAS/463/4210/ucac4rpm': 'UCAC4-RPM catalog v1.0',\n",
      " 'J/MNRAS/469/3042/table1': 'Mean photometric metallicities for dwarf stars',\n",
      " 'J/MNRAS/471/770/table2': 'Hipparcos-Gaia astrometric solution',\n",
      " 'J/MNRAS/473/4937/2rxswg': 'Position and photometry for AllWISE and GAIA '\n",
      "                            'counterparts to ROSAT/2RXS with |b|>15deg',\n",
      " 'J/PAZh/33/643/table1': 'Gould Belt stars with parallax errors < 20%',\n",
      " 'J/other/ARA+A/42.685/stars': 'Stars studied and their membership',\n",
      " 'J/other/PASA/24.118/table1': 'Wide double stars in the declination range '\n",
      "                               '-70{deg} to -60{deg} and RA range 17h13m to '\n",
      "                               '07h30m',\n",
      " 'V/130/gcs3': 'Geneva-Copenhagen catalogue III',\n",
      " 'V/137D/XHIP': 'XHIP catalog: astrometry, spectrography, space motions, '\n",
      "                'exoplanets, photometry, and references',\n",
      " 'V/145/sky2kv5': 'The SkyMap 2000 Version 5 Catalog',\n",
      " 'V/148/morx': 'The catalogue',\n",
      " 'VI/129/fuse': 'The observation log (Version June 2007)',\n",
      " 'VI/135/table15': '[Tycho2Fit.dat] Tycho2 catalog fit'}\n"
     ]
    }
   ],
   "source": [
    "#useful to get tables from literature\n",
    "t = cr.Target(ticid=410214986)\n",
    "tables = t.query_vizier()"
   ]
  },
  {
   "cell_type": "code",
   "execution_count": 38,
   "metadata": {},
   "outputs": [
    {
     "data": {
      "text/html": [
       "<i>Table length=1</i>\n",
       "<table id=\"table140275247738640\" class=\"table-striped table-bordered table-condensed\">\n",
       "<thead><tr><th>_r</th><th>HIP</th><th>RAhms</th><th>DEdms</th><th>Vmag</th><th>RAICRS</th><th>DEICRS</th><th>Plx</th><th>pmRA</th><th>pmDE</th><th>e_Plx</th><th>B-V</th><th>Notes</th><th>_RA.icrs</th><th>_DE.icrs</th></tr></thead>\n",
       "<thead><tr><th>arcsec</th><th></th><th></th><th></th><th>mag</th><th>deg</th><th>deg</th><th>mas</th><th>mas / yr</th><th>mas / yr</th><th>mas</th><th>mag</th><th></th><th>deg</th><th>deg</th></tr></thead>\n",
       "<thead><tr><th>float64</th><th>int32</th><th>bytes11</th><th>bytes11</th><th>float32</th><th>float64</th><th>float64</th><th>float32</th><th>float64</th><th>float64</th><th>float32</th><th>float32</th><th>bytes1</th><th>float64</th><th>float64</th></tr></thead>\n",
       "<tr><td>2.508</td><td>116748</td><td>23 39 39.35</td><td>-69 11 44.1</td><td>8.17</td><td>354.91395712</td><td>-69.19558694</td><td>21.64</td><td>79.04</td><td>-67.11</td><td>1.32</td><td>0.780</td><td></td><td>354.91449801</td><td>-69.19575005</td></tr>\n",
       "</table>"
      ],
      "text/plain": [
       "<Table length=1>\n",
       "   _r    HIP      RAhms       DEdms    ... Notes    _RA.icrs     _DE.icrs  \n",
       " arcsec                                ...            deg          deg     \n",
       "float64 int32    bytes11     bytes11   ... bytes1   float64      float64   \n",
       "------- ------ ----------- ----------- ... ------ ------------ ------------\n",
       "  2.508 116748 23 39 39.35 -69 11 44.1 ...        354.91449801 -69.19575005"
      ]
     },
     "execution_count": 38,
     "metadata": {},
     "output_type": "execute_result"
    }
   ],
   "source": [
    "#check the first table\n",
    "tables[0]"
   ]
  },
  {
   "cell_type": "markdown",
   "metadata": {},
   "source": [
    "## search TESS\n",
    "\n",
    "* check which TESS sector: https://heasarc.gsfc.nasa.gov/cgi-bin/tess/webtess/wtv.py or using [tess-point](https://github.com/christopherburke/tess-point)\n",
    "* check schedule here: https://tess.mit.edu/observations/"
   ]
  },
  {
   "cell_type": "code",
   "execution_count": null,
   "metadata": {},
   "outputs": [],
   "source": []
  }
 ],
 "metadata": {
  "kernelspec": {
   "display_name": "Python 3",
   "language": "python",
   "name": "python3"
  },
  "language_info": {
   "codemirror_mode": {
    "name": "ipython",
    "version": 3
   },
   "file_extension": ".py",
   "mimetype": "text/x-python",
   "name": "python",
   "nbconvert_exporter": "python",
   "pygments_lexer": "ipython3",
   "version": "3.7.6"
  },
  "toc": {
   "base_numbering": 1,
   "nav_menu": {
    "height": "66.9952px",
    "width": "171.575px"
   },
   "number_sections": true,
   "sideBar": true,
   "skip_h1_title": true,
   "title_cell": "Table of Contents",
   "title_sidebar": "Contents",
   "toc_cell": false,
   "toc_position": {
    "height": "calc(100% - 180px)",
    "left": "10px",
    "top": "150px",
    "width": "295.529px"
   },
   "toc_section_display": true,
   "toc_window_display": true
  }
 },
 "nbformat": 4,
 "nbformat_minor": 2
}
