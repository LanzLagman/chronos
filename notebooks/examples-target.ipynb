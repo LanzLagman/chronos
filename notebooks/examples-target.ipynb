{
 "cells": [
  {
   "cell_type": "markdown",
   "metadata": {},
   "source": [
    "# examples using chronos"
   ]
  },
  {
   "cell_type": "code",
   "execution_count": 1,
   "metadata": {},
   "outputs": [
    {
     "name": "stdout",
     "output_type": "stream",
     "text": [
      "Created TAP+ (v1.2.1) - Connection:\n",
      "\tHost: gea.esac.esa.int\n",
      "\tUse HTTPS: True\n",
      "\tPort: 443\n",
      "\tSSL Port: 443\n",
      "Created TAP+ (v1.2.1) - Connection:\n",
      "\tHost: geadata.esac.esa.int\n",
      "\tUse HTTPS: True\n",
      "\tPort: 443\n",
      "\tSSL Port: 443\n"
     ]
    }
   ],
   "source": [
    "%matplotlib inline\n",
    "import numpy as np\n",
    "import matplotlib.pyplot as pl\n",
    "import matplotlib\n",
    "matplotlib.rcParams['font.size'] = 12\n",
    "\n",
    "import chronos as cr"
   ]
  },
  {
   "cell_type": "markdown",
   "metadata": {},
   "source": [
    "## search target"
   ]
  },
  {
   "cell_type": "code",
   "execution_count": 2,
   "metadata": {},
   "outputs": [],
   "source": [
    "#search by gaia id (recommended)\n",
    "t = cr.Target(gaiaDR2id=5251470948229949568)"
   ]
  },
  {
   "cell_type": "code",
   "execution_count": 3,
   "metadata": {},
   "outputs": [
    {
     "data": {
      "text/plain": [
       "5251470948229949568"
      ]
     },
     "execution_count": 3,
     "metadata": {},
     "output_type": "execute_result"
    }
   ],
   "source": [
    "t.gaiaid"
   ]
  },
  {
   "cell_type": "code",
   "execution_count": 4,
   "metadata": {},
   "outputs": [
    {
     "data": {
      "text/plain": [
       "<SkyCoord (ICRS): (ra, dec) in deg\n",
       "    (157.03746078, -64.50525936)>"
      ]
     },
     "execution_count": 4,
     "metadata": {},
     "output_type": "execute_result"
    }
   ],
   "source": [
    "t.target_coord"
   ]
  },
  {
   "cell_type": "code",
   "execution_count": 5,
   "metadata": {},
   "outputs": [
    {
     "data": {
      "text/plain": [
       "<SkyCoord (ICRS): (ra, dec) in deg\n",
       "    (157.03729167, -64.50521111)>"
      ]
     },
     "execution_count": 5,
     "metadata": {},
     "output_type": "execute_result"
    }
   ],
   "source": [
    "#search by ra and dec\n",
    "t = cr.Target(ra_deg=157.03729167, dec_deg=-64.50521111)\n",
    "t.target_coord"
   ]
  },
  {
   "cell_type": "code",
   "execution_count": 6,
   "metadata": {},
   "outputs": [
    {
     "data": {
      "text/plain": [
       "<SkyCoord (ICRS): (ra, dec, distance) in (deg, deg, pc)\n",
       "    (157.03729167, -64.50521111, 142.488)>"
      ]
     },
     "execution_count": 6,
     "metadata": {},
     "output_type": "execute_result"
    }
   ],
   "source": [
    "#search by toiid\n",
    "t = cr.Target(toiid=837)\n",
    "t.target_coord"
   ]
  },
  {
   "cell_type": "code",
   "execution_count": 7,
   "metadata": {},
   "outputs": [
    {
     "data": {
      "text/plain": [
       "837"
      ]
     },
     "execution_count": 7,
     "metadata": {},
     "output_type": "execute_result"
    }
   ],
   "source": [
    "t.toiid"
   ]
  },
  {
   "cell_type": "code",
   "execution_count": 8,
   "metadata": {
    "scrolled": true
   },
   "outputs": [
    {
     "name": "stdout",
     "output_type": "stream",
     "text": [
      "TIC 460205581 is TOI 837!\n"
     ]
    },
    {
     "data": {
      "text/plain": [
       "<SkyCoord (ICRS): (ra, dec, distance) in (deg, deg, pc)\n",
       "    (157.03729167, -64.50521111, 142.488)>"
      ]
     },
     "execution_count": 8,
     "metadata": {},
     "output_type": "execute_result"
    }
   ],
   "source": [
    "#search by ticid\n",
    "t = cr.Target(ticid=460205581)\n",
    "t.target_coord"
   ]
  },
  {
   "cell_type": "code",
   "execution_count": 9,
   "metadata": {
    "scrolled": true
   },
   "outputs": [
    {
     "data": {
      "text/plain": [
       "460205581"
      ]
     },
     "execution_count": 9,
     "metadata": {},
     "output_type": "execute_result"
    }
   ],
   "source": [
    "t.ticid"
   ]
  },
  {
   "cell_type": "code",
   "execution_count": 10,
   "metadata": {},
   "outputs": [
    {
     "data": {
      "text/plain": [
       "<SkyCoord (ICRS): (ra, dec) in deg\n",
       "    (84.291188, -80.46911982)>"
      ]
     },
     "execution_count": 10,
     "metadata": {},
     "output_type": "execute_result"
    }
   ],
   "source": [
    "#search by name\n",
    "t = cr.Target(name='Pi Mensae')\n",
    "t.target_coord"
   ]
  },
  {
   "cell_type": "code",
   "execution_count": 11,
   "metadata": {},
   "outputs": [
    {
     "data": {
      "text/plain": [
       "<SkyCoord (ICRS): (ra, dec) in deg\n",
       "    (170.132598, -2.902582)>"
      ]
     },
     "execution_count": 11,
     "metadata": {},
     "output_type": "execute_result"
    }
   ],
   "source": [
    "#name accepts EPIC\n",
    "t = cr.Target(name='EPIC 201270176')\n",
    "t.target_coord"
   ]
  },
  {
   "cell_type": "code",
   "execution_count": 12,
   "metadata": {},
   "outputs": [
    {
     "data": {
      "text/plain": [
       "201270176"
      ]
     },
     "execution_count": 12,
     "metadata": {},
     "output_type": "execute_result"
    }
   ],
   "source": [
    "t.epicid"
   ]
  },
  {
   "cell_type": "code",
   "execution_count": 13,
   "metadata": {},
   "outputs": [
    {
     "data": {
      "text/plain": [
       "<SkyCoord (ICRS): (ra, dec) in deg\n",
       "    (242.56140783, -19.31927978)>"
      ]
     },
     "execution_count": 13,
     "metadata": {},
     "output_type": "execute_result"
    }
   ],
   "source": [
    "#name accepts K2\n",
    "t = cr.Target(name='K2-33')\n",
    "t.target_coord"
   ]
  },
  {
   "cell_type": "markdown",
   "metadata": {},
   "source": [
    "## search Gaia DR2 catalog"
   ]
  },
  {
   "cell_type": "code",
   "execution_count": 14,
   "metadata": {},
   "outputs": [
    {
     "name": "stdout",
     "output_type": "stream",
     "text": [
      "Querying Gaia DR2 catalog for 157.037 -64.5053 within 5.0 arcsec.\n",
      "\n"
     ]
    },
    {
     "data": {
      "text/html": [
       "<div>\n",
       "<style scoped>\n",
       "    .dataframe tbody tr th:only-of-type {\n",
       "        vertical-align: middle;\n",
       "    }\n",
       "\n",
       "    .dataframe tbody tr th {\n",
       "        vertical-align: top;\n",
       "    }\n",
       "\n",
       "    .dataframe thead th {\n",
       "        text-align: right;\n",
       "    }\n",
       "</style>\n",
       "<table border=\"1\" class=\"dataframe\">\n",
       "  <thead>\n",
       "    <tr style=\"text-align: right;\">\n",
       "      <th></th>\n",
       "      <th>solution_id</th>\n",
       "      <th>designation</th>\n",
       "      <th>source_id</th>\n",
       "      <th>random_index</th>\n",
       "      <th>ref_epoch</th>\n",
       "      <th>ra</th>\n",
       "      <th>ra_error</th>\n",
       "      <th>dec</th>\n",
       "      <th>dec_error</th>\n",
       "      <th>parallax</th>\n",
       "      <th>...</th>\n",
       "      <th>e_bp_min_rp_percentile_lower</th>\n",
       "      <th>e_bp_min_rp_percentile_upper</th>\n",
       "      <th>flame_flags</th>\n",
       "      <th>radius_val</th>\n",
       "      <th>radius_percentile_lower</th>\n",
       "      <th>radius_percentile_upper</th>\n",
       "      <th>lum_val</th>\n",
       "      <th>lum_percentile_lower</th>\n",
       "      <th>lum_percentile_upper</th>\n",
       "      <th>distance</th>\n",
       "    </tr>\n",
       "  </thead>\n",
       "  <tbody>\n",
       "    <tr>\n",
       "      <th>0</th>\n",
       "      <td>1635721458409799680</td>\n",
       "      <td>Gaia DR2 5251470948229949568</td>\n",
       "      <td>5251470948229949568</td>\n",
       "      <td>1500767781</td>\n",
       "      <td>2015.5</td>\n",
       "      <td>157.037281</td>\n",
       "      <td>0.020725</td>\n",
       "      <td>-64.505211</td>\n",
       "      <td>0.020265</td>\n",
       "      <td>6.989271</td>\n",
       "      <td>...</td>\n",
       "      <td>0.0065</td>\n",
       "      <td>0.1059</td>\n",
       "      <td>200111</td>\n",
       "      <td>1.049562</td>\n",
       "      <td>1.023889</td>\n",
       "      <td>1.089327</td>\n",
       "      <td>1.098632</td>\n",
       "      <td>1.092309</td>\n",
       "      <td>1.104955</td>\n",
       "      <td>0.005495</td>\n",
       "    </tr>\n",
       "    <tr>\n",
       "      <th>1</th>\n",
       "      <td>1635721458409799680</td>\n",
       "      <td>Gaia DR2 5251470948222139904</td>\n",
       "      <td>5251470948222139904</td>\n",
       "      <td>169326472</td>\n",
       "      <td>2015.5</td>\n",
       "      <td>157.035819</td>\n",
       "      <td>0.078785</td>\n",
       "      <td>-64.505082</td>\n",
       "      <td>0.108097</td>\n",
       "      <td>6.678713</td>\n",
       "      <td>...</td>\n",
       "      <td>NaN</td>\n",
       "      <td>NaN</td>\n",
       "      <td>NaN</td>\n",
       "      <td>NaN</td>\n",
       "      <td>NaN</td>\n",
       "      <td>NaN</td>\n",
       "      <td>NaN</td>\n",
       "      <td>NaN</td>\n",
       "      <td>NaN</td>\n",
       "      <td>0.043712</td>\n",
       "    </tr>\n",
       "    <tr>\n",
       "      <th>2</th>\n",
       "      <td>1635721458409799680</td>\n",
       "      <td>Gaia DR2 5251470948229949184</td>\n",
       "      <td>5251470948229949184</td>\n",
       "      <td>50362545</td>\n",
       "      <td>2015.5</td>\n",
       "      <td>157.039253</td>\n",
       "      <td>0.484003</td>\n",
       "      <td>-64.506375</td>\n",
       "      <td>0.590284</td>\n",
       "      <td>0.218503</td>\n",
       "      <td>...</td>\n",
       "      <td>NaN</td>\n",
       "      <td>NaN</td>\n",
       "      <td>NaN</td>\n",
       "      <td>NaN</td>\n",
       "      <td>NaN</td>\n",
       "      <td>NaN</td>\n",
       "      <td>NaN</td>\n",
       "      <td>NaN</td>\n",
       "      <td>NaN</td>\n",
       "      <td>0.081375</td>\n",
       "    </tr>\n",
       "  </tbody>\n",
       "</table>\n",
       "<p>3 rows × 95 columns</p>\n",
       "</div>"
      ],
      "text/plain": [
       "           solution_id                   designation            source_id  \\\n",
       "0  1635721458409799680  Gaia DR2 5251470948229949568  5251470948229949568   \n",
       "1  1635721458409799680  Gaia DR2 5251470948222139904  5251470948222139904   \n",
       "2  1635721458409799680  Gaia DR2 5251470948229949184  5251470948229949184   \n",
       "\n",
       "  random_index  ref_epoch          ra  ra_error        dec  dec_error  \\\n",
       "0   1500767781     2015.5  157.037281  0.020725 -64.505211   0.020265   \n",
       "1    169326472     2015.5  157.035819  0.078785 -64.505082   0.108097   \n",
       "2     50362545     2015.5  157.039253  0.484003 -64.506375   0.590284   \n",
       "\n",
       "   parallax  ...  e_bp_min_rp_percentile_lower  e_bp_min_rp_percentile_upper  \\\n",
       "0  6.989271  ...                        0.0065                        0.1059   \n",
       "1  6.678713  ...                           NaN                           NaN   \n",
       "2  0.218503  ...                           NaN                           NaN   \n",
       "\n",
       "   flame_flags  radius_val  radius_percentile_lower  radius_percentile_upper  \\\n",
       "0       200111    1.049562                 1.023889                 1.089327   \n",
       "1          NaN         NaN                      NaN                      NaN   \n",
       "2          NaN         NaN                      NaN                      NaN   \n",
       "\n",
       "    lum_val  lum_percentile_lower  lum_percentile_upper  distance  \n",
       "0  1.098632              1.092309              1.104955  0.005495  \n",
       "1       NaN                   NaN                   NaN  0.043712  \n",
       "2       NaN                   NaN                   NaN  0.081375  \n",
       "\n",
       "[3 rows x 95 columns]"
      ]
     },
     "execution_count": 14,
     "metadata": {},
     "output_type": "execute_result"
    }
   ],
   "source": [
    "t = cr.Target(gaiaDR2id=5251470948229949568)\n",
    "t.query_gaia_dr2_catalog(radius=5)"
   ]
  },
  {
   "cell_type": "code",
   "execution_count": 15,
   "metadata": {},
   "outputs": [
    {
     "name": "stdout",
     "output_type": "stream",
     "text": [
      "Querying Gaia DR2 catalog for 157.037 -64.5053 within 3.0 arcsec.\n",
      "\n"
     ]
    },
    {
     "data": {
      "text/plain": [
       "solution_id                         1635721458409799680\n",
       "designation                Gaia DR2 5251470948229949568\n",
       "source_id                           5251470948229949568\n",
       "random_index                                 1500767781\n",
       "ref_epoch                                        2015.5\n",
       "                                       ...             \n",
       "radius_percentile_upper                         1.08933\n",
       "lum_val                                         1.09863\n",
       "lum_percentile_lower                            1.09231\n",
       "lum_percentile_upper                            1.10496\n",
       "distance                                     0.00549491\n",
       "Name: 0, Length: 95, dtype: object"
      ]
     },
     "execution_count": 15,
     "metadata": {},
     "output_type": "execute_result"
    }
   ],
   "source": [
    "#return single match\n",
    "t.query_gaia_dr2_catalog(return_nearest_xmatch=True)"
   ]
  },
  {
   "cell_type": "code",
   "execution_count": 16,
   "metadata": {},
   "outputs": [
    {
     "data": {
      "text/plain": [
       "solution_id                         1635721458409799680\n",
       "designation                Gaia DR2 5251470948229949568\n",
       "source_id                           5251470948229949568\n",
       "random_index                                 1500767781\n",
       "ref_epoch                                        2015.5\n",
       "                                       ...             \n",
       "radius_percentile_upper                         1.08933\n",
       "lum_val                                         1.09863\n",
       "lum_percentile_lower                            1.09231\n",
       "lum_percentile_upper                            1.10496\n",
       "distance                                     0.00549491\n",
       "Name: 0, Length: 95, dtype: object"
      ]
     },
     "execution_count": 16,
     "metadata": {},
     "output_type": "execute_result"
    }
   ],
   "source": [
    "t.gaia_params"
   ]
  },
  {
   "cell_type": "code",
   "execution_count": 17,
   "metadata": {},
   "outputs": [
    {
     "data": {
      "text/plain": [
       "10.3559618"
      ]
     },
     "execution_count": 17,
     "metadata": {},
     "output_type": "execute_result"
    }
   ],
   "source": [
    "t.gaia_params.phot_g_mean_mag"
   ]
  },
  {
   "cell_type": "markdown",
   "metadata": {},
   "source": [
    "## search TIC catalog"
   ]
  },
  {
   "cell_type": "code",
   "execution_count": 18,
   "metadata": {},
   "outputs": [
    {
     "name": "stdout",
     "output_type": "stream",
     "text": [
      "Querying TIC catalog for 157.037 -64.5053\n",
      "            within 21.0 arcsec.\n",
      "\n"
     ]
    },
    {
     "data": {
      "text/html": [
       "<div>\n",
       "<style scoped>\n",
       "    .dataframe tbody tr th:only-of-type {\n",
       "        vertical-align: middle;\n",
       "    }\n",
       "\n",
       "    .dataframe tbody tr th {\n",
       "        vertical-align: top;\n",
       "    }\n",
       "\n",
       "    .dataframe thead th {\n",
       "        text-align: right;\n",
       "    }\n",
       "</style>\n",
       "<table border=\"1\" class=\"dataframe\">\n",
       "  <thead>\n",
       "    <tr style=\"text-align: right;\">\n",
       "      <th></th>\n",
       "      <th>ID</th>\n",
       "      <th>ra</th>\n",
       "      <th>dec</th>\n",
       "      <th>pmRA</th>\n",
       "      <th>pmDEC</th>\n",
       "      <th>Tmag</th>\n",
       "      <th>objType</th>\n",
       "      <th>typeSrc</th>\n",
       "      <th>version</th>\n",
       "      <th>HIP</th>\n",
       "      <th>...</th>\n",
       "      <th>splists</th>\n",
       "      <th>e_RA</th>\n",
       "      <th>e_Dec</th>\n",
       "      <th>RA_orig</th>\n",
       "      <th>Dec_orig</th>\n",
       "      <th>e_RA_orig</th>\n",
       "      <th>e_Dec_orig</th>\n",
       "      <th>raddflag</th>\n",
       "      <th>wdflag</th>\n",
       "      <th>dstArcSec</th>\n",
       "    </tr>\n",
       "  </thead>\n",
       "  <tbody>\n",
       "    <tr>\n",
       "      <th>0</th>\n",
       "      <td>460205581</td>\n",
       "      <td>157.037461</td>\n",
       "      <td>-64.505259</td>\n",
       "      <td>-18.016500</td>\n",
       "      <td>11.306800</td>\n",
       "      <td>9.9322</td>\n",
       "      <td>STAR</td>\n",
       "      <td>tmgaia2</td>\n",
       "      <td>20190415</td>\n",
       "      <td>NaN</td>\n",
       "      <td>...</td>\n",
       "      <td>NaN</td>\n",
       "      <td>0.720185</td>\n",
       "      <td>0.578579</td>\n",
       "      <td>157.037281</td>\n",
       "      <td>-64.505211</td>\n",
       "      <td>0.020725</td>\n",
       "      <td>0.020265</td>\n",
       "      <td>1.0</td>\n",
       "      <td>0</td>\n",
       "      <td>0.000015</td>\n",
       "    </tr>\n",
       "    <tr>\n",
       "      <th>1</th>\n",
       "      <td>847769574</td>\n",
       "      <td>157.035998</td>\n",
       "      <td>-64.505139</td>\n",
       "      <td>-17.882300</td>\n",
       "      <td>13.026400</td>\n",
       "      <td>14.6304</td>\n",
       "      <td>STAR</td>\n",
       "      <td>gaia2</td>\n",
       "      <td>20190415</td>\n",
       "      <td>NaN</td>\n",
       "      <td>...</td>\n",
       "      <td>NaN</td>\n",
       "      <td>2.613303</td>\n",
       "      <td>2.767018</td>\n",
       "      <td>157.035819</td>\n",
       "      <td>-64.505082</td>\n",
       "      <td>0.078785</td>\n",
       "      <td>0.108097</td>\n",
       "      <td>NaN</td>\n",
       "      <td>0</td>\n",
       "      <td>2.308390</td>\n",
       "    </tr>\n",
       "    <tr>\n",
       "      <th>2</th>\n",
       "      <td>847769581</td>\n",
       "      <td>157.039280</td>\n",
       "      <td>-64.506381</td>\n",
       "      <td>-2.726400</td>\n",
       "      <td>1.312890</td>\n",
       "      <td>18.8111</td>\n",
       "      <td>STAR</td>\n",
       "      <td>gaia2</td>\n",
       "      <td>20190415</td>\n",
       "      <td>NaN</td>\n",
       "      <td>...</td>\n",
       "      <td>NaN</td>\n",
       "      <td>31.062549</td>\n",
       "      <td>26.177476</td>\n",
       "      <td>157.039253</td>\n",
       "      <td>-64.506375</td>\n",
       "      <td>0.484003</td>\n",
       "      <td>0.590284</td>\n",
       "      <td>NaN</td>\n",
       "      <td>0</td>\n",
       "      <td>4.923334</td>\n",
       "    </tr>\n",
       "    <tr>\n",
       "      <th>3</th>\n",
       "      <td>460205587</td>\n",
       "      <td>157.037153</td>\n",
       "      <td>-64.503754</td>\n",
       "      <td>-3.454460</td>\n",
       "      <td>2.432940</td>\n",
       "      <td>13.0687</td>\n",
       "      <td>STAR</td>\n",
       "      <td>tmgaia2</td>\n",
       "      <td>20190415</td>\n",
       "      <td>NaN</td>\n",
       "      <td>...</td>\n",
       "      <td>NaN</td>\n",
       "      <td>0.670007</td>\n",
       "      <td>0.480852</td>\n",
       "      <td>157.037118</td>\n",
       "      <td>-64.503743</td>\n",
       "      <td>0.019827</td>\n",
       "      <td>0.016880</td>\n",
       "      <td>0.0</td>\n",
       "      <td>0</td>\n",
       "      <td>5.442008</td>\n",
       "    </tr>\n",
       "    <tr>\n",
       "      <th>4</th>\n",
       "      <td>847769585</td>\n",
       "      <td>157.040234</td>\n",
       "      <td>-64.501723</td>\n",
       "      <td>7.146910</td>\n",
       "      <td>-10.465400</td>\n",
       "      <td>18.1557</td>\n",
       "      <td>STAR</td>\n",
       "      <td>gaia2</td>\n",
       "      <td>20190415</td>\n",
       "      <td>NaN</td>\n",
       "      <td>...</td>\n",
       "      <td>NaN</td>\n",
       "      <td>8.536804</td>\n",
       "      <td>6.479910</td>\n",
       "      <td>157.040305</td>\n",
       "      <td>-64.501768</td>\n",
       "      <td>0.210487</td>\n",
       "      <td>0.219392</td>\n",
       "      <td>1.0</td>\n",
       "      <td>0</td>\n",
       "      <td>13.437058</td>\n",
       "    </tr>\n",
       "    <tr>\n",
       "      <th>5</th>\n",
       "      <td>847769627</td>\n",
       "      <td>157.027619</td>\n",
       "      <td>-64.505263</td>\n",
       "      <td>-5.613080</td>\n",
       "      <td>4.541820</td>\n",
       "      <td>16.7610</td>\n",
       "      <td>STAR</td>\n",
       "      <td>gaia2</td>\n",
       "      <td>20190415</td>\n",
       "      <td>NaN</td>\n",
       "      <td>...</td>\n",
       "      <td>NaN</td>\n",
       "      <td>3.069764</td>\n",
       "      <td>2.419117</td>\n",
       "      <td>157.027563</td>\n",
       "      <td>-64.505243</td>\n",
       "      <td>0.084123</td>\n",
       "      <td>0.085744</td>\n",
       "      <td>1.0</td>\n",
       "      <td>0</td>\n",
       "      <td>15.249509</td>\n",
       "    </tr>\n",
       "    <tr>\n",
       "      <th>6</th>\n",
       "      <td>847769572</td>\n",
       "      <td>157.038972</td>\n",
       "      <td>-64.509546</td>\n",
       "      <td>-5.395230</td>\n",
       "      <td>2.896580</td>\n",
       "      <td>18.1274</td>\n",
       "      <td>STAR</td>\n",
       "      <td>gaia2</td>\n",
       "      <td>20190415</td>\n",
       "      <td>NaN</td>\n",
       "      <td>...</td>\n",
       "      <td>NaN</td>\n",
       "      <td>6.982370</td>\n",
       "      <td>5.506957</td>\n",
       "      <td>157.038918</td>\n",
       "      <td>-64.509533</td>\n",
       "      <td>0.184442</td>\n",
       "      <td>0.197915</td>\n",
       "      <td>1.0</td>\n",
       "      <td>0</td>\n",
       "      <td>15.608325</td>\n",
       "    </tr>\n",
       "    <tr>\n",
       "      <th>7</th>\n",
       "      <td>847769580</td>\n",
       "      <td>157.031846</td>\n",
       "      <td>-64.509027</td>\n",
       "      <td>NaN</td>\n",
       "      <td>NaN</td>\n",
       "      <td>20.5406</td>\n",
       "      <td>STAR</td>\n",
       "      <td>gaia2</td>\n",
       "      <td>20190415</td>\n",
       "      <td>NaN</td>\n",
       "      <td>...</td>\n",
       "      <td>NaN</td>\n",
       "      <td>2.200630</td>\n",
       "      <td>8.070872</td>\n",
       "      <td>157.031846</td>\n",
       "      <td>-64.509027</td>\n",
       "      <td>2.200630</td>\n",
       "      <td>8.070872</td>\n",
       "      <td>NaN</td>\n",
       "      <td>0</td>\n",
       "      <td>16.114219</td>\n",
       "    </tr>\n",
       "    <tr>\n",
       "      <th>8</th>\n",
       "      <td>847769602</td>\n",
       "      <td>157.047932</td>\n",
       "      <td>-64.506415</td>\n",
       "      <td>-7.855330</td>\n",
       "      <td>3.731110</td>\n",
       "      <td>17.9435</td>\n",
       "      <td>STAR</td>\n",
       "      <td>gaia2</td>\n",
       "      <td>20190415</td>\n",
       "      <td>NaN</td>\n",
       "      <td>...</td>\n",
       "      <td>NaN</td>\n",
       "      <td>6.736638</td>\n",
       "      <td>5.541250</td>\n",
       "      <td>157.047853</td>\n",
       "      <td>-64.506398</td>\n",
       "      <td>0.167094</td>\n",
       "      <td>0.181577</td>\n",
       "      <td>1.0</td>\n",
       "      <td>0</td>\n",
       "      <td>16.749075</td>\n",
       "    </tr>\n",
       "    <tr>\n",
       "      <th>9</th>\n",
       "      <td>847769573</td>\n",
       "      <td>157.044491</td>\n",
       "      <td>-64.508843</td>\n",
       "      <td>-3.782770</td>\n",
       "      <td>2.730920</td>\n",
       "      <td>19.0237</td>\n",
       "      <td>STAR</td>\n",
       "      <td>gaia2</td>\n",
       "      <td>20190415</td>\n",
       "      <td>NaN</td>\n",
       "      <td>...</td>\n",
       "      <td>NaN</td>\n",
       "      <td>10.892670</td>\n",
       "      <td>8.154198</td>\n",
       "      <td>157.044453</td>\n",
       "      <td>-64.508831</td>\n",
       "      <td>0.283480</td>\n",
       "      <td>0.290217</td>\n",
       "      <td>1.0</td>\n",
       "      <td>0</td>\n",
       "      <td>16.883263</td>\n",
       "    </tr>\n",
       "    <tr>\n",
       "      <th>10</th>\n",
       "      <td>847769623</td>\n",
       "      <td>157.027448</td>\n",
       "      <td>-64.507798</td>\n",
       "      <td>-3.769030</td>\n",
       "      <td>3.307390</td>\n",
       "      <td>19.3759</td>\n",
       "      <td>STAR</td>\n",
       "      <td>gaia2</td>\n",
       "      <td>20190415</td>\n",
       "      <td>NaN</td>\n",
       "      <td>...</td>\n",
       "      <td>NaN</td>\n",
       "      <td>19.993833</td>\n",
       "      <td>19.536125</td>\n",
       "      <td>157.027410</td>\n",
       "      <td>-64.507783</td>\n",
       "      <td>0.403536</td>\n",
       "      <td>0.569229</td>\n",
       "      <td>1.0</td>\n",
       "      <td>0</td>\n",
       "      <td>18.005509</td>\n",
       "    </tr>\n",
       "    <tr>\n",
       "      <th>11</th>\n",
       "      <td>847769569</td>\n",
       "      <td>157.030311</td>\n",
       "      <td>-64.509324</td>\n",
       "      <td>-6.299780</td>\n",
       "      <td>3.972830</td>\n",
       "      <td>18.7875</td>\n",
       "      <td>STAR</td>\n",
       "      <td>gaia2</td>\n",
       "      <td>20190415</td>\n",
       "      <td>NaN</td>\n",
       "      <td>...</td>\n",
       "      <td>NaN</td>\n",
       "      <td>10.434826</td>\n",
       "      <td>8.067183</td>\n",
       "      <td>157.030248</td>\n",
       "      <td>-64.509307</td>\n",
       "      <td>0.267257</td>\n",
       "      <td>0.283474</td>\n",
       "      <td>1.0</td>\n",
       "      <td>0</td>\n",
       "      <td>18.352822</td>\n",
       "    </tr>\n",
       "    <tr>\n",
       "      <th>12</th>\n",
       "      <td>847769586</td>\n",
       "      <td>157.049478</td>\n",
       "      <td>-64.505054</td>\n",
       "      <td>-0.684344</td>\n",
       "      <td>1.491410</td>\n",
       "      <td>18.1820</td>\n",
       "      <td>STAR</td>\n",
       "      <td>gaia2</td>\n",
       "      <td>20190415</td>\n",
       "      <td>NaN</td>\n",
       "      <td>...</td>\n",
       "      <td>NaN</td>\n",
       "      <td>7.765447</td>\n",
       "      <td>5.796702</td>\n",
       "      <td>157.049471</td>\n",
       "      <td>-64.505048</td>\n",
       "      <td>0.190927</td>\n",
       "      <td>0.200065</td>\n",
       "      <td>1.0</td>\n",
       "      <td>0</td>\n",
       "      <td>18.635636</td>\n",
       "    </tr>\n",
       "    <tr>\n",
       "      <th>13</th>\n",
       "      <td>847769587</td>\n",
       "      <td>157.043985</td>\n",
       "      <td>-64.500893</td>\n",
       "      <td>-8.612700</td>\n",
       "      <td>1.971230</td>\n",
       "      <td>17.8043</td>\n",
       "      <td>STAR</td>\n",
       "      <td>gaia2</td>\n",
       "      <td>20190415</td>\n",
       "      <td>NaN</td>\n",
       "      <td>...</td>\n",
       "      <td>NaN</td>\n",
       "      <td>5.187459</td>\n",
       "      <td>4.311195</td>\n",
       "      <td>157.043899</td>\n",
       "      <td>-64.500885</td>\n",
       "      <td>0.137229</td>\n",
       "      <td>0.146045</td>\n",
       "      <td>1.0</td>\n",
       "      <td>0</td>\n",
       "      <td>18.689226</td>\n",
       "    </tr>\n",
       "    <tr>\n",
       "      <th>14</th>\n",
       "      <td>847769614</td>\n",
       "      <td>157.027462</td>\n",
       "      <td>-64.508623</td>\n",
       "      <td>-5.199310</td>\n",
       "      <td>3.087170</td>\n",
       "      <td>19.2272</td>\n",
       "      <td>STAR</td>\n",
       "      <td>gaia2</td>\n",
       "      <td>20190415</td>\n",
       "      <td>NaN</td>\n",
       "      <td>...</td>\n",
       "      <td>NaN</td>\n",
       "      <td>12.552915</td>\n",
       "      <td>9.822076</td>\n",
       "      <td>157.027410</td>\n",
       "      <td>-64.508609</td>\n",
       "      <td>0.311658</td>\n",
       "      <td>0.349089</td>\n",
       "      <td>1.0</td>\n",
       "      <td>0</td>\n",
       "      <td>19.662573</td>\n",
       "    </tr>\n",
       "    <tr>\n",
       "      <th>15</th>\n",
       "      <td>847769622</td>\n",
       "      <td>157.027815</td>\n",
       "      <td>-64.501616</td>\n",
       "      <td>-4.409610</td>\n",
       "      <td>-0.346238</td>\n",
       "      <td>19.5806</td>\n",
       "      <td>STAR</td>\n",
       "      <td>gaia2</td>\n",
       "      <td>20190415</td>\n",
       "      <td>NaN</td>\n",
       "      <td>...</td>\n",
       "      <td>NaN</td>\n",
       "      <td>21.402899</td>\n",
       "      <td>21.070349</td>\n",
       "      <td>157.027771</td>\n",
       "      <td>-64.501618</td>\n",
       "      <td>0.438487</td>\n",
       "      <td>0.655200</td>\n",
       "      <td>1.0</td>\n",
       "      <td>0</td>\n",
       "      <td>19.885999</td>\n",
       "    </tr>\n",
       "    <tr>\n",
       "      <th>16</th>\n",
       "      <td>847769617</td>\n",
       "      <td>157.024607</td>\n",
       "      <td>-64.505875</td>\n",
       "      <td>-9.609810</td>\n",
       "      <td>16.215300</td>\n",
       "      <td>19.2100</td>\n",
       "      <td>STAR</td>\n",
       "      <td>gaia2</td>\n",
       "      <td>20190415</td>\n",
       "      <td>NaN</td>\n",
       "      <td>...</td>\n",
       "      <td>NaN</td>\n",
       "      <td>20.144653</td>\n",
       "      <td>16.653391</td>\n",
       "      <td>157.024511</td>\n",
       "      <td>-64.505805</td>\n",
       "      <td>0.470700</td>\n",
       "      <td>0.529068</td>\n",
       "      <td>1.0</td>\n",
       "      <td>0</td>\n",
       "      <td>20.039801</td>\n",
       "    </tr>\n",
       "    <tr>\n",
       "      <th>17</th>\n",
       "      <td>847769618</td>\n",
       "      <td>157.024089</td>\n",
       "      <td>-64.505192</td>\n",
       "      <td>-4.307570</td>\n",
       "      <td>2.608490</td>\n",
       "      <td>19.4684</td>\n",
       "      <td>STAR</td>\n",
       "      <td>gaia2</td>\n",
       "      <td>20190415</td>\n",
       "      <td>NaN</td>\n",
       "      <td>...</td>\n",
       "      <td>NaN</td>\n",
       "      <td>19.860909</td>\n",
       "      <td>16.575897</td>\n",
       "      <td>157.024046</td>\n",
       "      <td>-64.505181</td>\n",
       "      <td>0.484716</td>\n",
       "      <td>0.565601</td>\n",
       "      <td>1.0</td>\n",
       "      <td>0</td>\n",
       "      <td>20.721126</td>\n",
       "    </tr>\n",
       "  </tbody>\n",
       "</table>\n",
       "<p>18 rows × 125 columns</p>\n",
       "</div>"
      ],
      "text/plain": [
       "           ID          ra        dec       pmRA      pmDEC     Tmag objType  \\\n",
       "0   460205581  157.037461 -64.505259 -18.016500  11.306800   9.9322    STAR   \n",
       "1   847769574  157.035998 -64.505139 -17.882300  13.026400  14.6304    STAR   \n",
       "2   847769581  157.039280 -64.506381  -2.726400   1.312890  18.8111    STAR   \n",
       "3   460205587  157.037153 -64.503754  -3.454460   2.432940  13.0687    STAR   \n",
       "4   847769585  157.040234 -64.501723   7.146910 -10.465400  18.1557    STAR   \n",
       "5   847769627  157.027619 -64.505263  -5.613080   4.541820  16.7610    STAR   \n",
       "6   847769572  157.038972 -64.509546  -5.395230   2.896580  18.1274    STAR   \n",
       "7   847769580  157.031846 -64.509027        NaN        NaN  20.5406    STAR   \n",
       "8   847769602  157.047932 -64.506415  -7.855330   3.731110  17.9435    STAR   \n",
       "9   847769573  157.044491 -64.508843  -3.782770   2.730920  19.0237    STAR   \n",
       "10  847769623  157.027448 -64.507798  -3.769030   3.307390  19.3759    STAR   \n",
       "11  847769569  157.030311 -64.509324  -6.299780   3.972830  18.7875    STAR   \n",
       "12  847769586  157.049478 -64.505054  -0.684344   1.491410  18.1820    STAR   \n",
       "13  847769587  157.043985 -64.500893  -8.612700   1.971230  17.8043    STAR   \n",
       "14  847769614  157.027462 -64.508623  -5.199310   3.087170  19.2272    STAR   \n",
       "15  847769622  157.027815 -64.501616  -4.409610  -0.346238  19.5806    STAR   \n",
       "16  847769617  157.024607 -64.505875  -9.609810  16.215300  19.2100    STAR   \n",
       "17  847769618  157.024089 -64.505192  -4.307570   2.608490  19.4684    STAR   \n",
       "\n",
       "    typeSrc   version  HIP  ... splists       e_RA      e_Dec     RA_orig  \\\n",
       "0   tmgaia2  20190415  NaN  ...     NaN   0.720185   0.578579  157.037281   \n",
       "1     gaia2  20190415  NaN  ...     NaN   2.613303   2.767018  157.035819   \n",
       "2     gaia2  20190415  NaN  ...     NaN  31.062549  26.177476  157.039253   \n",
       "3   tmgaia2  20190415  NaN  ...     NaN   0.670007   0.480852  157.037118   \n",
       "4     gaia2  20190415  NaN  ...     NaN   8.536804   6.479910  157.040305   \n",
       "5     gaia2  20190415  NaN  ...     NaN   3.069764   2.419117  157.027563   \n",
       "6     gaia2  20190415  NaN  ...     NaN   6.982370   5.506957  157.038918   \n",
       "7     gaia2  20190415  NaN  ...     NaN   2.200630   8.070872  157.031846   \n",
       "8     gaia2  20190415  NaN  ...     NaN   6.736638   5.541250  157.047853   \n",
       "9     gaia2  20190415  NaN  ...     NaN  10.892670   8.154198  157.044453   \n",
       "10    gaia2  20190415  NaN  ...     NaN  19.993833  19.536125  157.027410   \n",
       "11    gaia2  20190415  NaN  ...     NaN  10.434826   8.067183  157.030248   \n",
       "12    gaia2  20190415  NaN  ...     NaN   7.765447   5.796702  157.049471   \n",
       "13    gaia2  20190415  NaN  ...     NaN   5.187459   4.311195  157.043899   \n",
       "14    gaia2  20190415  NaN  ...     NaN  12.552915   9.822076  157.027410   \n",
       "15    gaia2  20190415  NaN  ...     NaN  21.402899  21.070349  157.027771   \n",
       "16    gaia2  20190415  NaN  ...     NaN  20.144653  16.653391  157.024511   \n",
       "17    gaia2  20190415  NaN  ...     NaN  19.860909  16.575897  157.024046   \n",
       "\n",
       "     Dec_orig e_RA_orig e_Dec_orig raddflag wdflag  dstArcSec  \n",
       "0  -64.505211  0.020725   0.020265      1.0      0   0.000015  \n",
       "1  -64.505082  0.078785   0.108097      NaN      0   2.308390  \n",
       "2  -64.506375  0.484003   0.590284      NaN      0   4.923334  \n",
       "3  -64.503743  0.019827   0.016880      0.0      0   5.442008  \n",
       "4  -64.501768  0.210487   0.219392      1.0      0  13.437058  \n",
       "5  -64.505243  0.084123   0.085744      1.0      0  15.249509  \n",
       "6  -64.509533  0.184442   0.197915      1.0      0  15.608325  \n",
       "7  -64.509027  2.200630   8.070872      NaN      0  16.114219  \n",
       "8  -64.506398  0.167094   0.181577      1.0      0  16.749075  \n",
       "9  -64.508831  0.283480   0.290217      1.0      0  16.883263  \n",
       "10 -64.507783  0.403536   0.569229      1.0      0  18.005509  \n",
       "11 -64.509307  0.267257   0.283474      1.0      0  18.352822  \n",
       "12 -64.505048  0.190927   0.200065      1.0      0  18.635636  \n",
       "13 -64.500885  0.137229   0.146045      1.0      0  18.689226  \n",
       "14 -64.508609  0.311658   0.349089      1.0      0  19.662573  \n",
       "15 -64.501618  0.438487   0.655200      1.0      0  19.885999  \n",
       "16 -64.505805  0.470700   0.529068      1.0      0  20.039801  \n",
       "17 -64.505181  0.484716   0.565601      1.0      0  20.721126  \n",
       "\n",
       "[18 rows x 125 columns]"
      ]
     },
     "execution_count": 18,
     "metadata": {},
     "output_type": "execute_result"
    }
   ],
   "source": [
    "t = cr.Target(gaiaDR2id=5251470948229949568)\n",
    "t.query_tic_catalog(radius=21) #within 1 TESS pixel"
   ]
  },
  {
   "cell_type": "markdown",
   "metadata": {},
   "source": [
    "## estimate Av"
   ]
  },
  {
   "cell_type": "code",
   "execution_count": 19,
   "metadata": {},
   "outputs": [],
   "source": [
    "t = cr.Target(gaiaDR2id=5251470948229949568)"
   ]
  },
  {
   "cell_type": "code",
   "execution_count": 20,
   "metadata": {},
   "outputs": [
    {
     "data": {
      "text/latex": [
       "$1 \\; \\mathrm{}$"
      ],
      "text/plain": [
       "<Quantity 1.>"
      ]
     },
     "execution_count": 20,
     "metadata": {},
     "output_type": "execute_result"
    }
   ],
   "source": [
    "t.target_coord.distance"
   ]
  },
  {
   "cell_type": "code",
   "execution_count": 21,
   "metadata": {},
   "outputs": [
    {
     "name": "stdout",
     "output_type": "stream",
     "text": [
      "Querying Gaia DR2 catalog for 157.037 -64.5053 within 3.0 arcsec.\n",
      "\n"
     ]
    }
   ],
   "source": [
    "d=t.query_gaia_dr2_catalog(return_nearest_xmatch=True)"
   ]
  },
  {
   "cell_type": "code",
   "execution_count": 22,
   "metadata": {},
   "outputs": [
    {
     "data": {
      "text/latex": [
       "$143.07644 \\; \\mathrm{pc}$"
      ],
      "text/plain": [
       "<Distance 143.07643772 pc>"
      ]
     },
     "execution_count": 22,
     "metadata": {},
     "output_type": "execute_result"
    }
   ],
   "source": [
    "t.target_coord.distance"
   ]
  },
  {
   "cell_type": "raw",
   "metadata": {},
   "source": [
    "import numpy as np\n",
    "\n",
    "10**(t.gaia_params.phot_g_mean_mag - 5 * np.log10(t.target_coord.distance.pc) + 5 - t.gaia_params.a_g_val)/5"
   ]
  },
  {
   "cell_type": "code",
   "execution_count": 23,
   "metadata": {},
   "outputs": [
    {
     "data": {
      "text/plain": [
       "2.143053388595581"
      ]
     },
     "execution_count": 23,
     "metadata": {},
     "output_type": "execute_result"
    }
   ],
   "source": [
    "t.estimate_Av(map='sfd')"
   ]
  },
  {
   "cell_type": "code",
   "execution_count": 24,
   "metadata": {},
   "outputs": [
    {
     "data": {
      "text/plain": [
       "2.418096917867661"
      ]
     },
     "execution_count": 24,
     "metadata": {},
     "output_type": "execute_result"
    }
   ],
   "source": [
    "t.estimate_Av(map='planck')"
   ]
  },
  {
   "cell_type": "markdown",
   "metadata": {},
   "source": [
    "## estimate spectral type"
   ]
  },
  {
   "cell_type": "code",
   "execution_count": 25,
   "metadata": {},
   "outputs": [],
   "source": [
    "t = cr.Target(gaiaDR2id=5251470948229949568)"
   ]
  },
  {
   "cell_type": "code",
   "execution_count": 26,
   "metadata": {},
   "outputs": [
    {
     "name": "stdout",
     "output_type": "stream",
     "text": [
      "Loaded: /home/jp/github/research/project/chronos/chronos/../data/mamajek_table.csv\n",
      "Querying Gaia DR2 catalog for 157.037 -64.5053 within 3.0 arcsec.\n",
      "\n",
      "Querying TIC catalog for 157.037 -64.5053\n",
      "            within 3.0 arcsec.\n",
      "\n"
     ]
    },
    {
     "data": {
      "text/plain": [
       "'G2V'"
      ]
     },
     "execution_count": 26,
     "metadata": {},
     "output_type": "execute_result"
    }
   ],
   "source": [
    "spt, samples = t.get_spec_type(return_samples=True)\n",
    "spt"
   ]
  },
  {
   "cell_type": "code",
   "execution_count": 27,
   "metadata": {},
   "outputs": [
    {
     "data": {
      "image/png": "[encoded data removed]",
      "text/plain": [
       "<Figure size 576x360 with 1 Axes>"
      ]
     },
     "metadata": {
      "needs_background": "light"
     },
     "output_type": "display_data"
    }
   ],
   "source": [
    "fig = pl.figure(figsize=(8,5))\n",
    "nbins= len(np.unique(samples))\n",
    "pl.hist(samples, bins=nbins);"
   ]
  },
  {
   "cell_type": "code",
   "execution_count": null,
   "metadata": {},
   "outputs": [],
   "source": []
  }
 ],
 "metadata": {
  "kernelspec": {
   "display_name": "Python 3",
   "language": "python",
   "name": "python3"
  },
  "language_info": {
   "codemirror_mode": {
    "name": "ipython",
    "version": 3
   },
   "file_extension": ".py",
   "mimetype": "text/x-python",
   "name": "python",
   "nbconvert_exporter": "python",
   "pygments_lexer": "ipython3",
   "version": "3.7.4"
  },
  "toc": {
   "base_numbering": 1,
   "nav_menu": {
    "height": "66.9952px",
    "width": "171.575px"
   },
   "number_sections": true,
   "sideBar": true,
   "skip_h1_title": false,
   "title_cell": "Table of Contents",
   "title_sidebar": "Contents",
   "toc_cell": false,
   "toc_position": {
    "height": "calc(100% - 180px)",
    "left": "10px",
    "top": "150px",
    "width": "295.529px"
   },
   "toc_section_display": true,
   "toc_window_display": true
  }
 },
 "nbformat": 4,
 "nbformat_minor": 2
}
