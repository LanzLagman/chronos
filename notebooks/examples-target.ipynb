{
 "cells": [
  {
   "cell_type": "markdown",
   "metadata": {},
   "source": [
    "# examples using chronos"
   ]
  },
  {
   "cell_type": "code",
   "execution_count": 1,
   "metadata": {},
   "outputs": [
    {
     "name": "stdout",
     "output_type": "stream",
     "text": [
      "Created TAP+ (v1.2.1) - Connection:\n",
      "\tHost: gea.esac.esa.int\n",
      "\tUse HTTPS: True\n",
      "\tPort: 443\n",
      "\tSSL Port: 443\n",
      "Created TAP+ (v1.2.1) - Connection:\n",
      "\tHost: geadata.esac.esa.int\n",
      "\tUse HTTPS: True\n",
      "\tPort: 443\n",
      "\tSSL Port: 443\n"
     ]
    }
   ],
   "source": [
    "%matplotlib inline\n",
    "import numpy as np\n",
    "import matplotlib.pyplot as pl\n",
    "import matplotlib\n",
    "matplotlib.rcParams['font.size'] = 12\n",
    "\n",
    "import chronos as cr"
   ]
  },
  {
   "cell_type": "markdown",
   "metadata": {},
   "source": [
    "## search target coordinates"
   ]
  },
  {
   "cell_type": "code",
   "execution_count": 2,
   "metadata": {},
   "outputs": [
    {
     "data": {
      "text/plain": [
       "<SkyCoord (ICRS): (ra, dec, distance) in (deg, deg, pc)\n",
       "    (354.91545833, -69.19604167, 44.0622)>"
      ]
     },
     "execution_count": 2,
     "metadata": {},
     "output_type": "execute_result"
    }
   ],
   "source": [
    "#search by toiid\n",
    "t = cr.Target(toiid=200)\n",
    "t.target_coord #note distance is also known for TOIs"
   ]
  },
  {
   "cell_type": "code",
   "execution_count": 3,
   "metadata": {},
   "outputs": [
    {
     "data": {
      "text/plain": [
       "410214986"
      ]
     },
     "execution_count": 3,
     "metadata": {},
     "output_type": "execute_result"
    }
   ],
   "source": [
    "#ticid is automatically known\n",
    "t.ticid"
   ]
  },
  {
   "cell_type": "code",
   "execution_count": 4,
   "metadata": {
    "scrolled": true
   },
   "outputs": [
    {
     "name": "stdout",
     "output_type": "stream",
     "text": [
      "TIC 410214986 is TOI 200!\n"
     ]
    },
    {
     "data": {
      "text/plain": [
       "<SkyCoord (ICRS): (ra, dec, distance) in (deg, deg, pc)\n",
       "    (354.91545833, -69.19604167, 44.0622)>"
      ]
     },
     "execution_count": 4,
     "metadata": {},
     "output_type": "execute_result"
    }
   ],
   "source": [
    "#search by ticid\n",
    "t = cr.Target(ticid=410214986)\n",
    "t.target_coord"
   ]
  },
  {
   "cell_type": "code",
   "execution_count": 5,
   "metadata": {
    "scrolled": true
   },
   "outputs": [
    {
     "data": {
      "text/plain": [
       "200.01"
      ]
     },
     "execution_count": 5,
     "metadata": {},
     "output_type": "execute_result"
    }
   ],
   "source": [
    "#toiid is retrieved if known TOI\n",
    "t.toiid"
   ]
  },
  {
   "cell_type": "code",
   "execution_count": 6,
   "metadata": {},
   "outputs": [
    {
     "data": {
      "text/plain": [
       "<SkyCoord (ICRS): (ra, dec) in deg\n",
       "    (157.03746078, -64.50525936)>"
      ]
     },
     "execution_count": 6,
     "metadata": {},
     "output_type": "execute_result"
    }
   ],
   "source": [
    "#search by gaia id (recommended)\n",
    "t = cr.Target(gaiaDR2id=5251470948229949568)\n",
    "t.target_coord"
   ]
  },
  {
   "cell_type": "code",
   "execution_count": 7,
   "metadata": {},
   "outputs": [
    {
     "data": {
      "text/plain": [
       "<SkyCoord (ICRS): (ra, dec) in deg\n",
       "    (157.03729167, -64.50521111)>"
      ]
     },
     "execution_count": 7,
     "metadata": {},
     "output_type": "execute_result"
    }
   ],
   "source": [
    "#search by ra and dec\n",
    "t = cr.Target(ra_deg=157.03729167, dec_deg=-64.50521111)\n",
    "t.target_coord"
   ]
  },
  {
   "cell_type": "code",
   "execution_count": 8,
   "metadata": {},
   "outputs": [
    {
     "data": {
      "text/plain": [
       "<SkyCoord (ICRS): (ra, dec) in deg\n",
       "    (84.291188, -80.46911982)>"
      ]
     },
     "execution_count": 8,
     "metadata": {},
     "output_type": "execute_result"
    }
   ],
   "source": [
    "#search by name\n",
    "t = cr.Target(name='Pi Mensae')\n",
    "t.target_coord"
   ]
  },
  {
   "cell_type": "code",
   "execution_count": 9,
   "metadata": {},
   "outputs": [
    {
     "data": {
      "text/plain": [
       "<SkyCoord (ICRS): (ra, dec) in deg\n",
       "    (170.132598, -2.902582)>"
      ]
     },
     "execution_count": 9,
     "metadata": {},
     "output_type": "execute_result"
    }
   ],
   "source": [
    "#name accepts EPIC\n",
    "t = cr.Target(name='EPIC 201270176')\n",
    "t.target_coord"
   ]
  },
  {
   "cell_type": "code",
   "execution_count": 10,
   "metadata": {},
   "outputs": [
    {
     "data": {
      "text/plain": [
       "<SkyCoord (ICRS): (ra, dec) in deg\n",
       "    (242.56140783, -19.31927978)>"
      ]
     },
     "execution_count": 10,
     "metadata": {},
     "output_type": "execute_result"
    }
   ],
   "source": [
    "#name accepts K2\n",
    "t = cr.Target(name='K2-33')\n",
    "t.target_coord"
   ]
  },
  {
   "cell_type": "markdown",
   "metadata": {},
   "source": [
    "## search Gaia DR2 catalog"
   ]
  },
  {
   "cell_type": "code",
   "execution_count": 11,
   "metadata": {},
   "outputs": [
    {
     "name": "stdout",
     "output_type": "stream",
     "text": [
      "Querying Gaia DR2 catalog for 157.037 -64.5053 within 5.0 arcsec.\n",
      "\n"
     ]
    },
    {
     "data": {
      "text/html": [
       "<div>\n",
       "<style scoped>\n",
       "    .dataframe tbody tr th:only-of-type {\n",
       "        vertical-align: middle;\n",
       "    }\n",
       "\n",
       "    .dataframe tbody tr th {\n",
       "        vertical-align: top;\n",
       "    }\n",
       "\n",
       "    .dataframe thead th {\n",
       "        text-align: right;\n",
       "    }\n",
       "</style>\n",
       "<table border=\"1\" class=\"dataframe\">\n",
       "  <thead>\n",
       "    <tr style=\"text-align: right;\">\n",
       "      <th></th>\n",
       "      <th>solution_id</th>\n",
       "      <th>designation</th>\n",
       "      <th>source_id</th>\n",
       "      <th>random_index</th>\n",
       "      <th>ref_epoch</th>\n",
       "      <th>ra</th>\n",
       "      <th>ra_error</th>\n",
       "      <th>dec</th>\n",
       "      <th>dec_error</th>\n",
       "      <th>parallax</th>\n",
       "      <th>...</th>\n",
       "      <th>e_bp_min_rp_percentile_lower</th>\n",
       "      <th>e_bp_min_rp_percentile_upper</th>\n",
       "      <th>flame_flags</th>\n",
       "      <th>radius_val</th>\n",
       "      <th>radius_percentile_lower</th>\n",
       "      <th>radius_percentile_upper</th>\n",
       "      <th>lum_val</th>\n",
       "      <th>lum_percentile_lower</th>\n",
       "      <th>lum_percentile_upper</th>\n",
       "      <th>distance</th>\n",
       "    </tr>\n",
       "  </thead>\n",
       "  <tbody>\n",
       "    <tr>\n",
       "      <th>0</th>\n",
       "      <td>1635721458409799680</td>\n",
       "      <td>Gaia DR2 5251470948229949568</td>\n",
       "      <td>5251470948229949568</td>\n",
       "      <td>1500767781</td>\n",
       "      <td>2015.5</td>\n",
       "      <td>157.037281</td>\n",
       "      <td>0.020725</td>\n",
       "      <td>-64.505211</td>\n",
       "      <td>0.020265</td>\n",
       "      <td>6.989271</td>\n",
       "      <td>...</td>\n",
       "      <td>0.0065</td>\n",
       "      <td>0.1059</td>\n",
       "      <td>200111</td>\n",
       "      <td>1.049562</td>\n",
       "      <td>1.023889</td>\n",
       "      <td>1.089327</td>\n",
       "      <td>1.098632</td>\n",
       "      <td>1.092309</td>\n",
       "      <td>1.104955</td>\n",
       "      <td>0.005495</td>\n",
       "    </tr>\n",
       "    <tr>\n",
       "      <th>1</th>\n",
       "      <td>1635721458409799680</td>\n",
       "      <td>Gaia DR2 5251470948222139904</td>\n",
       "      <td>5251470948222139904</td>\n",
       "      <td>169326472</td>\n",
       "      <td>2015.5</td>\n",
       "      <td>157.035819</td>\n",
       "      <td>0.078785</td>\n",
       "      <td>-64.505082</td>\n",
       "      <td>0.108097</td>\n",
       "      <td>6.678713</td>\n",
       "      <td>...</td>\n",
       "      <td>NaN</td>\n",
       "      <td>NaN</td>\n",
       "      <td>NaN</td>\n",
       "      <td>NaN</td>\n",
       "      <td>NaN</td>\n",
       "      <td>NaN</td>\n",
       "      <td>NaN</td>\n",
       "      <td>NaN</td>\n",
       "      <td>NaN</td>\n",
       "      <td>0.043712</td>\n",
       "    </tr>\n",
       "    <tr>\n",
       "      <th>2</th>\n",
       "      <td>1635721458409799680</td>\n",
       "      <td>Gaia DR2 5251470948229949184</td>\n",
       "      <td>5251470948229949184</td>\n",
       "      <td>50362545</td>\n",
       "      <td>2015.5</td>\n",
       "      <td>157.039253</td>\n",
       "      <td>0.484003</td>\n",
       "      <td>-64.506375</td>\n",
       "      <td>0.590284</td>\n",
       "      <td>0.218503</td>\n",
       "      <td>...</td>\n",
       "      <td>NaN</td>\n",
       "      <td>NaN</td>\n",
       "      <td>NaN</td>\n",
       "      <td>NaN</td>\n",
       "      <td>NaN</td>\n",
       "      <td>NaN</td>\n",
       "      <td>NaN</td>\n",
       "      <td>NaN</td>\n",
       "      <td>NaN</td>\n",
       "      <td>0.081375</td>\n",
       "    </tr>\n",
       "  </tbody>\n",
       "</table>\n",
       "<p>3 rows × 95 columns</p>\n",
       "</div>"
      ],
      "text/plain": [
       "           solution_id                   designation            source_id  \\\n",
       "0  1635721458409799680  Gaia DR2 5251470948229949568  5251470948229949568   \n",
       "1  1635721458409799680  Gaia DR2 5251470948222139904  5251470948222139904   \n",
       "2  1635721458409799680  Gaia DR2 5251470948229949184  5251470948229949184   \n",
       "\n",
       "  random_index  ref_epoch          ra  ra_error        dec  dec_error  \\\n",
       "0   1500767781     2015.5  157.037281  0.020725 -64.505211   0.020265   \n",
       "1    169326472     2015.5  157.035819  0.078785 -64.505082   0.108097   \n",
       "2     50362545     2015.5  157.039253  0.484003 -64.506375   0.590284   \n",
       "\n",
       "   parallax  ...  e_bp_min_rp_percentile_lower  e_bp_min_rp_percentile_upper  \\\n",
       "0  6.989271  ...                        0.0065                        0.1059   \n",
       "1  6.678713  ...                           NaN                           NaN   \n",
       "2  0.218503  ...                           NaN                           NaN   \n",
       "\n",
       "   flame_flags  radius_val  radius_percentile_lower  radius_percentile_upper  \\\n",
       "0       200111    1.049562                 1.023889                 1.089327   \n",
       "1          NaN         NaN                      NaN                      NaN   \n",
       "2          NaN         NaN                      NaN                      NaN   \n",
       "\n",
       "    lum_val  lum_percentile_lower  lum_percentile_upper  distance  \n",
       "0  1.098632              1.092309              1.104955  0.005495  \n",
       "1       NaN                   NaN                   NaN  0.043712  \n",
       "2       NaN                   NaN                   NaN  0.081375  \n",
       "\n",
       "[3 rows x 95 columns]"
      ]
     },
     "execution_count": 11,
     "metadata": {},
     "output_type": "execute_result"
    }
   ],
   "source": [
    "t = cr.Target(gaiaDR2id=5251470948229949568)\n",
    "t.query_gaia_dr2_catalog(radius=5)"
   ]
  },
  {
   "cell_type": "code",
   "execution_count": 12,
   "metadata": {},
   "outputs": [
    {
     "name": "stdout",
     "output_type": "stream",
     "text": [
      "Querying Gaia DR2 catalog for 157.037 -64.5053 within 3.0 arcsec.\n",
      "\n",
      "There are 2 gaia sources within 3.0 arcsec.\n"
     ]
    },
    {
     "data": {
      "text/plain": [
       "solution_id                         1635721458409799680\n",
       "designation                Gaia DR2 5251470948229949568\n",
       "source_id                           5251470948229949568\n",
       "random_index                                 1500767781\n",
       "ref_epoch                                        2015.5\n",
       "                                       ...             \n",
       "radius_percentile_upper                         1.08933\n",
       "lum_val                                         1.09863\n",
       "lum_percentile_lower                            1.09231\n",
       "lum_percentile_upper                            1.10496\n",
       "distance                                     0.00549491\n",
       "Name: 0, Length: 95, dtype: object"
      ]
     },
     "execution_count": 12,
     "metadata": {},
     "output_type": "execute_result"
    }
   ],
   "source": [
    "#return nearest position match\n",
    "t.query_gaia_dr2_catalog(return_nearest_xmatch=True)"
   ]
  },
  {
   "cell_type": "code",
   "execution_count": 13,
   "metadata": {},
   "outputs": [
    {
     "data": {
      "text/plain": [
       "solution_id                         1635721458409799680\n",
       "designation                Gaia DR2 5251470948229949568\n",
       "source_id                           5251470948229949568\n",
       "random_index                                 1500767781\n",
       "ref_epoch                                        2015.5\n",
       "                                       ...             \n",
       "radius_percentile_upper                         1.08933\n",
       "lum_val                                         1.09863\n",
       "lum_percentile_lower                            1.09231\n",
       "lum_percentile_upper                            1.10496\n",
       "distance                                     0.00549491\n",
       "Name: 0, Length: 95, dtype: object"
      ]
     },
     "execution_count": 13,
     "metadata": {},
     "output_type": "execute_result"
    }
   ],
   "source": [
    "#this is saved in gaia_params property\n",
    "t.gaia_params"
   ]
  },
  {
   "cell_type": "code",
   "execution_count": 14,
   "metadata": {},
   "outputs": [
    {
     "data": {
      "text/plain": [
       "10.3559618"
      ]
     },
     "execution_count": 14,
     "metadata": {},
     "output_type": "execute_result"
    }
   ],
   "source": [
    "#properties can be easily accessible\n",
    "t.gaia_params.phot_g_mean_mag"
   ]
  },
  {
   "cell_type": "markdown",
   "metadata": {},
   "source": [
    "## search TIC catalog"
   ]
  },
  {
   "cell_type": "code",
   "execution_count": 15,
   "metadata": {},
   "outputs": [
    {
     "name": "stdout",
     "output_type": "stream",
     "text": [
      "Querying TIC catalog for 157.037 -64.5053\n",
      "            within 21.0 arcsec.\n",
      "\n"
     ]
    },
    {
     "data": {
      "text/html": [
       "<div>\n",
       "<style scoped>\n",
       "    .dataframe tbody tr th:only-of-type {\n",
       "        vertical-align: middle;\n",
       "    }\n",
       "\n",
       "    .dataframe tbody tr th {\n",
       "        vertical-align: top;\n",
       "    }\n",
       "\n",
       "    .dataframe thead th {\n",
       "        text-align: right;\n",
       "    }\n",
       "</style>\n",
       "<table border=\"1\" class=\"dataframe\">\n",
       "  <thead>\n",
       "    <tr style=\"text-align: right;\">\n",
       "      <th></th>\n",
       "      <th>ID</th>\n",
       "      <th>ra</th>\n",
       "      <th>dec</th>\n",
       "      <th>pmRA</th>\n",
       "      <th>pmDEC</th>\n",
       "      <th>Tmag</th>\n",
       "      <th>objType</th>\n",
       "      <th>typeSrc</th>\n",
       "      <th>version</th>\n",
       "      <th>HIP</th>\n",
       "      <th>...</th>\n",
       "      <th>splists</th>\n",
       "      <th>e_RA</th>\n",
       "      <th>e_Dec</th>\n",
       "      <th>RA_orig</th>\n",
       "      <th>Dec_orig</th>\n",
       "      <th>e_RA_orig</th>\n",
       "      <th>e_Dec_orig</th>\n",
       "      <th>raddflag</th>\n",
       "      <th>wdflag</th>\n",
       "      <th>dstArcSec</th>\n",
       "    </tr>\n",
       "  </thead>\n",
       "  <tbody>\n",
       "    <tr>\n",
       "      <th>0</th>\n",
       "      <td>460205581</td>\n",
       "      <td>157.037461</td>\n",
       "      <td>-64.505259</td>\n",
       "      <td>-18.016500</td>\n",
       "      <td>11.306800</td>\n",
       "      <td>9.9322</td>\n",
       "      <td>STAR</td>\n",
       "      <td>tmgaia2</td>\n",
       "      <td>20190415</td>\n",
       "      <td>NaN</td>\n",
       "      <td>...</td>\n",
       "      <td>NaN</td>\n",
       "      <td>0.720185</td>\n",
       "      <td>0.578579</td>\n",
       "      <td>157.037281</td>\n",
       "      <td>-64.505211</td>\n",
       "      <td>0.020725</td>\n",
       "      <td>0.020265</td>\n",
       "      <td>1.0</td>\n",
       "      <td>0</td>\n",
       "      <td>0.000015</td>\n",
       "    </tr>\n",
       "    <tr>\n",
       "      <th>1</th>\n",
       "      <td>847769574</td>\n",
       "      <td>157.035998</td>\n",
       "      <td>-64.505139</td>\n",
       "      <td>-17.882300</td>\n",
       "      <td>13.026400</td>\n",
       "      <td>14.6304</td>\n",
       "      <td>STAR</td>\n",
       "      <td>gaia2</td>\n",
       "      <td>20190415</td>\n",
       "      <td>NaN</td>\n",
       "      <td>...</td>\n",
       "      <td>NaN</td>\n",
       "      <td>2.613303</td>\n",
       "      <td>2.767018</td>\n",
       "      <td>157.035819</td>\n",
       "      <td>-64.505082</td>\n",
       "      <td>0.078785</td>\n",
       "      <td>0.108097</td>\n",
       "      <td>NaN</td>\n",
       "      <td>0</td>\n",
       "      <td>2.308390</td>\n",
       "    </tr>\n",
       "    <tr>\n",
       "      <th>2</th>\n",
       "      <td>847769581</td>\n",
       "      <td>157.039280</td>\n",
       "      <td>-64.506381</td>\n",
       "      <td>-2.726400</td>\n",
       "      <td>1.312890</td>\n",
       "      <td>18.8111</td>\n",
       "      <td>STAR</td>\n",
       "      <td>gaia2</td>\n",
       "      <td>20190415</td>\n",
       "      <td>NaN</td>\n",
       "      <td>...</td>\n",
       "      <td>NaN</td>\n",
       "      <td>31.062549</td>\n",
       "      <td>26.177476</td>\n",
       "      <td>157.039253</td>\n",
       "      <td>-64.506375</td>\n",
       "      <td>0.484003</td>\n",
       "      <td>0.590284</td>\n",
       "      <td>NaN</td>\n",
       "      <td>0</td>\n",
       "      <td>4.923334</td>\n",
       "    </tr>\n",
       "    <tr>\n",
       "      <th>3</th>\n",
       "      <td>460205587</td>\n",
       "      <td>157.037153</td>\n",
       "      <td>-64.503754</td>\n",
       "      <td>-3.454460</td>\n",
       "      <td>2.432940</td>\n",
       "      <td>13.0687</td>\n",
       "      <td>STAR</td>\n",
       "      <td>tmgaia2</td>\n",
       "      <td>20190415</td>\n",
       "      <td>NaN</td>\n",
       "      <td>...</td>\n",
       "      <td>NaN</td>\n",
       "      <td>0.670007</td>\n",
       "      <td>0.480852</td>\n",
       "      <td>157.037118</td>\n",
       "      <td>-64.503743</td>\n",
       "      <td>0.019827</td>\n",
       "      <td>0.016880</td>\n",
       "      <td>0.0</td>\n",
       "      <td>0</td>\n",
       "      <td>5.442008</td>\n",
       "    </tr>\n",
       "    <tr>\n",
       "      <th>4</th>\n",
       "      <td>847769585</td>\n",
       "      <td>157.040234</td>\n",
       "      <td>-64.501723</td>\n",
       "      <td>7.146910</td>\n",
       "      <td>-10.465400</td>\n",
       "      <td>18.1557</td>\n",
       "      <td>STAR</td>\n",
       "      <td>gaia2</td>\n",
       "      <td>20190415</td>\n",
       "      <td>NaN</td>\n",
       "      <td>...</td>\n",
       "      <td>NaN</td>\n",
       "      <td>8.536804</td>\n",
       "      <td>6.479910</td>\n",
       "      <td>157.040305</td>\n",
       "      <td>-64.501768</td>\n",
       "      <td>0.210487</td>\n",
       "      <td>0.219392</td>\n",
       "      <td>1.0</td>\n",
       "      <td>0</td>\n",
       "      <td>13.437058</td>\n",
       "    </tr>\n",
       "    <tr>\n",
       "      <th>5</th>\n",
       "      <td>847769627</td>\n",
       "      <td>157.027619</td>\n",
       "      <td>-64.505263</td>\n",
       "      <td>-5.613080</td>\n",
       "      <td>4.541820</td>\n",
       "      <td>16.7610</td>\n",
       "      <td>STAR</td>\n",
       "      <td>gaia2</td>\n",
       "      <td>20190415</td>\n",
       "      <td>NaN</td>\n",
       "      <td>...</td>\n",
       "      <td>NaN</td>\n",
       "      <td>3.069764</td>\n",
       "      <td>2.419117</td>\n",
       "      <td>157.027563</td>\n",
       "      <td>-64.505243</td>\n",
       "      <td>0.084123</td>\n",
       "      <td>0.085744</td>\n",
       "      <td>1.0</td>\n",
       "      <td>0</td>\n",
       "      <td>15.249509</td>\n",
       "    </tr>\n",
       "    <tr>\n",
       "      <th>6</th>\n",
       "      <td>847769572</td>\n",
       "      <td>157.038972</td>\n",
       "      <td>-64.509546</td>\n",
       "      <td>-5.395230</td>\n",
       "      <td>2.896580</td>\n",
       "      <td>18.1274</td>\n",
       "      <td>STAR</td>\n",
       "      <td>gaia2</td>\n",
       "      <td>20190415</td>\n",
       "      <td>NaN</td>\n",
       "      <td>...</td>\n",
       "      <td>NaN</td>\n",
       "      <td>6.982370</td>\n",
       "      <td>5.506957</td>\n",
       "      <td>157.038918</td>\n",
       "      <td>-64.509533</td>\n",
       "      <td>0.184442</td>\n",
       "      <td>0.197915</td>\n",
       "      <td>1.0</td>\n",
       "      <td>0</td>\n",
       "      <td>15.608325</td>\n",
       "    </tr>\n",
       "    <tr>\n",
       "      <th>7</th>\n",
       "      <td>847769580</td>\n",
       "      <td>157.031846</td>\n",
       "      <td>-64.509027</td>\n",
       "      <td>NaN</td>\n",
       "      <td>NaN</td>\n",
       "      <td>20.5406</td>\n",
       "      <td>STAR</td>\n",
       "      <td>gaia2</td>\n",
       "      <td>20190415</td>\n",
       "      <td>NaN</td>\n",
       "      <td>...</td>\n",
       "      <td>NaN</td>\n",
       "      <td>2.200630</td>\n",
       "      <td>8.070872</td>\n",
       "      <td>157.031846</td>\n",
       "      <td>-64.509027</td>\n",
       "      <td>2.200630</td>\n",
       "      <td>8.070872</td>\n",
       "      <td>NaN</td>\n",
       "      <td>0</td>\n",
       "      <td>16.114219</td>\n",
       "    </tr>\n",
       "    <tr>\n",
       "      <th>8</th>\n",
       "      <td>847769602</td>\n",
       "      <td>157.047932</td>\n",
       "      <td>-64.506415</td>\n",
       "      <td>-7.855330</td>\n",
       "      <td>3.731110</td>\n",
       "      <td>17.9435</td>\n",
       "      <td>STAR</td>\n",
       "      <td>gaia2</td>\n",
       "      <td>20190415</td>\n",
       "      <td>NaN</td>\n",
       "      <td>...</td>\n",
       "      <td>NaN</td>\n",
       "      <td>6.736638</td>\n",
       "      <td>5.541250</td>\n",
       "      <td>157.047853</td>\n",
       "      <td>-64.506398</td>\n",
       "      <td>0.167094</td>\n",
       "      <td>0.181577</td>\n",
       "      <td>1.0</td>\n",
       "      <td>0</td>\n",
       "      <td>16.749075</td>\n",
       "    </tr>\n",
       "    <tr>\n",
       "      <th>9</th>\n",
       "      <td>847769573</td>\n",
       "      <td>157.044491</td>\n",
       "      <td>-64.508843</td>\n",
       "      <td>-3.782770</td>\n",
       "      <td>2.730920</td>\n",
       "      <td>19.0237</td>\n",
       "      <td>STAR</td>\n",
       "      <td>gaia2</td>\n",
       "      <td>20190415</td>\n",
       "      <td>NaN</td>\n",
       "      <td>...</td>\n",
       "      <td>NaN</td>\n",
       "      <td>10.892670</td>\n",
       "      <td>8.154198</td>\n",
       "      <td>157.044453</td>\n",
       "      <td>-64.508831</td>\n",
       "      <td>0.283480</td>\n",
       "      <td>0.290217</td>\n",
       "      <td>1.0</td>\n",
       "      <td>0</td>\n",
       "      <td>16.883263</td>\n",
       "    </tr>\n",
       "    <tr>\n",
       "      <th>10</th>\n",
       "      <td>847769623</td>\n",
       "      <td>157.027448</td>\n",
       "      <td>-64.507798</td>\n",
       "      <td>-3.769030</td>\n",
       "      <td>3.307390</td>\n",
       "      <td>19.3759</td>\n",
       "      <td>STAR</td>\n",
       "      <td>gaia2</td>\n",
       "      <td>20190415</td>\n",
       "      <td>NaN</td>\n",
       "      <td>...</td>\n",
       "      <td>NaN</td>\n",
       "      <td>19.993833</td>\n",
       "      <td>19.536125</td>\n",
       "      <td>157.027410</td>\n",
       "      <td>-64.507783</td>\n",
       "      <td>0.403536</td>\n",
       "      <td>0.569229</td>\n",
       "      <td>1.0</td>\n",
       "      <td>0</td>\n",
       "      <td>18.005509</td>\n",
       "    </tr>\n",
       "    <tr>\n",
       "      <th>11</th>\n",
       "      <td>847769569</td>\n",
       "      <td>157.030311</td>\n",
       "      <td>-64.509324</td>\n",
       "      <td>-6.299780</td>\n",
       "      <td>3.972830</td>\n",
       "      <td>18.7875</td>\n",
       "      <td>STAR</td>\n",
       "      <td>gaia2</td>\n",
       "      <td>20190415</td>\n",
       "      <td>NaN</td>\n",
       "      <td>...</td>\n",
       "      <td>NaN</td>\n",
       "      <td>10.434826</td>\n",
       "      <td>8.067183</td>\n",
       "      <td>157.030248</td>\n",
       "      <td>-64.509307</td>\n",
       "      <td>0.267257</td>\n",
       "      <td>0.283474</td>\n",
       "      <td>1.0</td>\n",
       "      <td>0</td>\n",
       "      <td>18.352822</td>\n",
       "    </tr>\n",
       "    <tr>\n",
       "      <th>12</th>\n",
       "      <td>847769586</td>\n",
       "      <td>157.049478</td>\n",
       "      <td>-64.505054</td>\n",
       "      <td>-0.684344</td>\n",
       "      <td>1.491410</td>\n",
       "      <td>18.1820</td>\n",
       "      <td>STAR</td>\n",
       "      <td>gaia2</td>\n",
       "      <td>20190415</td>\n",
       "      <td>NaN</td>\n",
       "      <td>...</td>\n",
       "      <td>NaN</td>\n",
       "      <td>7.765447</td>\n",
       "      <td>5.796702</td>\n",
       "      <td>157.049471</td>\n",
       "      <td>-64.505048</td>\n",
       "      <td>0.190927</td>\n",
       "      <td>0.200065</td>\n",
       "      <td>1.0</td>\n",
       "      <td>0</td>\n",
       "      <td>18.635636</td>\n",
       "    </tr>\n",
       "    <tr>\n",
       "      <th>13</th>\n",
       "      <td>847769587</td>\n",
       "      <td>157.043985</td>\n",
       "      <td>-64.500893</td>\n",
       "      <td>-8.612700</td>\n",
       "      <td>1.971230</td>\n",
       "      <td>17.8043</td>\n",
       "      <td>STAR</td>\n",
       "      <td>gaia2</td>\n",
       "      <td>20190415</td>\n",
       "      <td>NaN</td>\n",
       "      <td>...</td>\n",
       "      <td>NaN</td>\n",
       "      <td>5.187459</td>\n",
       "      <td>4.311195</td>\n",
       "      <td>157.043899</td>\n",
       "      <td>-64.500885</td>\n",
       "      <td>0.137229</td>\n",
       "      <td>0.146045</td>\n",
       "      <td>1.0</td>\n",
       "      <td>0</td>\n",
       "      <td>18.689226</td>\n",
       "    </tr>\n",
       "    <tr>\n",
       "      <th>14</th>\n",
       "      <td>847769614</td>\n",
       "      <td>157.027462</td>\n",
       "      <td>-64.508623</td>\n",
       "      <td>-5.199310</td>\n",
       "      <td>3.087170</td>\n",
       "      <td>19.2272</td>\n",
       "      <td>STAR</td>\n",
       "      <td>gaia2</td>\n",
       "      <td>20190415</td>\n",
       "      <td>NaN</td>\n",
       "      <td>...</td>\n",
       "      <td>NaN</td>\n",
       "      <td>12.552915</td>\n",
       "      <td>9.822076</td>\n",
       "      <td>157.027410</td>\n",
       "      <td>-64.508609</td>\n",
       "      <td>0.311658</td>\n",
       "      <td>0.349089</td>\n",
       "      <td>1.0</td>\n",
       "      <td>0</td>\n",
       "      <td>19.662573</td>\n",
       "    </tr>\n",
       "    <tr>\n",
       "      <th>15</th>\n",
       "      <td>847769622</td>\n",
       "      <td>157.027815</td>\n",
       "      <td>-64.501616</td>\n",
       "      <td>-4.409610</td>\n",
       "      <td>-0.346238</td>\n",
       "      <td>19.5806</td>\n",
       "      <td>STAR</td>\n",
       "      <td>gaia2</td>\n",
       "      <td>20190415</td>\n",
       "      <td>NaN</td>\n",
       "      <td>...</td>\n",
       "      <td>NaN</td>\n",
       "      <td>21.402899</td>\n",
       "      <td>21.070349</td>\n",
       "      <td>157.027771</td>\n",
       "      <td>-64.501618</td>\n",
       "      <td>0.438487</td>\n",
       "      <td>0.655200</td>\n",
       "      <td>1.0</td>\n",
       "      <td>0</td>\n",
       "      <td>19.885999</td>\n",
       "    </tr>\n",
       "    <tr>\n",
       "      <th>16</th>\n",
       "      <td>847769617</td>\n",
       "      <td>157.024607</td>\n",
       "      <td>-64.505875</td>\n",
       "      <td>-9.609810</td>\n",
       "      <td>16.215300</td>\n",
       "      <td>19.2100</td>\n",
       "      <td>STAR</td>\n",
       "      <td>gaia2</td>\n",
       "      <td>20190415</td>\n",
       "      <td>NaN</td>\n",
       "      <td>...</td>\n",
       "      <td>NaN</td>\n",
       "      <td>20.144653</td>\n",
       "      <td>16.653391</td>\n",
       "      <td>157.024511</td>\n",
       "      <td>-64.505805</td>\n",
       "      <td>0.470700</td>\n",
       "      <td>0.529068</td>\n",
       "      <td>1.0</td>\n",
       "      <td>0</td>\n",
       "      <td>20.039801</td>\n",
       "    </tr>\n",
       "    <tr>\n",
       "      <th>17</th>\n",
       "      <td>847769618</td>\n",
       "      <td>157.024089</td>\n",
       "      <td>-64.505192</td>\n",
       "      <td>-4.307570</td>\n",
       "      <td>2.608490</td>\n",
       "      <td>19.4684</td>\n",
       "      <td>STAR</td>\n",
       "      <td>gaia2</td>\n",
       "      <td>20190415</td>\n",
       "      <td>NaN</td>\n",
       "      <td>...</td>\n",
       "      <td>NaN</td>\n",
       "      <td>19.860909</td>\n",
       "      <td>16.575897</td>\n",
       "      <td>157.024046</td>\n",
       "      <td>-64.505181</td>\n",
       "      <td>0.484716</td>\n",
       "      <td>0.565601</td>\n",
       "      <td>1.0</td>\n",
       "      <td>0</td>\n",
       "      <td>20.721126</td>\n",
       "    </tr>\n",
       "  </tbody>\n",
       "</table>\n",
       "<p>18 rows × 125 columns</p>\n",
       "</div>"
      ],
      "text/plain": [
       "           ID          ra        dec       pmRA      pmDEC     Tmag objType  \\\n",
       "0   460205581  157.037461 -64.505259 -18.016500  11.306800   9.9322    STAR   \n",
       "1   847769574  157.035998 -64.505139 -17.882300  13.026400  14.6304    STAR   \n",
       "2   847769581  157.039280 -64.506381  -2.726400   1.312890  18.8111    STAR   \n",
       "3   460205587  157.037153 -64.503754  -3.454460   2.432940  13.0687    STAR   \n",
       "4   847769585  157.040234 -64.501723   7.146910 -10.465400  18.1557    STAR   \n",
       "5   847769627  157.027619 -64.505263  -5.613080   4.541820  16.7610    STAR   \n",
       "6   847769572  157.038972 -64.509546  -5.395230   2.896580  18.1274    STAR   \n",
       "7   847769580  157.031846 -64.509027        NaN        NaN  20.5406    STAR   \n",
       "8   847769602  157.047932 -64.506415  -7.855330   3.731110  17.9435    STAR   \n",
       "9   847769573  157.044491 -64.508843  -3.782770   2.730920  19.0237    STAR   \n",
       "10  847769623  157.027448 -64.507798  -3.769030   3.307390  19.3759    STAR   \n",
       "11  847769569  157.030311 -64.509324  -6.299780   3.972830  18.7875    STAR   \n",
       "12  847769586  157.049478 -64.505054  -0.684344   1.491410  18.1820    STAR   \n",
       "13  847769587  157.043985 -64.500893  -8.612700   1.971230  17.8043    STAR   \n",
       "14  847769614  157.027462 -64.508623  -5.199310   3.087170  19.2272    STAR   \n",
       "15  847769622  157.027815 -64.501616  -4.409610  -0.346238  19.5806    STAR   \n",
       "16  847769617  157.024607 -64.505875  -9.609810  16.215300  19.2100    STAR   \n",
       "17  847769618  157.024089 -64.505192  -4.307570   2.608490  19.4684    STAR   \n",
       "\n",
       "    typeSrc   version  HIP  ... splists       e_RA      e_Dec     RA_orig  \\\n",
       "0   tmgaia2  20190415  NaN  ...     NaN   0.720185   0.578579  157.037281   \n",
       "1     gaia2  20190415  NaN  ...     NaN   2.613303   2.767018  157.035819   \n",
       "2     gaia2  20190415  NaN  ...     NaN  31.062549  26.177476  157.039253   \n",
       "3   tmgaia2  20190415  NaN  ...     NaN   0.670007   0.480852  157.037118   \n",
       "4     gaia2  20190415  NaN  ...     NaN   8.536804   6.479910  157.040305   \n",
       "5     gaia2  20190415  NaN  ...     NaN   3.069764   2.419117  157.027563   \n",
       "6     gaia2  20190415  NaN  ...     NaN   6.982370   5.506957  157.038918   \n",
       "7     gaia2  20190415  NaN  ...     NaN   2.200630   8.070872  157.031846   \n",
       "8     gaia2  20190415  NaN  ...     NaN   6.736638   5.541250  157.047853   \n",
       "9     gaia2  20190415  NaN  ...     NaN  10.892670   8.154198  157.044453   \n",
       "10    gaia2  20190415  NaN  ...     NaN  19.993833  19.536125  157.027410   \n",
       "11    gaia2  20190415  NaN  ...     NaN  10.434826   8.067183  157.030248   \n",
       "12    gaia2  20190415  NaN  ...     NaN   7.765447   5.796702  157.049471   \n",
       "13    gaia2  20190415  NaN  ...     NaN   5.187459   4.311195  157.043899   \n",
       "14    gaia2  20190415  NaN  ...     NaN  12.552915   9.822076  157.027410   \n",
       "15    gaia2  20190415  NaN  ...     NaN  21.402899  21.070349  157.027771   \n",
       "16    gaia2  20190415  NaN  ...     NaN  20.144653  16.653391  157.024511   \n",
       "17    gaia2  20190415  NaN  ...     NaN  19.860909  16.575897  157.024046   \n",
       "\n",
       "     Dec_orig e_RA_orig e_Dec_orig raddflag wdflag  dstArcSec  \n",
       "0  -64.505211  0.020725   0.020265      1.0      0   0.000015  \n",
       "1  -64.505082  0.078785   0.108097      NaN      0   2.308390  \n",
       "2  -64.506375  0.484003   0.590284      NaN      0   4.923334  \n",
       "3  -64.503743  0.019827   0.016880      0.0      0   5.442008  \n",
       "4  -64.501768  0.210487   0.219392      1.0      0  13.437058  \n",
       "5  -64.505243  0.084123   0.085744      1.0      0  15.249509  \n",
       "6  -64.509533  0.184442   0.197915      1.0      0  15.608325  \n",
       "7  -64.509027  2.200630   8.070872      NaN      0  16.114219  \n",
       "8  -64.506398  0.167094   0.181577      1.0      0  16.749075  \n",
       "9  -64.508831  0.283480   0.290217      1.0      0  16.883263  \n",
       "10 -64.507783  0.403536   0.569229      1.0      0  18.005509  \n",
       "11 -64.509307  0.267257   0.283474      1.0      0  18.352822  \n",
       "12 -64.505048  0.190927   0.200065      1.0      0  18.635636  \n",
       "13 -64.500885  0.137229   0.146045      1.0      0  18.689226  \n",
       "14 -64.508609  0.311658   0.349089      1.0      0  19.662573  \n",
       "15 -64.501618  0.438487   0.655200      1.0      0  19.885999  \n",
       "16 -64.505805  0.470700   0.529068      1.0      0  20.039801  \n",
       "17 -64.505181  0.484716   0.565601      1.0      0  20.721126  \n",
       "\n",
       "[18 rows x 125 columns]"
      ]
     },
     "execution_count": 15,
     "metadata": {},
     "output_type": "execute_result"
    }
   ],
   "source": [
    "t = cr.Target(gaiaDR2id=5251470948229949568)\n",
    "t.query_tic_catalog(radius=21) #21\"~1 TESS pixel"
   ]
  },
  {
   "cell_type": "code",
   "execution_count": 16,
   "metadata": {},
   "outputs": [
    {
     "name": "stdout",
     "output_type": "stream",
     "text": [
      "Querying TIC catalog for 157.037 -64.5053\n",
      "            within 3.0 arcsec.\n",
      "\n",
      "There are 2 TIC stars within 3.0 arcsec\n"
     ]
    },
    {
     "data": {
      "text/plain": [
       "ID              460205581\n",
       "ra                157.037\n",
       "dec              -64.5053\n",
       "pmRA             -18.0165\n",
       "pmDEC             11.3068\n",
       "                 ...     \n",
       "e_RA_orig       0.0207253\n",
       "e_Dec_orig      0.0202653\n",
       "raddflag                1\n",
       "wdflag                  0\n",
       "dstArcSec     1.47538e-05\n",
       "Name: 0, Length: 125, dtype: object"
      ]
     },
     "execution_count": 16,
     "metadata": {},
     "output_type": "execute_result"
    }
   ],
   "source": [
    "#return nearest position match\n",
    "t.query_tic_catalog(return_nearest_xmatch=True) "
   ]
  },
  {
   "cell_type": "code",
   "execution_count": 17,
   "metadata": {},
   "outputs": [
    {
     "data": {
      "text/plain": [
       "9.9322"
      ]
     },
     "execution_count": 17,
     "metadata": {},
     "output_type": "execute_result"
    }
   ],
   "source": [
    "#properties can be easily accessible\n",
    "t.tic_params.Tmag"
   ]
  },
  {
   "cell_type": "markdown",
   "metadata": {},
   "source": [
    "## validate catalog cross-match"
   ]
  },
  {
   "cell_type": "code",
   "execution_count": 18,
   "metadata": {},
   "outputs": [
    {
     "name": "stdout",
     "output_type": "stream",
     "text": [
      "Querying Gaia DR2 catalog for 157.037 -64.5053 within 3.0 arcsec.\n",
      "\n",
      "There are 2 gaia sources within 3.0 arcsec.\n",
      "Querying TIC catalog for 157.037 -64.5053\n",
      "            within 3.0 arcsec.\n",
      "\n",
      "There are 2 TIC stars within 3.0 arcsec\n"
     ]
    }
   ],
   "source": [
    "t = cr.Target(gaiaDR2id=5251470948229949568)\n",
    "#query nearest position match in gaia and tic catalogs\n",
    "gaia_params = t.query_gaia_dr2_catalog(return_nearest_xmatch=True)\n",
    "tic_params = t.query_tic_catalog(return_nearest_xmatch=True)"
   ]
  },
  {
   "cell_type": "code",
   "execution_count": 19,
   "metadata": {},
   "outputs": [
    {
     "name": "stdout",
     "output_type": "stream",
     "text": [
      "Gaia and TIC catalog cross-match succeeded.\n"
     ]
    }
   ],
   "source": [
    "#validate by comparing stellar properties e.g. magnitude, parallax, etc\n",
    "t.validate_gaia_tic_xmatch()"
   ]
  },
  {
   "cell_type": "markdown",
   "metadata": {},
   "source": [
    "## estimate Av"
   ]
  },
  {
   "cell_type": "code",
   "execution_count": 20,
   "metadata": {},
   "outputs": [],
   "source": [
    "t = cr.Target(gaiaDR2id=5251470948229949568)"
   ]
  },
  {
   "cell_type": "code",
   "execution_count": 21,
   "metadata": {},
   "outputs": [
    {
     "data": {
      "text/latex": [
       "$1 \\; \\mathrm{}$"
      ],
      "text/plain": [
       "<Quantity 1.>"
      ]
     },
     "execution_count": 21,
     "metadata": {},
     "output_type": "execute_result"
    }
   ],
   "source": [
    "t.target_coord.distance"
   ]
  },
  {
   "cell_type": "code",
   "execution_count": 22,
   "metadata": {},
   "outputs": [
    {
     "name": "stdout",
     "output_type": "stream",
     "text": [
      "Querying Gaia DR2 catalog for 157.037 -64.5053 within 3.0 arcsec.\n",
      "\n",
      "There are 2 gaia sources within 3.0 arcsec.\n"
     ]
    }
   ],
   "source": [
    "#after cross-matching, parallax and hence distance is known\n",
    "d=t.query_gaia_dr2_catalog(return_nearest_xmatch=True)"
   ]
  },
  {
   "cell_type": "code",
   "execution_count": 23,
   "metadata": {},
   "outputs": [
    {
     "data": {
      "text/latex": [
       "$143.07644 \\; \\mathrm{pc}$"
      ],
      "text/plain": [
       "<Distance 143.07643772 pc>"
      ]
     },
     "execution_count": 23,
     "metadata": {},
     "output_type": "execute_result"
    }
   ],
   "source": [
    "t.target_coord.distance"
   ]
  },
  {
   "cell_type": "raw",
   "metadata": {},
   "source": [
    "import numpy as np\n",
    "\n",
    "10**(t.gaia_params.phot_g_mean_mag - 5 * np.log10(t.target_coord.distance.pc) + 5 - t.gaia_params.a_g_val)/5"
   ]
  },
  {
   "cell_type": "code",
   "execution_count": 24,
   "metadata": {
    "scrolled": true
   },
   "outputs": [
    {
     "data": {
      "text/plain": [
       "2.143053388595581"
      ]
     },
     "execution_count": 24,
     "metadata": {},
     "output_type": "execute_result"
    }
   ],
   "source": [
    "t.estimate_Av(map='sfd')"
   ]
  },
  {
   "cell_type": "raw",
   "metadata": {},
   "source": [
    "t.estimate_Av(map='planck')"
   ]
  },
  {
   "cell_type": "markdown",
   "metadata": {},
   "source": [
    "## estimate spectral type"
   ]
  },
  {
   "cell_type": "code",
   "execution_count": 25,
   "metadata": {},
   "outputs": [],
   "source": [
    "t = cr.Target(gaiaDR2id=5251470948229949568)"
   ]
  },
  {
   "cell_type": "code",
   "execution_count": 26,
   "metadata": {},
   "outputs": [
    {
     "name": "stdout",
     "output_type": "stream",
     "text": [
      "Loaded: /home/jp/github/research/project/chronos/chronos/../data/mamajek_table.csv\n",
      "Querying Gaia DR2 catalog for 157.037 -64.5053 within 3.0 arcsec.\n",
      "\n",
      "There are 2 gaia sources within 3.0 arcsec.\n",
      "Querying TIC catalog for 157.037 -64.5053\n",
      "            within 3.0 arcsec.\n",
      "\n",
      "There are 2 TIC stars within 3.0 arcsec\n"
     ]
    },
    {
     "data": {
      "text/plain": [
       "'G2V'"
      ]
     },
     "execution_count": 26,
     "metadata": {},
     "output_type": "execute_result"
    }
   ],
   "source": [
    "#uses Monte Carlo \n",
    "spec_types, samples = t.get_spec_type(return_samples=True)\n",
    "spec_types"
   ]
  },
  {
   "cell_type": "code",
   "execution_count": 27,
   "metadata": {},
   "outputs": [
    {
     "data": {
      "image/png": "[encoded data removed]",
      "text/plain": [
       "<Figure size 576x360 with 1 Axes>"
      ]
     },
     "metadata": {
      "needs_background": "light"
     },
     "output_type": "display_data"
    }
   ],
   "source": [
    "#plot\n",
    "fig = pl.figure(figsize=(8,5))\n",
    "nbins= len(np.unique(samples))\n",
    "pl.hist(samples, bins=nbins);"
   ]
  },
  {
   "cell_type": "markdown",
   "metadata": {},
   "source": [
    "## check HARPS RV bank"
   ]
  },
  {
   "cell_type": "code",
   "execution_count": 28,
   "metadata": {
    "scrolled": true
   },
   "outputs": [
    {
     "name": "stdout",
     "output_type": "stream",
     "text": [
      "Loaded: /home/jp/github/research/project/chronos/chronos/../data/HARPS_RVBank_table.csv\n",
      "\n",
      "There are 1 matches: ['HD222259']\n",
      "                                                 1786\n",
      "G [mag]                                           NaN\n",
      "Dist [pc]                                        46.2\n",
      "Data products (ascii)  HD222259_harps_all-data_v1.dat\n",
      "Data products (csv)    HD222259_harps_all-data_v1.csv\n",
      "\n",
      "\n"
     ]
    },
    {
     "data": {
      "text/html": [
       "<div>\n",
       "<style scoped>\n",
       "    .dataframe tbody tr th:only-of-type {\n",
       "        vertical-align: middle;\n",
       "    }\n",
       "\n",
       "    .dataframe tbody tr th {\n",
       "        vertical-align: top;\n",
       "    }\n",
       "\n",
       "    .dataframe thead th {\n",
       "        text-align: right;\n",
       "    }\n",
       "</style>\n",
       "<table border=\"1\" class=\"dataframe\">\n",
       "  <thead>\n",
       "    <tr style=\"text-align: right;\">\n",
       "      <th></th>\n",
       "      <th>Target</th>\n",
       "      <th>RA</th>\n",
       "      <th>DEC</th>\n",
       "      <th>Sp. Type</th>\n",
       "      <th>T_eff [K]</th>\n",
       "      <th>B [mag]</th>\n",
       "      <th>V [mag]</th>\n",
       "      <th>G [mag]</th>\n",
       "      <th>Dist [pc]</th>\n",
       "      <th>Data products (ascii)</th>\n",
       "      <th>Data products (csv)</th>\n",
       "    </tr>\n",
       "  </thead>\n",
       "  <tbody>\n",
       "    <tr>\n",
       "      <th>1786</th>\n",
       "      <td>HD222259</td>\n",
       "      <td>23:39:39.4804</td>\n",
       "      <td>-69:11:44.705</td>\n",
       "      <td>G6V+K3Ve</td>\n",
       "      <td>5597.5</td>\n",
       "      <td>9.19</td>\n",
       "      <td>8.226</td>\n",
       "      <td>NaN</td>\n",
       "      <td>46.2</td>\n",
       "      <td>HD222259_harps_all-data_v1.dat</td>\n",
       "      <td>HD222259_harps_all-data_v1.csv</td>\n",
       "    </tr>\n",
       "  </tbody>\n",
       "</table>\n",
       "</div>"
      ],
      "text/plain": [
       "        Target             RA            DEC  Sp. Type  T_eff [K]  B [mag]  \\\n",
       "1786  HD222259  23:39:39.4804  -69:11:44.705  G6V+K3Ve     5597.5     9.19   \n",
       "\n",
       "      V [mag]  G [mag]  Dist [pc]           Data products (ascii)  \\\n",
       "1786    8.226      NaN       46.2  HD222259_harps_all-data_v1.dat   \n",
       "\n",
       "                 Data products (csv)  \n",
       "1786  HD222259_harps_all-data_v1.csv  "
      ]
     },
     "execution_count": 28,
     "metadata": {},
     "output_type": "execute_result"
    }
   ],
   "source": [
    "#useful to get RV measurements\n",
    "t = cr.Target(toiid=200)\n",
    "df = cr.get_harps_RV(t.target_coord)\n",
    "df"
   ]
  },
  {
   "cell_type": "markdown",
   "metadata": {},
   "source": [
    "## query ESO database"
   ]
  },
  {
   "cell_type": "code",
   "execution_count": 29,
   "metadata": {},
   "outputs": [
    {
     "name": "stdout",
     "output_type": "stream",
     "text": [
      "TIC 410214986 is TOI 200!\n",
      "Searching ESO: (354.915 -69.196) with diameter=3.0 arcsec\n",
      "Available data:\n",
      "Instrument Nspectra  \n",
      "HARPS      13        \n",
      "UVES       3         \n",
      "\n",
      "Found 16 ['UVES' 'HARPS'] spectra with SNR>1\n",
      "\n",
      "There are 3 matches:\n",
      "HD222259A : ra,dec=(354.915 -69.1958)\n",
      "HD222259  : ra,dec=(354.915 -69.1958)\n",
      "DSTuc     : failed to fetch coordinates\n"
     ]
    }
   ],
   "source": [
    "#useful to get spectra\n",
    "t = cr.Target(ticid=410214986)\n",
    "df = t.query_eso()"
   ]
  },
  {
   "cell_type": "markdown",
   "metadata": {},
   "source": [
    "## query MAST"
   ]
  },
  {
   "cell_type": "code",
   "execution_count": 30,
   "metadata": {},
   "outputs": [
    {
     "name": "stdout",
     "output_type": "stream",
     "text": [
      "TIC 410214986 is TOI 200!\n",
      "Searching MAST: (354.915 -69.196) with radius=3.0 arcsec\n",
      "Available data: ['TESS/TESS', 'SPITZER_SHA/MIPS70', 'SPITZER_SHA/MIPS24', 'SPITZER_SHA/IRAC2', 'SPITZER_SHA/IRAC1', 'HLSP/TESS', 'GALEX/FUV', 'GALEX/NUV'] in ['Optical', 'Infrared', 'UV']\n"
     ]
    },
    {
     "data": {
      "text/html": [
       "<div>\n",
       "<style scoped>\n",
       "    .dataframe tbody tr th:only-of-type {\n",
       "        vertical-align: middle;\n",
       "    }\n",
       "\n",
       "    .dataframe tbody tr th {\n",
       "        vertical-align: top;\n",
       "    }\n",
       "\n",
       "    .dataframe thead th {\n",
       "        text-align: right;\n",
       "    }\n",
       "</style>\n",
       "<table border=\"1\" class=\"dataframe\">\n",
       "  <thead>\n",
       "    <tr style=\"text-align: right;\">\n",
       "      <th></th>\n",
       "      <th>intentType</th>\n",
       "      <th>obs_collection</th>\n",
       "      <th>provenance_name</th>\n",
       "      <th>instrument_name</th>\n",
       "      <th>project</th>\n",
       "      <th>filters</th>\n",
       "      <th>wavelength_region</th>\n",
       "      <th>target_name</th>\n",
       "      <th>target_classification</th>\n",
       "      <th>obs_id</th>\n",
       "      <th>...</th>\n",
       "      <th>sequence_number</th>\n",
       "      <th>s_region</th>\n",
       "      <th>jpegURL</th>\n",
       "      <th>dataURL</th>\n",
       "      <th>dataRights</th>\n",
       "      <th>mtFlag</th>\n",
       "      <th>srcDen</th>\n",
       "      <th>obsid</th>\n",
       "      <th>objID</th>\n",
       "      <th>distance</th>\n",
       "    </tr>\n",
       "  </thead>\n",
       "  <tbody>\n",
       "    <tr>\n",
       "      <th>0</th>\n",
       "      <td>science</td>\n",
       "      <td>TESS</td>\n",
       "      <td>SPOC</td>\n",
       "      <td>Photometer</td>\n",
       "      <td>TESS</td>\n",
       "      <td>TESS</td>\n",
       "      <td>Optical</td>\n",
       "      <td>TESS FFI</td>\n",
       "      <td>NaN</td>\n",
       "      <td>tess-s0001-3-2</td>\n",
       "      <td>...</td>\n",
       "      <td>1.0</td>\n",
       "      <td>POLYGON 352.51527500 -64.91754900 19.13202600 ...</td>\n",
       "      <td>NaN</td>\n",
       "      <td>NaN</td>\n",
       "      <td>PUBLIC</td>\n",
       "      <td>False</td>\n",
       "      <td>NaN</td>\n",
       "      <td>17000035426</td>\n",
       "      <td>17003534430</td>\n",
       "      <td>0.000000</td>\n",
       "    </tr>\n",
       "    <tr>\n",
       "      <th>1</th>\n",
       "      <td>science</td>\n",
       "      <td>TESS</td>\n",
       "      <td>SPOC</td>\n",
       "      <td>Photometer</td>\n",
       "      <td>TESS</td>\n",
       "      <td>TESS</td>\n",
       "      <td>Optical</td>\n",
       "      <td>410214986</td>\n",
       "      <td>NaN</td>\n",
       "      <td>tess2018206045859-s0001-0000000410214986-0120-s</td>\n",
       "      <td>...</td>\n",
       "      <td>1.0</td>\n",
       "      <td>CIRCLE ICRS 354.91455600 -69.19578700 0.00138889</td>\n",
       "      <td>NaN</td>\n",
       "      <td>mast:TESS/product/tess2018206045859-s0001-0000...</td>\n",
       "      <td>PUBLIC</td>\n",
       "      <td>False</td>\n",
       "      <td>NaN</td>\n",
       "      <td>17000008100</td>\n",
       "      <td>17001684524</td>\n",
       "      <td>0.000000</td>\n",
       "    </tr>\n",
       "    <tr>\n",
       "      <th>2</th>\n",
       "      <td>science</td>\n",
       "      <td>TESS</td>\n",
       "      <td>SPOC</td>\n",
       "      <td>Photometer</td>\n",
       "      <td>TESS</td>\n",
       "      <td>TESS</td>\n",
       "      <td>Optical</td>\n",
       "      <td>410214984</td>\n",
       "      <td>NaN</td>\n",
       "      <td>tess2018206045859-s0001-0000000410214984-0120-s</td>\n",
       "      <td>...</td>\n",
       "      <td>1.0</td>\n",
       "      <td>CIRCLE ICRS 354.91368900 -69.19433700 0.00138889</td>\n",
       "      <td>NaN</td>\n",
       "      <td>mast:TESS/product/tess2018206045859-s0001-0000...</td>\n",
       "      <td>PUBLIC</td>\n",
       "      <td>False</td>\n",
       "      <td>NaN</td>\n",
       "      <td>17000001563</td>\n",
       "      <td>17001684592</td>\n",
       "      <td>1.556626</td>\n",
       "    </tr>\n",
       "    <tr>\n",
       "      <th>3</th>\n",
       "      <td>science</td>\n",
       "      <td>SPITZER_SHA</td>\n",
       "      <td>SSC Pipeline</td>\n",
       "      <td>MIPS</td>\n",
       "      <td>NaN</td>\n",
       "      <td>MIPS70</td>\n",
       "      <td>Infrared</td>\n",
       "      <td>HIP116748</td>\n",
       "      <td>NaN</td>\n",
       "      <td>000000459C00</td>\n",
       "      <td>...</td>\n",
       "      <td>4561920.0</td>\n",
       "      <td>POLYGON ICRS -4.79581500 -69.20565900 -5.04448...</td>\n",
       "      <td>NaN</td>\n",
       "      <td>https://irsa.ipac.caltech.edu/data/SPITZER/SHA...</td>\n",
       "      <td>PUBLIC</td>\n",
       "      <td>False</td>\n",
       "      <td>NaN</td>\n",
       "      <td>19000020946</td>\n",
       "      <td>19006043025</td>\n",
       "      <td>0.000000</td>\n",
       "    </tr>\n",
       "    <tr>\n",
       "      <th>4</th>\n",
       "      <td>science</td>\n",
       "      <td>SPITZER_SHA</td>\n",
       "      <td>SSC Pipeline</td>\n",
       "      <td>MIPS</td>\n",
       "      <td>NaN</td>\n",
       "      <td>MIPS24</td>\n",
       "      <td>Infrared</td>\n",
       "      <td>HIP116748</td>\n",
       "      <td>NaN</td>\n",
       "      <td>000000459C00</td>\n",
       "      <td>...</td>\n",
       "      <td>4561920.0</td>\n",
       "      <td>POLYGON ICRS -4.72141000 -69.18714500 -5.04659...</td>\n",
       "      <td>NaN</td>\n",
       "      <td>https://irsa.ipac.caltech.edu/data/SPITZER/SHA...</td>\n",
       "      <td>PUBLIC</td>\n",
       "      <td>False</td>\n",
       "      <td>NaN</td>\n",
       "      <td>19000020946</td>\n",
       "      <td>19006039620</td>\n",
       "      <td>0.000000</td>\n",
       "    </tr>\n",
       "  </tbody>\n",
       "</table>\n",
       "<p>5 rows × 34 columns</p>\n",
       "</div>"
      ],
      "text/plain": [
       "  intentType obs_collection provenance_name instrument_name project filters  \\\n",
       "0    science           TESS            SPOC      Photometer    TESS    TESS   \n",
       "1    science           TESS            SPOC      Photometer    TESS    TESS   \n",
       "2    science           TESS            SPOC      Photometer    TESS    TESS   \n",
       "3    science    SPITZER_SHA    SSC Pipeline            MIPS     NaN  MIPS70   \n",
       "4    science    SPITZER_SHA    SSC Pipeline            MIPS     NaN  MIPS24   \n",
       "\n",
       "  wavelength_region target_name target_classification  \\\n",
       "0           Optical    TESS FFI                   NaN   \n",
       "1           Optical   410214986                   NaN   \n",
       "2           Optical   410214984                   NaN   \n",
       "3          Infrared   HIP116748                   NaN   \n",
       "4          Infrared   HIP116748                   NaN   \n",
       "\n",
       "                                            obs_id  ...  sequence_number  \\\n",
       "0                                   tess-s0001-3-2  ...              1.0   \n",
       "1  tess2018206045859-s0001-0000000410214986-0120-s  ...              1.0   \n",
       "2  tess2018206045859-s0001-0000000410214984-0120-s  ...              1.0   \n",
       "3                                     000000459C00  ...        4561920.0   \n",
       "4                                     000000459C00  ...        4561920.0   \n",
       "\n",
       "                                            s_region jpegURL  \\\n",
       "0  POLYGON 352.51527500 -64.91754900 19.13202600 ...     NaN   \n",
       "1   CIRCLE ICRS 354.91455600 -69.19578700 0.00138889     NaN   \n",
       "2   CIRCLE ICRS 354.91368900 -69.19433700 0.00138889     NaN   \n",
       "3  POLYGON ICRS -4.79581500 -69.20565900 -5.04448...     NaN   \n",
       "4  POLYGON ICRS -4.72141000 -69.18714500 -5.04659...     NaN   \n",
       "\n",
       "                                             dataURL  dataRights  mtFlag  \\\n",
       "0                                                NaN      PUBLIC   False   \n",
       "1  mast:TESS/product/tess2018206045859-s0001-0000...      PUBLIC   False   \n",
       "2  mast:TESS/product/tess2018206045859-s0001-0000...      PUBLIC   False   \n",
       "3  https://irsa.ipac.caltech.edu/data/SPITZER/SHA...      PUBLIC   False   \n",
       "4  https://irsa.ipac.caltech.edu/data/SPITZER/SHA...      PUBLIC   False   \n",
       "\n",
       "   srcDen        obsid        objID  distance  \n",
       "0     NaN  17000035426  17003534430  0.000000  \n",
       "1     NaN  17000008100  17001684524  0.000000  \n",
       "2     NaN  17000001563  17001684592  1.556626  \n",
       "3     NaN  19000020946  19006043025  0.000000  \n",
       "4     NaN  19000020946  19006039620  0.000000  \n",
       "\n",
       "[5 rows x 34 columns]"
      ]
     },
     "execution_count": 30,
     "metadata": {},
     "output_type": "execute_result"
    }
   ],
   "source": [
    "#useful to get data from other space telescope e.g. Spitzer, Galex if any\n",
    "t = cr.Target(ticid=410214986)\n",
    "df = t.query_mast()\n",
    "df.head()"
   ]
  },
  {
   "cell_type": "markdown",
   "metadata": {},
   "source": [
    "## query Simbad"
   ]
  },
  {
   "cell_type": "code",
   "execution_count": 31,
   "metadata": {},
   "outputs": [
    {
     "name": "stdout",
     "output_type": "stream",
     "text": [
      "TIC 410214986 is TOI 200!\n",
      "Searching MAST: (<SkyCoord (ICRS): (ra, dec, distance) in (deg, deg, pc)\n",
      "    (354.91545833, -69.19604167, 44.0622)>) with radius=3.0 arcsec\n"
     ]
    },
    {
     "data": {
      "text/html": [
       "<div>\n",
       "<style scoped>\n",
       "    .dataframe tbody tr th:only-of-type {\n",
       "        vertical-align: middle;\n",
       "    }\n",
       "\n",
       "    .dataframe tbody tr th {\n",
       "        vertical-align: top;\n",
       "    }\n",
       "\n",
       "    .dataframe thead th {\n",
       "        text-align: right;\n",
       "    }\n",
       "</style>\n",
       "<table border=\"1\" class=\"dataframe\">\n",
       "  <thead>\n",
       "    <tr style=\"text-align: right;\">\n",
       "      <th></th>\n",
       "      <th>MAIN_ID</th>\n",
       "      <th>RA</th>\n",
       "      <th>DEC</th>\n",
       "      <th>COO_BIBCODE</th>\n",
       "      <th>TYPED_ID</th>\n",
       "      <th>OTYPE</th>\n",
       "      <th>SP_TYPE</th>\n",
       "      <th>SP_QUAL</th>\n",
       "      <th>SP_BIBCODE</th>\n",
       "      <th>ROT_upVsini</th>\n",
       "      <th>ROT_Vsini</th>\n",
       "      <th>ROT_err</th>\n",
       "      <th>ROT_mes</th>\n",
       "      <th>ROT_qual</th>\n",
       "      <th>ROT_bibcode</th>\n",
       "      <th>MK_ds</th>\n",
       "      <th>MK_mss</th>\n",
       "      <th>MK_Spectral_type</th>\n",
       "      <th>MK_bibcode</th>\n",
       "    </tr>\n",
       "  </thead>\n",
       "  <tbody>\n",
       "    <tr>\n",
       "      <th>0</th>\n",
       "      <td>b'HD 222259A'</td>\n",
       "      <td>23 39 39.4809</td>\n",
       "      <td>-69 11 44.709</td>\n",
       "      <td>b'2018yCat.1345....0G'</td>\n",
       "      <td>b''</td>\n",
       "      <td>b'PM*'</td>\n",
       "      <td>b'G6V'</td>\n",
       "      <td>C</td>\n",
       "      <td>b'2006A&amp;A...460..695T'</td>\n",
       "      <td></td>\n",
       "      <td>18.299999</td>\n",
       "      <td>0.3</td>\n",
       "      <td>0</td>\n",
       "      <td>C</td>\n",
       "      <td>2006A&amp;A...460..695T</td>\n",
       "      <td></td>\n",
       "      <td></td>\n",
       "      <td>b'G6V'</td>\n",
       "      <td>2006A&amp;A...460..695T</td>\n",
       "    </tr>\n",
       "    <tr>\n",
       "      <th>1</th>\n",
       "      <td>b'HD 222259Ab'</td>\n",
       "      <td>23 39 39.4809</td>\n",
       "      <td>-69 11 44.709</td>\n",
       "      <td>b'2018yCat.1345....0G'</td>\n",
       "      <td>b''</td>\n",
       "      <td>b'Planet?'</td>\n",
       "      <td>b''</td>\n",
       "      <td></td>\n",
       "      <td>b''</td>\n",
       "      <td></td>\n",
       "      <td>NaN</td>\n",
       "      <td>NaN</td>\n",
       "      <td>0</td>\n",
       "      <td></td>\n",
       "      <td></td>\n",
       "      <td></td>\n",
       "      <td></td>\n",
       "      <td>b''</td>\n",
       "      <td></td>\n",
       "    </tr>\n",
       "    <tr>\n",
       "      <th>2</th>\n",
       "      <td>b'HD 222259'</td>\n",
       "      <td>23 39 39.4804</td>\n",
       "      <td>-69 11 44.705</td>\n",
       "      <td>b'2007A&amp;A...474..653V'</td>\n",
       "      <td>b''</td>\n",
       "      <td>b'RSCVn'</td>\n",
       "      <td>b'G6V+K3Ve'</td>\n",
       "      <td>C</td>\n",
       "      <td>b'2006A&amp;A...460..695T'</td>\n",
       "      <td></td>\n",
       "      <td>NaN</td>\n",
       "      <td>NaN</td>\n",
       "      <td>0</td>\n",
       "      <td></td>\n",
       "      <td></td>\n",
       "      <td></td>\n",
       "      <td></td>\n",
       "      <td>b'G6V+K3Ve'</td>\n",
       "      <td>2006A&amp;A...460..695T</td>\n",
       "    </tr>\n",
       "  </tbody>\n",
       "</table>\n",
       "</div>"
      ],
      "text/plain": [
       "          MAIN_ID             RA            DEC             COO_BIBCODE  \\\n",
       "0   b'HD 222259A'  23 39 39.4809  -69 11 44.709  b'2018yCat.1345....0G'   \n",
       "1  b'HD 222259Ab'  23 39 39.4809  -69 11 44.709  b'2018yCat.1345....0G'   \n",
       "2    b'HD 222259'  23 39 39.4804  -69 11 44.705  b'2007A&A...474..653V'   \n",
       "\n",
       "  TYPED_ID       OTYPE      SP_TYPE SP_QUAL              SP_BIBCODE  \\\n",
       "0      b''      b'PM*'       b'G6V'       C  b'2006A&A...460..695T'   \n",
       "1      b''  b'Planet?'          b''                             b''   \n",
       "2      b''    b'RSCVn'  b'G6V+K3Ve'       C  b'2006A&A...460..695T'   \n",
       "\n",
       "  ROT_upVsini  ROT_Vsini  ROT_err  ROT_mes ROT_qual          ROT_bibcode  \\\n",
       "0              18.299999      0.3        0        C  2006A&A...460..695T   \n",
       "1                    NaN      NaN        0                                 \n",
       "2                    NaN      NaN        0                                 \n",
       "\n",
       "  MK_ds MK_mss MK_Spectral_type           MK_bibcode  \n",
       "0                        b'G6V'  2006A&A...460..695T  \n",
       "1                           b''                       \n",
       "2                   b'G6V+K3Ve'  2006A&A...460..695T  "
      ]
     },
     "execution_count": 31,
     "metadata": {},
     "output_type": "execute_result"
    }
   ],
   "source": [
    "#useful to get values from literature e.g. Vsini, \n",
    "t = cr.Target(ticid=410214986)\n",
    "df = t.query_simbad()\n",
    "df.head()"
   ]
  },
  {
   "cell_type": "markdown",
   "metadata": {},
   "source": [
    "## query Vizier"
   ]
  },
  {
   "cell_type": "code",
   "execution_count": 32,
   "metadata": {},
   "outputs": [
    {
     "name": "stdout",
     "output_type": "stream",
     "text": [
      "TIC 410214986 is TOI 200!\n",
      "Searching Vizier: (354.915 -69.196) with radius=3.0 arcsec\n",
      "119 tables found.\n"
     ]
    },
    {
     "data": {
      "text/plain": [
       "TableList with 119 tables:\n",
       "\t'0:I/239/hip_main' with 15 column(s) and 1 row(s) \n",
       "\t'1:I/239/h_dm_com' with 13 column(s) and 1 row(s) \n",
       "\t'2:I/239/tyc_main' with 12 column(s) and 1 row(s) \n",
       "\t'3:I/250/catalog' with 11 column(s) and 1 row(s) \n",
       "\t'4:I/252/out' with 9 column(s) and 1 row(s) \n",
       "\t'5:I/259/tyc2' with 11 column(s) and 1 row(s) \n",
       "\t'6:I/271/out' with 12 column(s) and 1 row(s) \n",
       "\t'7:I/276/catalog' with 16 column(s) and 1 row(s) \n",
       "\t'8:I/280B/ascc' with 13 column(s) and 1 row(s) \n",
       "\t'9:I/284/out' with 15 column(s) and 1 row(s) \n",
       "\t'10:I/294A/ucac2bss' with 13 column(s) and 1 row(s) \n",
       "\t'11:I/297/out' with 20 column(s) and 1 row(s) \n",
       "\t'12:I/305/out' with 12 column(s) and 5 row(s) \n",
       "\t'13:I/311/hip2' with 14 column(s) and 1 row(s) \n",
       "\t'14:I/312/sample' with 14 column(s) and 1 row(s) \n",
       "\t'15:I/317/sample' with 14 column(s) and 1 row(s) \n",
       "\t'16:I/320/spm4' with 22 column(s) and 1 row(s) \n",
       "\t'17:I/322A/out' with 25 column(s) and 1 row(s) \n",
       "\t'18:I/324/igsl3' with 19 column(s) and 2 row(s) \n",
       "\t'19:I/337/gaia' with 15 column(s) and 1 row(s) \n",
       "\t'20:I/337/tgas' with 21 column(s) and 1 row(s) \n",
       "\t'21:I/337/tgasptyc' with 23 column(s) and 1 row(s) \n",
       "\t'22:I/339/hsoy' with 19 column(s) and 1 row(s) \n",
       "\t'23:I/340/ucac5' with 21 column(s) and 1 row(s) \n",
       "\t'24:I/345/gaia2' with 33 column(s) and 1 row(s) \n",
       "\t'25:I/347/gaia2dis' with 10 column(s) and 1 row(s) \n",
       "\t'26:I/348/catalog' with 36 column(s) and 1 row(s) \n",
       "\t'27:I/349/starhorse' with 20 column(s) and 1 row(s) \n",
       "\t'28:II/246/out' with 16 column(s) and 1 row(s) \n",
       "\t'29:II/311/wise' with 23 column(s) and 1 row(s) \n",
       "\t'30:II/328/allwise' with 29 column(s) and 1 row(s) \n",
       "\t'31:II/336/apass9' with 21 column(s) and 1 row(s) \n",
       "\t'32:II/354/tgasext' with 14 column(s) and 1 row(s) \n",
       "\t'33:II/358/smss' with 31 column(s) and 1 row(s) \n",
       "\t'34:II/359/vhs_dr4' with 35 column(s) and 3 row(s) \n",
       "\t'35:III/231/catalog' with 12 column(s) and 1 row(s) \n",
       "\t'36:III/244/mean' with 9 column(s) and 3 row(s) \n",
       "\t'37:III/252/table8' with 13 column(s) and 1 row(s) \n",
       "\t'38:III/254/crvad2' with 13 column(s) and 1 row(s) \n",
       "\t'39:IV/25/tyc2_hd' with 15 column(s) and 1 row(s) \n",
       "\t'40:IV/38/tic' with 24 column(s) and 1 row(s) \n",
       "\t'41:V/130/gcs3' with 15 column(s) and 1 row(s) \n",
       "\t'42:V/137D/XHIP' with 16 column(s) and 1 row(s) \n",
       "\t'43:V/145/sky2kv5' with 14 column(s) and 1 row(s) \n",
       "\t'44:V/148/morx' with 34 column(s) and 1 row(s) \n",
       "\t'45:VI/129/fuse' with 11 column(s) and 2 row(s) \n",
       "\t'46:VI/135/table15' with 16 column(s) and 1 row(s) \n",
       "\t'47:IX/10A/cor_pri' with 7 column(s) and 2 row(s) \n",
       "\t'48:IX/32/rosat' with 12 column(s) and 1 row(s) \n",
       "\t'49:B/denis/denis' with 16 column(s) and 2 row(s) \n",
       "\t'50:B/eso/eso_arc' with 8 column(s) and 50 row(s) \n",
       "\t'51:B/mk/mktypes' with 12 column(s) and 2 row(s) \n",
       "\t'52:B/gcvs/gcvs_cat' with 12 column(s) and 1 row(s) \n",
       "\t'53:B/wds/wds' with 17 column(s) and 1 row(s) \n",
       "\t'54:B/vsx/vsx' with 20 column(s) and 1 row(s) \n",
       "\t'55:B/pastel/pastel' with 17 column(s) and 1 row(s) \n",
       "\t'56:J/ApJ/687/1264/table5' with 17 column(s) and 2 row(s) \n",
       "\t'57:J/ApJ/703/L72/2mass' with 11 column(s) and 1 row(s) \n",
       "\t'58:J/ApJ/762/88/members' with 19 column(s) and 1 row(s) \n",
       "\t'59:J/ApJ/826/171/table3' with 12 column(s) and 1 row(s) \n",
       "\t'60:J/ApJ/833/119/distall' with 17 column(s) and 1 row(s) \n",
       "\t'61:J/ApJ/833/119/distallw' with 17 column(s) and 1 row(s) \n",
       "\t'62:J/ApJ/836/34/table2' with 11 column(s) and 1 row(s) \n",
       "\t'63:J/ApJ/856/23/members' with 19 column(s) and 1 row(s) \n",
       "\t'64:J/ApJS/208/9/table1' with 25 column(s) and 1 row(s) \n",
       "\t'65:J/ApJS/208/9/table9' with 18 column(s) and 1 row(s) \n",
       "\t'66:J/A+A/352/555/table1' with 13 column(s) and 1 row(s) \n",
       "\t'67:J/A+A/374/132/stars' with 6 column(s) and 1 row(s) \n",
       "\t'68:J/A+A/384/491/table1' with 17 column(s) and 3 row(s) \n",
       "\t'69:J/A+A/460/695/stars' with 16 column(s) and 1 row(s) \n",
       "\t'70:J/A+A/480/735/stars' with 20 column(s) and 2 row(s) \n",
       "\t'71:J/A+A/499/129/catalog' with 15 column(s) and 1 row(s) \n",
       "\t'72:J/A+A/508/833/tables' with 11 column(s) and 1 row(s) \n",
       "\t'73:J/A+A/520/A15/periods' with 15 column(s) and 1 row(s) \n",
       "\t'74:J/A+A/520/A15/tablea' with 15 column(s) and 1 row(s) \n",
       "\t'75:J/A+A/530/A138/catalog' with 15 column(s) and 1 row(s) \n",
       "\t'76:J/A+A/532/A10/tableb1' with 11 column(s) and 1 row(s) \n",
       "\t'77:J/A+A/537/A147/table4' with 15 column(s) and 1 row(s) \n",
       "\t'78:J/A+A/546/A61/tablea1' with 19 column(s) and 1 row(s) \n",
       "\t'79:J/A+A/551/L8/sindices' with 10 column(s) and 1 row(s) \n",
       "\t'80:J/A+A/552/A27/table1' with 11 column(s) and 1 row(s) \n",
       "\t'81:J/A+A/568/A26/aver-rv' with 14 column(s) and 1 row(s) \n",
       "\t'82:J/A+A/568/A26/members' with 15 column(s) and 1 row(s) \n",
       "\t'83:J/A+A/580/A23/catalog' with 23 column(s) and 1 row(s) \n",
       "\t'84:J/A+A/588/A103/cat2rxs' with 36 column(s) and 1 row(s) \n",
       "\t'85:J/A+A/590/A13/tabled1' with 16 column(s) and 1 row(s) \n",
       "\t'86:J/A+A/604/A108/unidam' with 18 column(s) and 1 row(s) \n",
       "\t'87:J/A+A/616/A108/catalog' with 13 column(s) and 1 row(s) \n",
       "\t'88:J/A+A/623/A72/hipgpma' with 42 column(s) and 1 row(s) \n",
       "\t'89:J/A+A/629/A139/table3' with 17 column(s) and 1 row(s) \n",
       "\t'90:J/A+A/633/A53/tceclass' with 21 column(s) and 2 row(s) \n",
       "\t'91:J/A+AS/138/87/table1' with 15 column(s) and 1 row(s) \n",
       "\t'92:J/AJ/111/439/table4' with 12 column(s) and 2 row(s) \n",
       "\t'93:J/AJ/126/1996/table1' with 13 column(s) and 1 row(s) \n",
       "\t'94:J/AJ/146/76/table2' with 21 column(s) and 1 row(s) \n",
       "\t'95:J/AJ/153/95/table3' with 18 column(s) and 1 row(s) \n",
       "\t'96:J/AJ/153/257/table1a' with 17 column(s) and 1 row(s) \n",
       "\t'97:J/AJ/154/115/table2' with 9 column(s) and 1 row(s) \n",
       "\t'98:J/AJ/154/259/table6' with 15 column(s) and 1 row(s) \n",
       "\t'99:J/AJ/155/149/table1' with 11 column(s) and 1 row(s) \n",
       "\t'100:J/AJ/156/102/table9' with 11 column(s) and 1 row(s) \n",
       "\t'101:J/AJ/156/137/sample' with 13 column(s) and 1 row(s) \n",
       "\t'102:J/AJ/158/93/table2' with 6 column(s) and 1 row(s) \n",
       "\t'103:J/AJ/158/141/table12' with 18 column(s) and 1 row(s) \n",
       "\t'104:J/AJ/158/187/table3' with 14 column(s) and 1 row(s) \n",
       "\t'105:J/AJ/159/19/table6' with 18 column(s) and 1 row(s) \n",
       "\t'106:J/MNRAS/328/45/singles' with 13 column(s) and 1 row(s) \n",
       "\t'107:J/MNRAS/410/190/table1' with 13 column(s) and 1 row(s) \n",
       "\t'108:J/MNRAS/427/2917/ptypes' with 23 column(s) and 1 row(s) \n",
       "\t'109:J/MNRAS/454/593/table1' with 22 column(s) and 1 row(s) \n",
       "\t'110:J/MNRAS/456/2070/table2' with 15 column(s) and 1 row(s) \n",
       "\t'111:J/MNRAS/463/4210/ucac4rpm' with 13 column(s) and 1 row(s) \n",
       "\t'112:J/MNRAS/469/3042/table1' with 17 column(s) and 1 row(s) \n",
       "\t'113:J/MNRAS/471/770/table2' with 53 column(s) and 1 row(s) \n",
       "\t'114:J/MNRAS/473/4937/2rxswg' with 21 column(s) and 1 row(s) \n",
       "\t'115:J/AZh/83/821/osaca' with 14 column(s) and 1 row(s) \n",
       "\t'116:J/PAZh/33/643/table1' with 15 column(s) and 1 row(s) \n",
       "\t'117:J/other/PASA/24.118/table1' with 14 column(s) and 1 row(s) \n",
       "\t'118:J/other/ARA+A/42.685/stars' with 16 column(s) and 1 row(s) "
      ]
     },
     "execution_count": 32,
     "metadata": {},
     "output_type": "execute_result"
    }
   ],
   "source": [
    "#useful to get tables from literature\n",
    "t = cr.Target(ticid=410214986)\n",
    "tables = t.query_vizier()\n",
    "\n",
    "#return the first 10\n",
    "tables"
   ]
  },
  {
   "cell_type": "code",
   "execution_count": 33,
   "metadata": {},
   "outputs": [
    {
     "data": {
      "text/html": [
       "<i>Table length=1</i>\n",
       "<table id=\"table139705958359312\" class=\"table-striped table-bordered table-condensed\">\n",
       "<thead><tr><th>_r</th><th>HIP</th><th>RAhms</th><th>DEdms</th><th>Vmag</th><th>RAICRS</th><th>DEICRS</th><th>Plx</th><th>pmRA</th><th>pmDE</th><th>e_Plx</th><th>B-V</th><th>Notes</th><th>_RA.icrs</th><th>_DE.icrs</th></tr></thead>\n",
       "<thead><tr><th>arcsec</th><th></th><th></th><th></th><th>mag</th><th>deg</th><th>deg</th><th>mas</th><th>mas / yr</th><th>mas / yr</th><th>mas</th><th>mag</th><th></th><th>deg</th><th>deg</th></tr></thead>\n",
       "<thead><tr><th>float64</th><th>int32</th><th>bytes11</th><th>bytes11</th><th>float32</th><th>float64</th><th>float64</th><th>float32</th><th>float64</th><th>float64</th><th>float32</th><th>float32</th><th>bytes1</th><th>float64</th><th>float64</th></tr></thead>\n",
       "<tr><td>2.508</td><td>116748</td><td>23 39 39.35</td><td>-69 11 44.1</td><td>8.17</td><td>354.91395712</td><td>-69.19558694</td><td>21.64</td><td>79.04</td><td>-67.11</td><td>1.32</td><td>0.780</td><td></td><td>354.91449801</td><td>-69.19575005</td></tr>\n",
       "</table>"
      ],
      "text/plain": [
       "<Table length=1>\n",
       "   _r    HIP      RAhms       DEdms    ... Notes    _RA.icrs     _DE.icrs  \n",
       " arcsec                                ...            deg          deg     \n",
       "float64 int32    bytes11     bytes11   ... bytes1   float64      float64   \n",
       "------- ------ ----------- ----------- ... ------ ------------ ------------\n",
       "  2.508 116748 23 39 39.35 -69 11 44.1 ...        354.91449801 -69.19575005"
      ]
     },
     "execution_count": 33,
     "metadata": {},
     "output_type": "execute_result"
    }
   ],
   "source": [
    "#check the first table\n",
    "tables[0]"
   ]
  },
  {
   "cell_type": "markdown",
   "metadata": {},
   "source": [
    "## search TESS\n",
    "\n",
    "* check which TESS sector: https://heasarc.gsfc.nasa.gov/cgi-bin/tess/webtess/wtv.py or using [tess-point](https://github.com/christopherburke/tess-point)\n",
    "* check schedule here: https://tess.mit.edu/observations/"
   ]
  },
  {
   "cell_type": "code",
   "execution_count": null,
   "metadata": {},
   "outputs": [],
   "source": []
  }
 ],
 "metadata": {
  "kernelspec": {
   "display_name": "Python 3",
   "language": "python",
   "name": "python3"
  },
  "language_info": {
   "codemirror_mode": {
    "name": "ipython",
    "version": 3
   },
   "file_extension": ".py",
   "mimetype": "text/x-python",
   "name": "python",
   "nbconvert_exporter": "python",
   "pygments_lexer": "ipython3",
   "version": "3.7.4"
  },
  "toc": {
   "base_numbering": 1,
   "nav_menu": {
    "height": "66.9952px",
    "width": "171.575px"
   },
   "number_sections": true,
   "sideBar": true,
   "skip_h1_title": true,
   "title_cell": "Table of Contents",
   "title_sidebar": "Contents",
   "toc_cell": false,
   "toc_position": {
    "height": "calc(100% - 180px)",
    "left": "10px",
    "top": "150px",
    "width": "295.529px"
   },
   "toc_section_display": true,
   "toc_window_display": true
  }
 },
 "nbformat": 4,
 "nbformat_minor": 2
}
